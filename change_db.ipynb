{
 "cells": [
  {
   "cell_type": "code",
   "execution_count": 19,
   "metadata": {},
   "outputs": [],
   "source": [
    "import sqlite3\n",
    "\n",
    "from sqlalchemy import (\n",
    "    create_engine,\n",
    "    MetaData,\n",
    "    Table,\n",
    "    Column,\n",
    "    String,\n",
    "    Integer,\n",
    "    select,\n",
    "    text\n",
    "\n",
    ")\n",
    "\n",
    "from sqlalchemy.orm import sessionmaker\n",
    "\n",
    "import pandas as pd     \n",
    "\n",
    "import numpy as np"
   ]
  },
  {
   "cell_type": "code",
   "execution_count": 29,
   "metadata": {},
   "outputs": [],
   "source": [
    "df = pd.read_json('catalog.json').T"
   ]
  },
  {
   "cell_type": "code",
   "execution_count": 18,
   "metadata": {},
   "outputs": [
    {
     "name": "stdout",
     "output_type": "stream",
     "text": [
      "SWA101    {'course_coi': 1.7000000000000002, 'course_lev...\n",
      "SWA102    {'course_coi': 1.5, 'course_level_coi': 0.0, '...\n",
      "Name: coi_data, dtype: object\n",
      "{'SWA101': {'course_coi': 1.7000000000000002, 'course_level_coi': 0.0, 'curric_coi': 1.6, 'percent_in_range': 62.2}, 'SWA102': {'course_coi': 1.5, 'course_level_coi': 0.0, 'curric_coi': 1.6, 'percent_in_range': 62.2}}\n",
      "Index(['coi_data', 'concurrent_courses', 'course_campus', 'course_credits',\n",
      "       'course_description', 'course_id', 'course_offered', 'course_title',\n",
      "       'department_abbrev', 'gpa_distro', 'is_bottleneck', 'is_gateway',\n",
      "       'prereq_graph', 'prereq_string'],\n",
      "      dtype='object')\n"
     ]
    }
   ],
   "source": [
    "print(df['coi_data'][0:2])\n",
    "dict = df['coi_data'][0:2].to_dict()\n",
    "print(dict)\n",
    "print(df.columns)"
   ]
  },
  {
   "cell_type": "code",
   "execution_count": null,
   "metadata": {},
   "outputs": [
    {
     "name": "stdout",
     "output_type": "stream",
     "text": [
      "SWA101      {'x': {'edges': {'from': {'8590': 'SWA 101'}, ...\n",
      "SWA102      {'x': {'edges': {'from': {'8590': 'SWA 101', '...\n",
      "SWA103      {'x': {'edges': {'from': {'8591': 'SWA 102', '...\n",
      "SWA134      {'x': {'edges': {'from': {'8593': 'SWA 134'}, ...\n",
      "SWA201      {'x': {'edges': {'from': {'8592': 'SWA 103', '...\n",
      "                                  ...                        \n",
      "HSERV482                                                 None\n",
      "HSERV488                                                 None\n",
      "HSERV490                                                 None\n",
      "HSERV493                                                 None\n",
      "HSERV499                                                 None\n",
      "Name: prereq_graph, Length: 5777, dtype: object\n"
     ]
    }
   ],
   "source": [
    "dropped_df = df.drop(columns=['is_gateway', 'prereq_graph', 'coi_data', ''])"
   ]
  },
  {
   "cell_type": "code",
   "execution_count": 17,
   "metadata": {},
   "outputs": [
    {
     "name": "stdout",
     "output_type": "stream",
     "text": [
      "['S.', 'AS.', 'W.', 'Sp.', 'A.']\n"
     ]
    }
   ],
   "source": [
    "#course offered contains values outside of seasons\n",
    "\n",
    "unique_quarters = df['course_offered'].unique()\n",
    "\n",
    "print([quarter for quarter in unique_quarters if len(quarter) < 9])"
   ]
  },
  {
   "cell_type": "code",
   "execution_count": 15,
   "metadata": {},
   "outputs": [
    {
     "name": "stdout",
     "output_type": "stream",
     "text": [
      "878\n"
     ]
    }
   ],
   "source": [
    "#filter out values that are not seasons\n",
    "seasons = ['S.', 'A.', 'W.', 'Sp.', 'AS.']\n",
    "\n",
    "df = df[df['course_offered'].isin(seasons)]\n",
    "\n",
    "print(len(df['course_offered'].isin(seasons)))\n"
   ]
  },
  {
   "cell_type": "code",
   "execution_count": 14,
   "metadata": {},
   "outputs": [
    {
     "name": "stdout",
     "output_type": "stream",
     "text": [
      "865\n"
     ]
    }
   ],
   "source": [
    "seasons = ['S.', 'A.', 'W.', 'Sp.']\n",
    "print(df['course_offered'].isin(seasons).sum())"
   ]
  },
  {
   "cell_type": "code",
   "execution_count": 12,
   "metadata": {},
   "outputs": [
    {
     "name": "stdout",
     "output_type": "stream",
     "text": [
      "5777\n",
      "5777\n"
     ]
    }
   ],
   "source": [
    "#confirm class id is unique\n",
    "print(len(df))\n",
    "print(df['course_id'].nunique())"
   ]
  },
  {
   "cell_type": "code",
   "execution_count": null,
   "metadata": {},
   "outputs": [
    {
     "name": "stdout",
     "output_type": "stream",
     "text": [
      "RangeIndex(start=0, stop=41, step=1)\n",
      "         0    1    2    3    4    5    6    7    8    9   ...   31   32   33  \\\n",
      "SWA101  0.0  0.0  0.0  0.0  0.0  0.0  0.0  0.0  0.0  0.0  ...  2.0  2.0  1.0   \n",
      "SWA102  0.0  0.0  0.0  0.0  0.0  0.0  0.0  1.0  0.0  2.0  ...  1.0  3.0  4.0   \n",
      "SWA103  0.0  0.0  0.0  0.0  0.0  0.0  0.0  0.0  0.0  0.0  ...  3.0  4.0  2.0   \n",
      "SWA134  0.0  0.0  0.0  0.0  0.0  0.0  0.0  0.0  0.0  0.0  ...  0.0  1.0  0.0   \n",
      "SWA201  0.0  0.0  0.0  0.0  0.0  0.0  0.0  0.0  0.0  0.0  ...  0.0  0.0  0.0   \n",
      "\n",
      "         34   35   36    37    38    39    40  \n",
      "SWA101  2.0  7.0  9.0   7.0  21.0  15.0  88.0  \n",
      "SWA102  2.0  8.0  6.0  10.0  12.0  18.0  79.0  \n",
      "SWA103  0.0  5.0  4.0   5.0   3.0   9.0  39.0  \n",
      "SWA134  0.0  0.0  0.0   0.0   0.0   1.0  22.0  \n",
      "SWA201  0.0  0.0  0.0   0.0   0.0   0.0  12.0  \n",
      "\n",
      "[5 rows x 41 columns]\n"
     ]
    },
    {
     "name": "stderr",
     "output_type": "stream",
     "text": [
      "C:\\Users\\lucas\\AppData\\Local\\Temp\\ipykernel_19944\\996865478.py:4: FutureWarning: DataFrame.applymap has been deprecated. Use DataFrame.map instead.\n",
      "  gpa_data = gpa_data.applymap(lambda x: x.get('count', 0) if isinstance(x, dict) else None)\n"
     ]
    }
   ],
   "source": [
    "#set up gpa \n",
    "\n",
    "gpa_data = df['gpa_distro'].apply(pd.Series)\n",
    "gpa_data = gpa_data.applymap(lambda x: x.get('count', 0) if isinstance(x, dict) else None)\n",
    "print(gpa_data.columns)\n",
    "print(gpa_data.head())"
   ]
  },
  {
   "cell_type": "code",
   "execution_count": null,
   "metadata": {},
   "outputs": [],
   "source": [
    "#calculating mean\n",
    "\n",
    "gpa_values = np.array([i / 10 for i in range(41)], dtype = float)\n",
    "\n",
    "total_counts = gpa_data[[i for i in range(41)]].sum(axis=1)\n",
    "\n",
    "mean_gpa = (gpa_data * gpa_values).sum(axis=1) / total_counts\n",
    "mean_gpa.name = 'mean_gpa'\n",
    "\n"
   ]
  },
  {
   "cell_type": "code",
   "execution_count": 42,
   "metadata": {},
   "outputs": [
    {
     "name": "stdout",
     "output_type": "stream",
     "text": [
      "Index(['coi_data', 'concurrent_courses', 'course_campus', 'course_credits',\n",
      "       'course_description', 'course_id', 'course_offered', 'course_title',\n",
      "       'department_abbrev', 'gpa_distro', 'is_bottleneck', 'is_gateway',\n",
      "       'prereq_graph', 'prereq_string', 'mean_gpa'],\n",
      "      dtype='object')\n",
      "<class 'pandas.core.series.Series'>\n"
     ]
    }
   ],
   "source": [
    "df_mean_gpa = pd.concat([df, mean_gpa], axis=1)\n",
    "print(df_mean_gpa.columns)\n",
    "print(type(mean_gpa))"
   ]
  },
  {
   "cell_type": "code",
   "execution_count": null,
   "metadata": {},
   "outputs": [
    {
     "name": "stdout",
     "output_type": "stream",
     "text": [
      "['seattle']\n"
     ]
    }
   ],
   "source": [
    "df_dropped = df_mean_gpa.drop(columns=['gpa_distro', 'concurrent_courses', 'prereq_graph', 'coi_data', 'is_gateway', 'is_bottleneck', 'prereq_string'], inplace = False)\n",
    "df_final = df_dropped.rename(columns = {'course_offered': 'quarters_offered'})\n"
   ]
  },
  {
   "cell_type": "code",
   "execution_count": 52,
   "metadata": {},
   "outputs": [
    {
     "name": "stdout",
     "output_type": "stream",
     "text": [
      "Index(['course_campus', 'course_credits', 'course_description', 'course_id',\n",
      "       'quarters_offered', 'course_title', 'department_abbrev', 'mean_gpa'],\n",
      "      dtype='object')\n",
      "course_campus          object\n",
      "course_credits         object\n",
      "course_description     object\n",
      "course_id              object\n",
      "quarters_offered       object\n",
      "course_title           object\n",
      "department_abbrev      object\n",
      "mean_gpa              float64\n",
      "dtype: object\n",
      "SWA101    SWA 101\n",
      "SWA102    SWA 102\n",
      "SWA103    SWA 103\n",
      "SWA134    SWA 134\n",
      "SWA201    SWA 201\n",
      "Name: course_id, dtype: object\n",
      "<class 'pandas.core.series.Series'>\n",
      "<class 'pandas.core.frame.DataFrame'>\n",
      "Index: 5777 entries, SWA101 to HSERV499\n",
      "Data columns (total 8 columns):\n",
      " #   Column              Non-Null Count  Dtype  \n",
      "---  ------              --------------  -----  \n",
      " 0   course_campus       5777 non-null   object \n",
      " 1   course_credits      5777 non-null   object \n",
      " 2   course_description  4230 non-null   object \n",
      " 3   course_id           5777 non-null   object \n",
      " 4   quarters_offered    1978 non-null   object \n",
      " 5   course_title        5777 non-null   object \n",
      " 6   department_abbrev   5777 non-null   object \n",
      " 7   mean_gpa            3534 non-null   float64\n",
      "dtypes: float64(1), object(7)\n",
      "memory usage: 535.2+ KB\n",
      "None\n"
     ]
    }
   ],
   "source": [
    "print(df_final.columns)\n",
    "print(df_final.dtypes)\n",
    "print(df_final['course_id'].head())\n",
    "print(type(df_final['course_credits']))\n",
    "print(df_final.info())"
   ]
  },
  {
   "cell_type": "code",
   "execution_count": 59,
   "metadata": {},
   "outputs": [
    {
     "name": "stdout",
     "output_type": "stream",
     "text": [
      "['CSE' 'ETHICS']\n",
      "SWA101     5.0\n",
      "SWA102     5.0\n",
      "SWA103     5.0\n",
      "SWA134    15.0\n",
      "SWA201     5.0\n",
      "Name: course_credits, dtype: object\n"
     ]
    }
   ],
   "source": [
    "print(df_final.loc[df_final['department_abbrev'].str.contains('CS')]['department_abbrev'].unique())\n",
    "print(df_final['course_credits'].head())"
   ]
  },
  {
   "cell_type": "code",
   "execution_count": 53,
   "metadata": {},
   "outputs": [
    {
     "data": {
      "text/plain": [
       "5777"
      ]
     },
     "execution_count": 53,
     "metadata": {},
     "output_type": "execute_result"
    }
   ],
   "source": [
    "# Connect to the SQLite database\n",
    "conn = sqlite3.connect('courses_temp.db')\n",
    "cursor = conn.cursor()\n",
    "\n",
    "# Define table name\n",
    "table_name = 'class_data'  # Adjust this to match your actual table name\n",
    "\n",
    "\n",
    "# Insert DataFrame into the SQLite table\n",
    "df_final.to_sql(table_name, conn, index=False)"
   ]
  },
  {
   "cell_type": "code",
   "execution_count": 66,
   "metadata": {},
   "outputs": [
    {
     "name": "stdout",
     "output_type": "stream",
     "text": [
      "Empty DataFrame\n",
      "Columns: [course_campus, course_credits, course_description, course_id, quarters_offered, course_title, department_abbrev, mean_gpa]\n",
      "Index: []\n"
     ]
    }
   ],
   "source": [
    "print(df_final.loc[(df_final['department_abbrev'].str.contains('URBAN'))])"
   ]
  }
 ],
 "metadata": {
  "kernelspec": {
   "display_name": "3.11.0",
   "language": "python",
   "name": "python3"
  },
  "language_info": {
   "codemirror_mode": {
    "name": "ipython",
    "version": 3
   },
   "file_extension": ".py",
   "mimetype": "text/x-python",
   "name": "python",
   "nbconvert_exporter": "python",
   "pygments_lexer": "ipython3",
   "version": "3.11.0"
  }
 },
 "nbformat": 4,
 "nbformat_minor": 2
}
