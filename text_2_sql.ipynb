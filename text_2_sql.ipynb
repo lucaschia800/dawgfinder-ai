{
 "cells": [
  {
   "cell_type": "code",
   "execution_count": 1,
   "metadata": {},
   "outputs": [],
   "source": [
    "\n",
    "from llama_index.core.retrievers import NLSQLRetriever\n",
    "\n",
    "import sqlite3\n",
    "import os\n",
    "import llama_index\n",
    "import sqlalchemy\n",
    "import openai\n",
    "\n",
    "from sqlalchemy import (\n",
    "    create_engine,\n",
    "    MetaData,\n",
    "    Table,\n",
    "    Column,\n",
    "    String,\n",
    "    Integer,\n",
    "    select,\n",
    ")\n",
    "\n",
    "from llama_index.core import SQLDatabase\n",
    "from llama_index.llms.openai import OpenAI\n",
    "\n",
    "\n",
    "from sqlalchemy import text\n"
   ]
  },
  {
   "cell_type": "code",
   "execution_count": 2,
   "metadata": {},
   "outputs": [],
   "source": [
    "import os\n",
    "from sqlalchemy.orm import sessionmaker"
   ]
  },
  {
   "cell_type": "code",
   "execution_count": 2,
   "metadata": {},
   "outputs": [],
   "source": [
    "api_key = os.getenv(\"OPENAI_API_KEY\")\n",
    "openai.api_key = api_key\n",
    "\n",
    "\n",
    "\n"
   ]
  },
  {
   "cell_type": "code",
   "execution_count": 9,
   "metadata": {},
   "outputs": [],
   "source": [
    "#Establishing engines and connections\n",
    "\n",
    "\n",
    "\n",
    "engine = create_engine(\"sqlite:///databases/courses_temp.db\")\n",
    "\n",
    "llm = OpenAI(temperature=0.1, model=\"gpt-3.5-turbo\")\n",
    "sql_database = SQLDatabase(engine, include_tables=[\"class_data\"])\n"
   ]
  },
  {
   "cell_type": "code",
   "execution_count": 5,
   "metadata": {},
   "outputs": [
    {
     "name": "stdout",
     "output_type": "stream",
     "text": [
      "course_campus TEXT\n",
      "course_credits TEXT\n",
      "course_description TEXT\n",
      "course_id TEXT\n",
      "quarters_offered TEXT\n",
      "course_title TEXT\n",
      "department_abbrev TEXT\n",
      "mean_gpa REAL\n"
     ]
    }
   ],
   "source": [
    "#sqlite query\n",
    "cursor.execute(\"PRAGMA table_info(class_data)\")\n",
    "tables = cursor.fetchall()\n",
    "for col in tables:\n",
    "    print(col[1], col[2])"
   ]
  },
  {
   "cell_type": "code",
   "execution_count": 9,
   "metadata": {},
   "outputs": [
    {
     "name": "stdout",
     "output_type": "stream",
     "text": [
      "('Computer Vision',)\n",
      "('Computer Security',)\n",
      "('Datacenter Systems',)\n",
      "('Autonomous Robotics',)\n"
     ]
    }
   ],
   "source": [
    "\n",
    "#sqlalchemy query\n",
    "\n",
    "with engine.connect() as con:\n",
    "    rows = con.execute(text(\"SELECT course_title\\nFROM class_data\\nWHERE department_abbrev = 'CSE'\\nAND course_credits = '4.0'\\nORDER BY mean_gpa DESC\\nLIMIT 4\"))\n",
    "    for row in rows:\n",
    "        print(row)"
   ]
  },
  {
   "cell_type": "code",
   "execution_count": 10,
   "metadata": {},
   "outputs": [],
   "source": [
    "#llama index retriever\n",
    "\n",
    "nl_sql_retriever = NLSQLRetriever(\n",
    "    sql_database, tables=[\"class_data\"], return_raw=True\n",
    ")\n"
   ]
  },
  {
   "cell_type": "code",
   "execution_count": 11,
   "metadata": {},
   "outputs": [
    {
     "name": "stdout",
     "output_type": "stream",
     "text": [
      "[NodeWithScore(node=TextNode(id_='390cf0b6-de06-4ca8-a972-46cd42be5f65', embedding=None, metadata={'sql_query': \"SELECT course_title, course_description, course_credits \\nFROM class_data \\nWHERE department_abbrev = 'UDP' OR department_abbrev = 'URBAN' OR department_abbrev = 'DP' OR department_abbrev = 'URBDP' OR department_abbrev = 'URB'\", 'result': [], 'col_keys': ['course_title', 'course_description', 'course_credits']}, excluded_embed_metadata_keys=['sql_query', 'result', 'col_keys'], excluded_llm_metadata_keys=['sql_query', 'result', 'col_keys'], relationships={}, metadata_template='{key}: {value}', metadata_separator='\\n', text='[]', mimetype='text/plain', start_char_idx=None, end_char_idx=None, metadata_seperator='\\n', text_template='{metadata_str}\\n\\n{content}'), score=None)]\n"
     ]
    }
   ],
   "source": [
    "#llama index query retriever\n",
    "\n",
    "\n",
    "query = \"\"\"\n",
    "Schema Context:\n",
    "Department_abbrev column represents the department and is abbreviated in all caps. Example: CS for Computer Science.\n",
    "Course_credits contain floating points. Example: 4.0.\n",
    "\n",
    "Choose one of these for urban: UDP, URBAN, DP, URBDP, URB\n",
    "Question:\n",
    "What are some urban design and planning courses?\"\"\"\n",
    " \n",
    "\n",
    "response = nl_sql_retriever.retrieve(query)\n",
    "print(response)\n"
   ]
  },
  {
   "cell_type": "code",
   "execution_count": 26,
   "metadata": {},
   "outputs": [
    {
     "name": "stdout",
     "output_type": "stream",
     "text": [
      "[]\n",
      "0.0\n",
      "Node ID: 390cf0b6-de06-4ca8-a972-46cd42be5f65\n",
      "Text: []\n",
      "Score: None\n",
      "\n",
      "{'sql_query': \"SELECT course_title, course_description, course_credits \\nFROM class_data \\nWHERE department_abbrev = 'UDP' OR department_abbrev = 'URBAN' OR department_abbrev = 'DP' OR department_abbrev = 'URBDP' OR department_abbrev = 'URB'\", 'result': [], 'col_keys': ['course_title', 'course_description', 'course_credits']}\n",
      "<class 'llama_index.core.schema.NodeWithScore'>\n"
     ]
    }
   ],
   "source": [
    "print(response[0].get_content())\n",
    "print(response[0].get_score())\n",
    "print(response[0])\n",
    "print(response[0].metadata)\n",
    "print(type(response[0]))"
   ]
  },
  {
   "cell_type": "code",
   "execution_count": 30,
   "metadata": {},
   "outputs": [
    {
     "name": "stdout",
     "output_type": "stream",
     "text": [
      "Condition met: result is falsy\n"
     ]
    }
   ],
   "source": [
    "if not response[0].metadata['result']:\n",
    "    print(\"Condition met: result is falsy\")\n"
   ]
  },
  {
   "cell_type": "code",
   "execution_count": 32,
   "metadata": {},
   "outputs": [
    {
     "data": {
      "text/plain": [
       "'SELECT course_title, course_description, course_credits '"
      ]
     },
     "execution_count": 32,
     "metadata": {},
     "output_type": "execute_result"
    }
   ],
   "source": [
    "response[0].metadata['sql_query'].splitlines()[0]"
   ]
  },
  {
   "cell_type": "code",
   "execution_count": 40,
   "metadata": {},
   "outputs": [
    {
     "name": "stdout",
     "output_type": "stream",
     "text": [
      "[[]]\n",
      "SELECT course_title, course_description, course_credits \n",
      "FROM class_data \n",
      "WHERE department_abbrev = 'UDP' OR department_abbrev = 'URBAN' OR department_abbrev = 'DP' OR department_abbrev = 'URBDP' OR department_abbrev = 'URB'\n"
     ]
    }
   ],
   "source": [
    "sql = \"SELECT course_title, course_description, course_credits /nFROM class_data /nWHERE department_abbrev = 'UDP' OR department_abbrev = 'URBAN' OR department_abbrev = 'DP' OR department_abbrev = 'URBDP' OR department_abbrev = 'URB AND test'\"\n",
    "\n",
    "for line_num, line in enumerate(sql.splitlines()):\n",
    "    if 'WHERE' in line:\n",
    "        where_clause = line\n",
    "        line_num = line_num\n",
    "\n",
    "        new_clause = where_clause.split('nothing')[:-1]\n",
    "        split_sql = sql.splitlines()\n",
    "        split_sql[line_num] = new_clause\n",
    "        sql = split_sql\n",
    "\n",
    "print(sql)\n",
    "print(response[0].metadata['sql_query'])"
   ]
  }
 ],
 "metadata": {
  "kernelspec": {
   "display_name": "3.11.0",
   "language": "python",
   "name": "python3"
  },
  "language_info": {
   "codemirror_mode": {
    "name": "ipython",
    "version": 3
   },
   "file_extension": ".py",
   "mimetype": "text/x-python",
   "name": "python",
   "nbconvert_exporter": "python",
   "pygments_lexer": "ipython3",
   "version": "3.11.0"
  }
 },
 "nbformat": 4,
 "nbformat_minor": 2
}
