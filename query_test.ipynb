{
 "cells": [
  {
   "cell_type": "code",
   "execution_count": 1,
   "metadata": {},
   "outputs": [
    {
     "name": "stderr",
     "output_type": "stream",
     "text": [
      "c:\\Users\\lucas\\.pyenv\\pyenv-win\\versions\\3.11.0\\Lib\\site-packages\\pinecone\\data\\index.py:1: TqdmWarning: IProgress not found. Please update jupyter and ipywidgets. See https://ipywidgets.readthedocs.io/en/stable/user_install.html\n",
      "  from tqdm.autonotebook import tqdm\n"
     ]
    }
   ],
   "source": [
    "from query import Query"
   ]
  },
  {
   "cell_type": "code",
   "execution_count": 2,
   "metadata": {},
   "outputs": [],
   "source": [
    "query_curr = Query('Show me classes about Introductory survey of topics and problems in African American history with some attention to Africa as well as to America. Basic introductory course for sequence of lecture courses and seminars in African American history')"
   ]
  },
  {
   "cell_type": "code",
   "execution_count": 2,
   "metadata": {},
   "outputs": [],
   "source": [
    "query_destructive = Query('Level 300 CS courses that have a rate my professor score over 3')"
   ]
  },
  {
   "cell_type": "code",
   "execution_count": 3,
   "metadata": {},
   "outputs": [
    {
     "name": "stdout",
     "output_type": "stream",
     "text": [
      "[NodeWithScore(node=TextNode(id_='4f059c24-2fcf-4988-9691-c12305f0ebd9', embedding=None, metadata={'sql_query': \"SELECT department_abbrv, course_id, professor_name, teacher_rating\\nFROM class_data\\nWHERE department_abbrv = 'CSE' AND course_id >= 300 AND course_id < 400 AND teacher_rating > 3;\", 'result': [('CSE', 311, 'Kevin Zatloukal', 3.9), ('CSE', 311, 'Kevin Zatloukal', 3.9), ('CSE', 331, 'Jaela Field', 5.0), ('CSE', 331, 'Matt Wang', 5.0), ('CSE', 331, 'Matt Wang', 5.0), ('CSE', 332, 'Robbie Weber', 4.8), ('CSE', 332, 'Robbie Weber', 4.8), ('CSE', 333, 'Hal Perkins', 3.8), ('CSE', 351, 'Ruth Anderson', 4.2), ('CSE', 351, 'Ruth Anderson', 4.2), ('CSE', 351, 'Ruth Anderson', 4.2), ('CSE', 351, 'Ruth Anderson', 4.2), ('CSE', 390, 'Stuart Reges', 3.8), ('CSE', 391, 'Elba Garza', 4.1), ('CSE', 391, 'Elba Garza', 4.1), ('CSE', 311, 'Kevin Zatloukal', 3.9), ('CSE', 311, 'Kevin Zatloukal', 3.9), ('CSE', 331, 'Jaela Field', 5.0), ('CSE', 331, 'Matt Wang', 5.0), ('CSE', 331, 'Matt Wang', 5.0), ('CSE', 332, 'Robbie Weber', 4.8), ('CSE', 332, 'Robbie Weber', 4.8), ('CSE', 333, 'Hal Perkins', 3.8), ('CSE', 351, 'Ruth Anderson', 4.2), ('CSE', 351, 'Ruth Anderson', 4.2), ('CSE', 351, 'Ruth Anderson', 4.2), ('CSE', 351, 'Ruth Anderson', 4.2), ('CSE', 390, 'Stuart Reges', 3.8), ('CSE', 391, 'Elba Garza', 4.1), ('CSE', 391, 'Elba Garza', 4.1)], 'col_keys': ['department_abbrv', 'course_id', 'professor_name', 'teacher_rating']}, excluded_embed_metadata_keys=['sql_query', 'result', 'col_keys'], excluded_llm_metadata_keys=['sql_query', 'result', 'col_keys'], relationships={}, metadata_template='{key}: {value}', metadata_separator='\\n', text=\"[('CSE', 311, 'Kevin Zatloukal', 3.9), ('CSE', 311, 'Kevin Zatloukal', 3.9), ('CSE', 331, 'Jaela Field', 5.0), ('CSE', 331, 'Matt Wang', 5.0), ('CSE', 331, 'Matt Wang', 5.0), ('CSE', 332, 'Robbie Weber', 4.8), ('CSE', 332, 'Robbie Weber', 4.8), ('CSE', 333, 'Hal Perkins', 3.8), ('CSE', 351, 'Ruth Anderson', 4.2), ('CSE', 351, 'Ruth Anderson', 4.2), ('CSE', 351, 'Ruth Anderson', 4.2), ('CSE', 351, 'Ruth Anderson', 4.2), ('CSE', 390, 'Stuart Reges', 3.8), ('CSE', 391, 'Elba Garza', 4.1), ('CSE', 391, 'Elba Garza', 4.1), ('CSE', 311, 'Kevin Zatloukal', 3.9), ('CSE', 311, 'Kevin Zatloukal', 3.9), ('CSE', 331, 'Jaela Field', 5.0), ('CSE', 331, 'Matt Wang', 5.0), ('CSE', 331, 'Matt Wang', 5.0), ('CSE', 332, 'Robbie Weber', 4.8), ('CSE', 332, 'Robbie Weber', 4.8), ('CSE', 333, 'Hal Perkins', 3.8), ('CSE', 351, 'Ruth Anderson', 4.2), ('CSE', 351, 'Ruth Anderson', 4.2), ('CSE', 351, 'Ruth Anderson', 4.2), ('CSE', 351, 'Ruth Anderson', 4.2), ('CSE', 390, 'Stuart Reges', 3.8), ('CSE', 391, 'Elba Garza', 4.1), ('CSE', 391, 'Elba Garza', 4.1)]\", mimetype='text/plain', start_char_idx=None, end_char_idx=None, metadata_seperator='\\n', text_template='{metadata_str}\\n\\n{content}'), score=None)]\n",
      "else\n",
      "combining course ids\n",
      "grabbing course ids\n",
      "['CSE311', 'CSE311', 'CSE331', 'CSE331', 'CSE331', 'CSE332', 'CSE332', 'CSE333', 'CSE351', 'CSE351', 'CSE351', 'CSE351', 'CSE390', 'CSE391', 'CSE391', 'CSE311', 'CSE311', 'CSE331', 'CSE331', 'CSE331', 'CSE332', 'CSE332', 'CSE333', 'CSE351', 'CSE351', 'CSE351', 'CSE351', 'CSE390', 'CSE391', 'CSE391']\n",
      "reordered returns list:\n",
      "['CSE311', 'CSE311', 'CSE331', 'CSE331', 'CSE331', 'CSE332', 'CSE332', 'CSE333', 'CSE351', 'CSE351', 'CSE351', 'CSE351', 'CSE390', 'CSE391', 'CSE391', 'CSE311', 'CSE311', 'CSE331', 'CSE331', 'CSE331', 'CSE332', 'CSE332', 'CSE333', 'CSE351', 'CSE351', 'CSE351', 'CSE351', 'CSE390', 'CSE391', 'CSE391']\n",
      "SELECT * FROM courses WHERE 'Clean_Course_Code' IN ('CSE311', 'CSE311', 'CSE331', 'CSE331', 'CSE331', 'CSE332', 'CSE332', 'CSE333', 'CSE351', 'CSE351', 'CSE351', 'CSE351', 'CSE390', 'CSE391', 'CSE391', 'CSE311', 'CSE311', 'CSE331', 'CSE331', 'CSE331', 'CSE332', 'CSE332', 'CSE333', 'CSE351', 'CSE351', 'CSE351', 'CSE351', 'CSE390', 'CSE391', 'CSE391')\n",
      "grabbing course ids\n",
      "[]\n",
      "final returns unsorted\n",
      "<sqlalchemy.engine.cursor.CursorResult object at 0x000001F7BC7C7850>\n",
      "final return course ids\n",
      "[]\n",
      "reordered returns\n",
      "[]\n",
      "[]\n"
     ]
    }
   ],
   "source": [
    "print(query_destructive.find_relevant_courses())"
   ]
  },
  {
   "cell_type": "code",
   "execution_count": 4,
   "metadata": {},
   "outputs": [],
   "source": [
    "for row in cursor:\n",
    "    print(row)"
   ]
  },
  {
   "cell_type": "code",
   "execution_count": 3,
   "metadata": {},
   "outputs": [
    {
     "name": "stdout",
     "output_type": "stream",
     "text": [
      "[NodeWithScore(node=TextNode(id_='106881ba-e834-4304-b85f-7721ee24d60d', embedding=None, metadata={'sql_query': \"SELECT department_abbrv, course_id, professor_name\\nFROM class_data\\nWHERE department_abbrv = 'AFRAM' AND course_id = 101;\", 'result': [], 'col_keys': ['department_abbrv', 'course_id', 'professor_name']}, excluded_embed_metadata_keys=['sql_query', 'result', 'col_keys'], excluded_llm_metadata_keys=['sql_query', 'result', 'col_keys'], relationships={}, metadata_template='{key}: {value}', metadata_separator='\\n', text='[]', mimetype='text/plain', start_char_idx=None, end_char_idx=None, metadata_seperator='\\n', text_template='{metadata_str}\\n\\n{content}'), score=None)]\n",
      "widen search\n",
      "description\n",
      "combining course ids\n",
      "{}\n",
      "reordered returns list:\n",
      "[]\n",
      "grabbing course ids\n",
      "['SELECT department_abbrv', ' course_id', ' professor_name']\n",
      "SELECT department_abbrv\n",
      " course_id\n",
      "[]\n",
      "[]\n"
     ]
    }
   ],
   "source": [
    "#returns = query_curr.find_relevant_course()\n",
    "print(query_curr.find_relevant_courses())"
   ]
  },
  {
   "cell_type": "code",
   "execution_count": 6,
   "metadata": {},
   "outputs": [
    {
     "name": "stdout",
     "output_type": "stream",
     "text": [
      "SELECT department_abbrv, course_id, professor_name, teacher_rating\n",
      "FROM class_data\n",
      "WHERE department_abbrv = 'CSE' AND course_id >= 300 AND course_id < 400 AND teacher_rating > 3\n",
      "ORDER BY teacher_rating DESC;\n"
     ]
    }
   ],
   "source": [
    "print(query_destructive.sql)"
   ]
  }
 ],
 "metadata": {
  "kernelspec": {
   "display_name": "3.11.0",
   "language": "python",
   "name": "python3"
  },
  "language_info": {
   "codemirror_mode": {
    "name": "ipython",
    "version": 3
   },
   "file_extension": ".py",
   "mimetype": "text/x-python",
   "name": "python",
   "nbconvert_exporter": "python",
   "pygments_lexer": "ipython3",
   "version": "3.11.0"
  }
 },
 "nbformat": 4,
 "nbformat_minor": 2
}
