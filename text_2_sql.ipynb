{
 "cells": [
  {
   "cell_type": "code",
   "execution_count": 1,
   "metadata": {},
   "outputs": [],
   "source": [
    "\n",
    "from llama_index.core.retrievers import NLSQLRetriever\n",
    "\n",
    "import sqlite3\n",
    "import os\n",
    "import llama_index\n",
    "import sqlalchemy\n",
    "import openai\n",
    "\n",
    "from sqlalchemy import (\n",
    "    create_engine,\n",
    "    MetaData,\n",
    "    Table,\n",
    "    Column,\n",
    "    String,\n",
    "    Integer,\n",
    "    select,\n",
    ")\n",
    "\n",
    "from llama_index.core import SQLDatabase\n",
    "from llama_index.llms.openai import OpenAI\n",
    "\n",
    "\n",
    "from sqlalchemy import text\n"
   ]
  },
  {
   "cell_type": "code",
   "execution_count": 2,
   "metadata": {},
   "outputs": [],
   "source": [
    "import os\n",
    "from sqlalchemy.orm import sessionmaker"
   ]
  },
  {
   "cell_type": "code",
   "execution_count": 3,
   "metadata": {},
   "outputs": [],
   "source": [
    "api_key = os.getenv(\"OPENAI_API_KEY\")\n",
    "openai.api_key = api_key\n",
    "\n",
    "\n",
    "engine = create_engine(\"sqlite:///classes.db\")\n",
    "\n",
    "llm = OpenAI(temperature=0.1, model=\"gpt-3.5-turbo\")\n",
    "sql_database = SQLDatabase(engine, include_tables=[\"class_data\"])\n"
   ]
  },
  {
   "cell_type": "code",
   "execution_count": 5,
   "metadata": {},
   "outputs": [],
   "source": [
    "#Establishing engines and connections\n",
    "\n",
    "conn = sqlite3.connect('courses_temp.db')\n",
    "cursor = conn.cursor()\n",
    "\n",
    "\n",
    "engine = create_engine(\"sqlite:///courses_temp.db\")\n",
    "\n",
    "llm = OpenAI(temperature=0.1, model=\"gpt-3.5-turbo\")\n",
    "sql_database = SQLDatabase(engine, include_tables=[\"class_data\"])\n"
   ]
  },
  {
   "cell_type": "code",
   "execution_count": 5,
   "metadata": {},
   "outputs": [
    {
     "name": "stdout",
     "output_type": "stream",
     "text": [
      "course_campus TEXT\n",
      "course_credits TEXT\n",
      "course_description TEXT\n",
      "course_id TEXT\n",
      "course_offered TEXT\n",
      "course_title TEXT\n",
      "department_abbrev TEXT\n",
      "is_bottleneck TEXT\n",
      "is_gateway TEXT\n",
      "prereq_string TEXT\n",
      "course_coi REAL\n",
      "course_level_coi REAL\n",
      "curric_coi REAL\n",
      "percent_in_range REAL\n",
      "autumn INTEGER\n",
      "winter INTEGER\n",
      "spring INTEGER\n",
      "summer INTEGER\n",
      "0 REAL\n",
      "1 REAL\n",
      "2 REAL\n",
      "3 REAL\n",
      "4 REAL\n",
      "5 REAL\n",
      "6 REAL\n",
      "7 REAL\n",
      "8 REAL\n",
      "9 REAL\n",
      "10 REAL\n",
      "11 REAL\n",
      "12 REAL\n",
      "13 REAL\n",
      "14 REAL\n",
      "15 REAL\n",
      "16 REAL\n",
      "17 REAL\n",
      "18 REAL\n",
      "19 REAL\n",
      "20 REAL\n",
      "21 REAL\n",
      "22 REAL\n",
      "23 REAL\n",
      "24 REAL\n",
      "25 REAL\n",
      "26 REAL\n",
      "27 REAL\n",
      "28 REAL\n",
      "29 REAL\n",
      "30 REAL\n",
      "31 REAL\n",
      "32 REAL\n",
      "33 REAL\n",
      "34 REAL\n",
      "35 REAL\n",
      "36 REAL\n",
      "37 REAL\n",
      "38 REAL\n",
      "39 REAL\n",
      "40 REAL\n",
      "mean REAL\n",
      "median REAL\n",
      "sd REAL\n",
      "fourpointo_per REAL\n"
     ]
    }
   ],
   "source": [
    "#sqlite query\n",
    "cursor.execute(\"PRAGMA table_info(class_data)\")\n",
    "tables = cursor.fetchall()\n",
    "for col in tables:\n",
    "    print(col[1], col[2])"
   ]
  },
  {
   "cell_type": "code",
   "execution_count": 17,
   "metadata": {},
   "outputs": [
    {
     "name": "stdout",
     "output_type": "stream",
     "text": [
      "('Hunter-Gatherer Societies', None)\n"
     ]
    }
   ],
   "source": [
    "\n",
    "#sqlalchemy query\n",
    "\n",
    "with engine.connect() as con:\n",
    "    rows = con.execute(text(\"SELECT course_title, mean_gpa\\nFROM class_data\\nWHERE department_abbrev = 'ANTH'\\nAND course_credits = '4.0'\\nORDER BY mean_gpa DESC\\nLIMIT 4\"))\n",
    "    for row in rows:\n",
    "        print(row)"
   ]
  },
  {
   "cell_type": "code",
   "execution_count": 6,
   "metadata": {},
   "outputs": [],
   "source": [
    "#llama index retriever\n",
    "\n",
    "nl_sql_retriever = NLSQLRetriever(\n",
    "    sql_database, tables=[\"class_data\"], return_raw=True\n",
    ")\n"
   ]
  },
  {
   "cell_type": "code",
   "execution_count": 24,
   "metadata": {},
   "outputs": [
    {
     "name": "stdout",
     "output_type": "stream",
     "text": [
      "[NodeWithScore(node=TextNode(id_='6cd2987c-8cfc-48eb-a7d2-73bbfa1a1f5c', embedding=None, metadata={'sql_query': \"SELECT course_title, course_description, course_credits \\nFROM class_data \\nWHERE department_abbrev = 'UDP' OR department_abbrev = 'URBAN' OR department_abbrev = 'DP' OR department_abbrev = 'URBDP' OR department_abbrev = 'URB'\", 'result': [], 'col_keys': ['course_title', 'course_description', 'course_credits']}, excluded_embed_metadata_keys=['sql_query', 'result', 'col_keys'], excluded_llm_metadata_keys=['sql_query', 'result', 'col_keys'], relationships={}, metadata_template='{key}: {value}', metadata_separator='\\n', text='[]', mimetype='text/plain', start_char_idx=None, end_char_idx=None, metadata_seperator='\\n', text_template='{metadata_str}\\n\\n{content}'), score=None)]\n"
     ]
    }
   ],
   "source": [
    "#llama index query retriever\n",
    "\n",
    "\n",
    "query = \"\"\"\n",
    "Schema Context:\n",
    "Department_abbrev column represents the department and is abbreviated in all caps. Example: CS for Computer Science.\n",
    "Course_credits contain floating points. Example: 4.0.\n",
    "\n",
    "Choose one of these for urban: UDP, URBAN, DP, URBDP, URB\n",
    "Question:\n",
    "What are some urban design and planning courses?\"\"\"\n",
    " \n",
    "\n",
    "response = nl_sql_retriever.retrieve(query)\n",
    "print(response)\n"
   ]
  },
  {
   "cell_type": "code",
   "execution_count": null,
   "metadata": {},
   "outputs": [],
   "source": []
  },
  {
   "cell_type": "code",
   "execution_count": null,
   "metadata": {},
   "outputs": [],
   "source": []
  }
 ],
 "metadata": {
  "kernelspec": {
   "display_name": "3.11.0",
   "language": "python",
   "name": "python3"
  },
  "language_info": {
   "codemirror_mode": {
    "name": "ipython",
    "version": 3
   },
   "file_extension": ".py",
   "mimetype": "text/x-python",
   "name": "python",
   "nbconvert_exporter": "python",
   "pygments_lexer": "ipython3",
   "version": "3.11.0"
  }
 },
 "nbformat": 4,
 "nbformat_minor": 2
}
