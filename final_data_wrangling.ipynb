{
 "cells": [
  {
   "cell_type": "code",
   "execution_count": 1,
   "metadata": {},
   "outputs": [],
   "source": [
    "import pandas as pd\n",
    "import os\n",
    "\n",
    "from sqlalchemy import (\n",
    "    create_engine,\n",
    "    MetaData,\n",
    "    Table,\n",
    "    Column,\n",
    "    String,\n",
    "    Integer,\n",
    "    select,\n",
    ")\n",
    "\n",
    "from sqlalchemy import text\n",
    "import sqlite3\n"
   ]
  },
  {
   "cell_type": "code",
   "execution_count": 4,
   "metadata": {},
   "outputs": [],
   "source": [
    "df = pd.read_csv('data/all_data.csv')"
   ]
  },
  {
   "cell_type": "code",
   "execution_count": 9,
   "metadata": {},
   "outputs": [],
   "source": [
    "\n",
    "df_renamed = df.rename(columns = {'prefix' : 'department_abbrv', 'GenEd Requirements' : 'credit_type', 'mean' : 'mean_gpa',\n",
    "                                  'Course Code' : 'course_id', 'Credits' : 'credits', 'Term' : 'quarter_offered',\n",
    "                                  'Rating' : 'teacher_rating', 'Start' : 'start_time', 'End' : 'end_time', 'Days' : 'meeting_days',\n",
    "                                  'Instructor' : 'professor_name'})\n",
    "\n",
    "df_final_small = df_renamed[['department_abbrv', 'course_id', 'credits', 'quarter_offered', 'mean_gpa', 'teacher_rating', 'start_time', 'end_time', 'meeting_days', 'professor_name', 'credit_type', 'UUID']]"
   ]
  },
  {
   "cell_type": "code",
   "execution_count": 24,
   "metadata": {},
   "outputs": [
    {
     "data": {
      "text/html": [
       "<div>\n",
       "<style scoped>\n",
       "    .dataframe tbody tr th:only-of-type {\n",
       "        vertical-align: middle;\n",
       "    }\n",
       "\n",
       "    .dataframe tbody tr th {\n",
       "        vertical-align: top;\n",
       "    }\n",
       "\n",
       "    .dataframe thead th {\n",
       "        text-align: right;\n",
       "    }\n",
       "</style>\n",
       "<table border=\"1\" class=\"dataframe\">\n",
       "  <thead>\n",
       "    <tr style=\"text-align: right;\">\n",
       "      <th></th>\n",
       "      <th>department_abbrv</th>\n",
       "      <th>course_id</th>\n",
       "      <th>credits</th>\n",
       "      <th>quarter_offered</th>\n",
       "      <th>mean_gpa</th>\n",
       "      <th>teacher_rating</th>\n",
       "      <th>start_time</th>\n",
       "      <th>end_time</th>\n",
       "      <th>meeting_days</th>\n",
       "      <th>professor_name</th>\n",
       "      <th>credit_type</th>\n",
       "      <th>UUID</th>\n",
       "    </tr>\n",
       "  </thead>\n",
       "  <tbody>\n",
       "  </tbody>\n",
       "</table>\n",
       "</div>"
      ],
      "text/plain": [
       "Empty DataFrame\n",
       "Columns: [department_abbrv, course_id, credits, quarter_offered, mean_gpa, teacher_rating, start_time, end_time, meeting_days, professor_name, credit_type, UUID]\n",
       "Index: []"
      ]
     },
     "execution_count": 24,
     "metadata": {},
     "output_type": "execute_result"
    }
   ],
   "source": [
    "df_final_small[df_final_small['department_abbrv'] == 'HSTRY']"
   ]
  },
  {
   "cell_type": "code",
   "execution_count": 11,
   "metadata": {},
   "outputs": [
    {
     "name": "stderr",
     "output_type": "stream",
     "text": [
      "C:\\Users\\lucas\\AppData\\Local\\Temp\\ipykernel_23208\\3533756964.py:1: SettingWithCopyWarning: \n",
      "A value is trying to be set on a copy of a slice from a DataFrame.\n",
      "Try using .loc[row_indexer,col_indexer] = value instead\n",
      "\n",
      "See the caveats in the documentation: https://pandas.pydata.org/pandas-docs/stable/user_guide/indexing.html#returning-a-view-versus-a-copy\n",
      "  df_final_small['course_id'] = df_final_small['course_id'].str.extract(r'(\\d+)', expand=False).astype(int)\n"
     ]
    }
   ],
   "source": [
    "df_final_small['course_id'] = df_final_small['course_id'].str.extract(r'(\\d+)', expand=False).astype(int)"
   ]
  },
  {
   "cell_type": "code",
   "execution_count": 16,
   "metadata": {},
   "outputs": [
    {
     "name": "stdout",
     "output_type": "stream",
     "text": [
      "5018\n",
      "5018\n"
     ]
    }
   ],
   "source": [
    "print(len(df_final_small))\n",
    "print(df_final_small['UUID'].nunique())"
   ]
  },
  {
   "cell_type": "code",
   "execution_count": 17,
   "metadata": {},
   "outputs": [
    {
     "data": {
      "text/plain": [
       "Index(['Unnamed: 0', 'Campus', 'Term', 'Course Code', 'Course Title',\n",
       "       'Course Description', 'Activity Type', 'Section', 'Credits', 'Days',\n",
       "       'Time', 'Building', 'Room', 'Instructor', 'Credit',\n",
       "       'GenEd Requirements', 'Registration Code', 'enrollCount',\n",
       "       'enrollMaximum', 'myPlanLink', 'index', 'mean', 'median', 'sd',\n",
       "       'fourpointo_per', '0', '1', '2', '3', '4', '5', '6', '7', '8', '9',\n",
       "       '10', '11', '12', '13', '14', '15', '16', '17', '18', '19', '20', '21',\n",
       "       '22', '23', '24', '25', '26', '27', '28', '29', '30', '31', '32', '33',\n",
       "       '34', '35', '36', '37', '38', '39', '40', 'Start', 'End', 'prefix',\n",
       "       'Matched_Name', 'Name', 'Rating', 'Difficulty', 'Link', 'Department',\n",
       "       'Instructor Name', 'amount_learned_median', 'grading_techniques_median',\n",
       "       'instructors_contribution_median', 'instructors_effectiveness_median',\n",
       "       'instuctors_interest_median', 'the_course_as_a_whole_median',\n",
       "       'the_course_content_median', 'Clean_Course_Code', 'UUID'],\n",
       "      dtype='object')"
      ]
     },
     "execution_count": 17,
     "metadata": {},
     "output_type": "execute_result"
    }
   ],
   "source": [
    "df.columns"
   ]
  },
  {
   "cell_type": "code",
   "execution_count": 13,
   "metadata": {},
   "outputs": [
    {
     "data": {
      "text/plain": [
       "5018"
      ]
     },
     "execution_count": 13,
     "metadata": {},
     "output_type": "execute_result"
    }
   ],
   "source": [
    "conn = sqlite3.connect('databases/final_small.db')\n",
    "cursor = conn.cursor()\n",
    "\n",
    "# Define table name\n",
    "table_name = 'all_classes'  # Adjust this to match your actual table name\n",
    "\n",
    "\n",
    "# Insert DataFrame into the SQLite table\n",
    "df_final_small.to_sql(table_name, conn, index=False)"
   ]
  },
  {
   "cell_type": "code",
   "execution_count": 14,
   "metadata": {},
   "outputs": [
    {
     "data": {
      "text/plain": [
       "5018"
      ]
     },
     "execution_count": 14,
     "metadata": {},
     "output_type": "execute_result"
    }
   ],
   "source": [
    "conn = sqlite3.connect('databases/final_large.db')\n",
    "cursor = conn.cursor()\n",
    "\n",
    "# Define table name\n",
    "table_name = 'all_classes'  # Adjust this to match your actual table name\n",
    "\n",
    "\n",
    "# Insert DataFrame into the SQLite table\n",
    "df.to_sql(table_name, conn, index=False)"
   ]
  },
  {
   "cell_type": "code",
   "execution_count": 28,
   "metadata": {},
   "outputs": [],
   "source": [
    "sql = \"\"\"SELECT department_abbrv, course_id, mean_gpa, teacher_rating, professor_name\\nFROM all_classes\\nWHERE department_abbrv = 'HSTRY' \\nORDER BY mean_gpa ASC;\"\"\"\n",
    "engine = create_engine(\"sqlite:///databases/final_small.db\")\n",
    "with engine.connect() as con:\n",
    "        rows = con.execute(text(sql))\n",
    "\n",
    "  "
   ]
  },
  {
   "cell_type": "code",
   "execution_count": 29,
   "metadata": {},
   "outputs": [
    {
     "name": "stdout",
     "output_type": "stream",
     "text": [
      "<class 'sqlalchemy.engine.cursor.CursorResult'>\n"
     ]
    }
   ],
   "source": [
    "print(type(rows))"
   ]
  },
  {
   "cell_type": "code",
   "execution_count": null,
   "metadata": {},
   "outputs": [],
   "source": []
  }
 ],
 "metadata": {
  "kernelspec": {
   "display_name": "3.11.0",
   "language": "python",
   "name": "python3"
  },
  "language_info": {
   "codemirror_mode": {
    "name": "ipython",
    "version": 3
   },
   "file_extension": ".py",
   "mimetype": "text/x-python",
   "name": "python",
   "nbconvert_exporter": "python",
   "pygments_lexer": "ipython3",
   "version": "3.11.0"
  }
 },
 "nbformat": 4,
 "nbformat_minor": 2
}
