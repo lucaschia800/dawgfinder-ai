{
 "cells": [
  {
   "cell_type": "code",
   "execution_count": 1,
   "metadata": {},
   "outputs": [
    {
     "name": "stderr",
     "output_type": "stream",
     "text": [
      "c:\\Users\\lucas\\.pyenv\\pyenv-win\\versions\\3.11.0\\Lib\\site-packages\\pinecone\\data\\index.py:1: TqdmWarning: IProgress not found. Please update jupyter and ipywidgets. See https://ipywidgets.readthedocs.io/en/stable/user_install.html\n",
      "  from tqdm.autonotebook import tqdm\n"
     ]
    }
   ],
   "source": [
    "import langchain\n",
    "from langchain_community.document_loaders import DataFrameLoader\n",
    "import json\n",
    "import pandas as pd\n",
    "import getpass\n",
    "import os\n",
    "from pinecone import Pinecone, ServerlessSpec\n",
    "from langchain_pinecone import PineconeVectorStore\n",
    "from langchain_openai import OpenAIEmbeddings \n",
    "import openai \n",
    "from langchain_core.documents import Document"
   ]
  },
  {
   "cell_type": "code",
   "execution_count": 16,
   "metadata": {},
   "outputs": [
    {
     "name": "stdout",
     "output_type": "stream",
     "text": [
      "195\n"
     ]
    }
   ],
   "source": [
    "departments = ['SWA', 'ARCTIC', 'TAGLG', 'AAS', 'CHSTU', 'BENG', 'CFRM', 'AFRAM', 'AES', 'ASIAN',\n",
    " 'AMATH', 'ART', 'DESIGN', 'AIS', 'INDO', 'INDN', 'ARCHY', 'URDU', 'HINDI', 'SNKRT',\n",
    " 'CHIN', 'ASTBIO', 'KOREAN', 'HUM', 'VIET', 'JAPAN', 'ASTR', 'CMS', 'GREEK', 'CLAS',\n",
    " 'LATIN', 'DXARTS', 'ANTH', 'INDIV', 'CHID', 'CHEM', 'TXTDS', 'BIOL', 'DANCE',\n",
    " 'COM', 'FRENCH', 'ITAL', 'HSTAFM', 'DRAMA', 'CSE', 'ECON', 'HSTLAC', 'HSTAM',\n",
    " 'HPS', 'HSTRY', 'GWSS', 'HSTAS', 'HSTCMP', 'LABOR', 'GEOG', 'ASL', 'HSTEU',\n",
    " 'GERMAN', 'RELIG', 'ARAMIC', 'COPTIC', 'GEEZ', 'EGYPT', 'LADINO', 'MICROM', 'LSJ',\n",
    " 'JSIS', 'ARAB', 'TURKIC', 'CHGTAI', 'LING', 'BIBHEB', 'MODHEB', 'PRSAN', 'MATH',\n",
    " 'ENGL', 'KYRGYZ', 'KAZAKH', 'UGARIT', 'UZBEK', 'UYGUR', 'TKISH', 'MUSAP', 'MUSED',\n",
    " 'NEUSCI', 'ETHICS', 'MUSEN', 'MUHST', 'MELC', 'FINN', 'DANISH', 'ESTO', 'LITH',\n",
    " 'LATV', 'NORW', 'BCMS', 'SWED', 'CZECH', 'BULGR', 'MUSICP', 'ROMN', 'PHIL',\n",
    " 'POLSH', 'GLITS', 'UKR', 'SLVN', 'PORT', 'SCAND', 'PHYS', 'SPLING', 'MUSIC',\n",
    " 'SLAVIC', 'RUSS', 'PSYCH', 'CEP', 'CM', 'SPHSC', 'STAT', 'ACCTG', 'ARCH', 'ENTRE',\n",
    " 'SOC', 'FIN', 'SPAN', 'QMETH', 'OPMGT', 'MGMT', 'DPHS', 'MKTG', 'ORALM', 'OHS',\n",
    " 'ORTHO', 'ECE', 'PERIO', 'ECFS', 'EDUC', 'NME', 'EDSPE', 'CEE', 'EDPSY', 'EDLPS',\n",
    " 'ENGR', 'HCDE', 'BSE', 'FISH', 'FHL', 'MARBIO', 'ENVIR', 'SMEA', 'GRDSCH', 'ESRM',\n",
    " 'INFO', 'OCEAN', 'ESS', 'LAW', 'NUTR', 'UCONJ', 'BIOC', 'ANEST', 'BIME', 'BIOEN',\n",
    " 'IMMUN', 'GENOME', 'CONJ', 'PATH', 'MED', 'FAMED', 'OPHTH', 'OTOHN', 'ORTHP',\n",
    " 'PHCOL', 'IECMH', 'RADGY', 'UROL', 'PBSCI', 'NEURL', 'SURG', 'NMETH', 'NCLIN',\n",
    " 'PEDS', 'REHAB', 'MEDCH', 'PCEUT', 'PHARM', 'NURS', 'PUBPOL', 'HIHIM', 'BIOST',\n",
    " 'EPI', 'PABIO', 'PHG', 'SPH', 'LEAD', 'HONORS', 'HSERV']\n",
    "\n",
    "\n",
    "print(len(departments))\n",
    "\n"
   ]
  },
  {
   "cell_type": "code",
   "execution_count": 3,
   "metadata": {},
   "outputs": [],
   "source": [
    "#Setting up keys\n",
    "pinecone_api_key = os.environ.get(\"pinecone_API\")\n",
    "\n",
    "pc = Pinecone(api_key=pinecone_api_key)\n",
    "\n",
    "api_key = os.getenv(\"OPENAI_API_KEY\")\n",
    "openai.api_key = api_key\n"
   ]
  },
  {
   "cell_type": "code",
   "execution_count": 10,
   "metadata": {},
   "outputs": [
    {
     "ename": "PineconeApiException",
     "evalue": "(409)\nReason: Conflict\nHTTP response headers: HTTPHeaderDict({'content-type': 'text/plain; charset=utf-8', 'access-control-allow-origin': '*', 'vary': 'origin,access-control-request-method,access-control-request-headers', 'access-control-expose-headers': '*', 'x-pinecone-api-version': '2024-07', 'X-Cloud-Trace-Context': '61ad522ff6857dfd325f71e34b875996', 'Date': 'Sat, 22 Feb 2025 22:46:59 GMT', 'Server': 'Google Frontend', 'Content-Length': '85', 'Via': '1.1 google', 'Alt-Svc': 'h3=\":443\"; ma=2592000,h3-29=\":443\"; ma=2592000'})\nHTTP response body: {\"error\":{\"code\":\"ALREADY_EXISTS\",\"message\":\"Resource  already exists\"},\"status\":409}\n",
     "output_type": "error",
     "traceback": [
      "\u001b[1;31m---------------------------------------------------------------------------\u001b[0m",
      "\u001b[1;31mPineconeApiException\u001b[0m                      Traceback (most recent call last)",
      "Cell \u001b[1;32mIn[10], line 3\u001b[0m\n\u001b[0;32m      1\u001b[0m embeddings \u001b[38;5;241m=\u001b[39m OpenAIEmbeddings(model\u001b[38;5;241m=\u001b[39m\u001b[38;5;124m\"\u001b[39m\u001b[38;5;124mtext-embedding-3-small\u001b[39m\u001b[38;5;124m\"\u001b[39m)\n\u001b[1;32m----> 3\u001b[0m \u001b[43mpc\u001b[49m\u001b[38;5;241;43m.\u001b[39;49m\u001b[43mcreate_index\u001b[49m\u001b[43m(\u001b[49m\n\u001b[0;32m      4\u001b[0m \u001b[43m    \u001b[49m\u001b[43mname\u001b[49m\u001b[38;5;241;43m=\u001b[39;49m\u001b[43m \u001b[49m\u001b[38;5;124;43m'\u001b[39;49m\u001b[38;5;124;43mdepartment-abbrev-db\u001b[39;49m\u001b[38;5;124;43m'\u001b[39;49m\u001b[43m,\u001b[49m\n\u001b[0;32m      5\u001b[0m \u001b[43m    \u001b[49m\u001b[43mdimension\u001b[49m\u001b[38;5;241;43m=\u001b[39;49m\u001b[38;5;241;43m1536\u001b[39;49m\u001b[43m,\u001b[49m\n\u001b[0;32m      6\u001b[0m \u001b[43m    \u001b[49m\u001b[43mmetric\u001b[49m\u001b[38;5;241;43m=\u001b[39;49m\u001b[38;5;124;43m\"\u001b[39;49m\u001b[38;5;124;43mcosine\u001b[39;49m\u001b[38;5;124;43m\"\u001b[39;49m\u001b[43m,\u001b[49m\n\u001b[0;32m      7\u001b[0m \u001b[43m    \u001b[49m\u001b[43mspec\u001b[49m\u001b[38;5;241;43m=\u001b[39;49m\u001b[43mServerlessSpec\u001b[49m\u001b[43m(\u001b[49m\u001b[43mcloud\u001b[49m\u001b[38;5;241;43m=\u001b[39;49m\u001b[38;5;124;43m\"\u001b[39;49m\u001b[38;5;124;43maws\u001b[39;49m\u001b[38;5;124;43m\"\u001b[39;49m\u001b[43m,\u001b[49m\u001b[43m \u001b[49m\u001b[43mregion\u001b[49m\u001b[38;5;241;43m=\u001b[39;49m\u001b[38;5;124;43m\"\u001b[39;49m\u001b[38;5;124;43mus-east-1\u001b[39;49m\u001b[38;5;124;43m\"\u001b[39;49m\u001b[43m)\u001b[49m\u001b[43m,\u001b[49m\n\u001b[0;32m      8\u001b[0m \u001b[43m)\u001b[49m\n",
      "File \u001b[1;32mc:\\Users\\lucas\\.pyenv\\pyenv-win\\versions\\3.11.0\\Lib\\site-packages\\pinecone\\control\\pinecone.py:373\u001b[0m, in \u001b[0;36mPinecone.create_index\u001b[1;34m(self, name, dimension, spec, metric, timeout, deletion_protection)\u001b[0m\n\u001b[0;32m    370\u001b[0m \u001b[38;5;28;01melse\u001b[39;00m:\n\u001b[0;32m    371\u001b[0m     \u001b[38;5;28;01mraise\u001b[39;00m \u001b[38;5;167;01mTypeError\u001b[39;00m(\u001b[38;5;124m\"\u001b[39m\u001b[38;5;124mspec must be of type dict, ServerlessSpec, or PodSpec\u001b[39m\u001b[38;5;124m\"\u001b[39m)\n\u001b[1;32m--> 373\u001b[0m \u001b[43mapi_instance\u001b[49m\u001b[38;5;241;43m.\u001b[39;49m\u001b[43mcreate_index\u001b[49m\u001b[43m(\u001b[49m\n\u001b[0;32m    374\u001b[0m \u001b[43m    \u001b[49m\u001b[43mcreate_index_request\u001b[49m\u001b[38;5;241;43m=\u001b[39;49m\u001b[43mCreateIndexRequest\u001b[49m\u001b[43m(\u001b[49m\n\u001b[0;32m    375\u001b[0m \u001b[43m        \u001b[49m\u001b[43mname\u001b[49m\u001b[38;5;241;43m=\u001b[39;49m\u001b[43mname\u001b[49m\u001b[43m,\u001b[49m\n\u001b[0;32m    376\u001b[0m \u001b[43m        \u001b[49m\u001b[43mdimension\u001b[49m\u001b[38;5;241;43m=\u001b[39;49m\u001b[43mdimension\u001b[49m\u001b[43m,\u001b[49m\n\u001b[0;32m    377\u001b[0m \u001b[43m        \u001b[49m\u001b[43mmetric\u001b[49m\u001b[38;5;241;43m=\u001b[39;49m\u001b[43mmetric\u001b[49m\u001b[43m,\u001b[49m\n\u001b[0;32m    378\u001b[0m \u001b[43m        \u001b[49m\u001b[43mspec\u001b[49m\u001b[38;5;241;43m=\u001b[39;49m\u001b[43mindex_spec\u001b[49m\u001b[43m,\u001b[49m\n\u001b[0;32m    379\u001b[0m \u001b[43m        \u001b[49m\u001b[43mdeletion_protection\u001b[49m\u001b[38;5;241;43m=\u001b[39;49m\u001b[43mdp\u001b[49m\u001b[43m,\u001b[49m\n\u001b[0;32m    380\u001b[0m \u001b[43m    \u001b[49m\u001b[43m)\u001b[49m\n\u001b[0;32m    381\u001b[0m \u001b[43m\u001b[49m\u001b[43m)\u001b[49m\n\u001b[0;32m    383\u001b[0m \u001b[38;5;28;01mdef\u001b[39;00m \u001b[38;5;21mis_ready\u001b[39m():\n\u001b[0;32m    384\u001b[0m     status \u001b[38;5;241m=\u001b[39m \u001b[38;5;28mself\u001b[39m\u001b[38;5;241m.\u001b[39m_get_status(name)\n",
      "File \u001b[1;32mc:\\Users\\lucas\\.pyenv\\pyenv-win\\versions\\3.11.0\\Lib\\site-packages\\pinecone\\core\\openapi\\shared\\api_client.py:821\u001b[0m, in \u001b[0;36mEndpoint.__call__\u001b[1;34m(self, *args, **kwargs)\u001b[0m\n\u001b[0;32m    810\u001b[0m \u001b[38;5;28;01mdef\u001b[39;00m \u001b[38;5;21m__call__\u001b[39m(\u001b[38;5;28mself\u001b[39m, \u001b[38;5;241m*\u001b[39margs, \u001b[38;5;241m*\u001b[39m\u001b[38;5;241m*\u001b[39mkwargs):\n\u001b[0;32m    811\u001b[0m \u001b[38;5;250m    \u001b[39m\u001b[38;5;124;03m\"\"\"This method is invoked when endpoints are called\u001b[39;00m\n\u001b[0;32m    812\u001b[0m \u001b[38;5;124;03m    Example:\u001b[39;00m\n\u001b[0;32m    813\u001b[0m \n\u001b[1;32m   (...)\u001b[0m\n\u001b[0;32m    819\u001b[0m \n\u001b[0;32m    820\u001b[0m \u001b[38;5;124;03m    \"\"\"\u001b[39;00m\n\u001b[1;32m--> 821\u001b[0m     \u001b[38;5;28;01mreturn\u001b[39;00m \u001b[38;5;28;43mself\u001b[39;49m\u001b[38;5;241;43m.\u001b[39;49m\u001b[43mcallable\u001b[49m\u001b[43m(\u001b[49m\u001b[38;5;28;43mself\u001b[39;49m\u001b[43m,\u001b[49m\u001b[43m \u001b[49m\u001b[38;5;241;43m*\u001b[39;49m\u001b[43margs\u001b[49m\u001b[43m,\u001b[49m\u001b[43m \u001b[49m\u001b[38;5;241;43m*\u001b[39;49m\u001b[38;5;241;43m*\u001b[39;49m\u001b[43mkwargs\u001b[49m\u001b[43m)\u001b[49m\n",
      "File \u001b[1;32mc:\\Users\\lucas\\.pyenv\\pyenv-win\\versions\\3.11.0\\Lib\\site-packages\\pinecone\\core\\openapi\\control\\api\\manage_indexes_api.py:273\u001b[0m, in \u001b[0;36mManageIndexesApi.__init__.<locals>.__create_index\u001b[1;34m(self, create_index_request, **kwargs)\u001b[0m\n\u001b[0;32m    271\u001b[0m kwargs[\u001b[38;5;124m\"\u001b[39m\u001b[38;5;124m_host_index\u001b[39m\u001b[38;5;124m\"\u001b[39m] \u001b[38;5;241m=\u001b[39m kwargs\u001b[38;5;241m.\u001b[39mget(\u001b[38;5;124m\"\u001b[39m\u001b[38;5;124m_host_index\u001b[39m\u001b[38;5;124m\"\u001b[39m)\n\u001b[0;32m    272\u001b[0m kwargs[\u001b[38;5;124m\"\u001b[39m\u001b[38;5;124mcreate_index_request\u001b[39m\u001b[38;5;124m\"\u001b[39m] \u001b[38;5;241m=\u001b[39m create_index_request\n\u001b[1;32m--> 273\u001b[0m \u001b[38;5;28;01mreturn\u001b[39;00m \u001b[38;5;28;43mself\u001b[39;49m\u001b[38;5;241;43m.\u001b[39;49m\u001b[43mcall_with_http_info\u001b[49m\u001b[43m(\u001b[49m\u001b[38;5;241;43m*\u001b[39;49m\u001b[38;5;241;43m*\u001b[39;49m\u001b[43mkwargs\u001b[49m\u001b[43m)\u001b[49m\n",
      "File \u001b[1;32mc:\\Users\\lucas\\.pyenv\\pyenv-win\\versions\\3.11.0\\Lib\\site-packages\\pinecone\\core\\openapi\\shared\\api_client.py:879\u001b[0m, in \u001b[0;36mEndpoint.call_with_http_info\u001b[1;34m(self, **kwargs)\u001b[0m\n\u001b[0;32m    876\u001b[0m     header_list \u001b[38;5;241m=\u001b[39m \u001b[38;5;28mself\u001b[39m\u001b[38;5;241m.\u001b[39mapi_client\u001b[38;5;241m.\u001b[39mselect_header_content_type(content_type_headers_list)\n\u001b[0;32m    877\u001b[0m     params[\u001b[38;5;124m\"\u001b[39m\u001b[38;5;124mheader\u001b[39m\u001b[38;5;124m\"\u001b[39m][\u001b[38;5;124m\"\u001b[39m\u001b[38;5;124mContent-Type\u001b[39m\u001b[38;5;124m\"\u001b[39m] \u001b[38;5;241m=\u001b[39m header_list\n\u001b[1;32m--> 879\u001b[0m \u001b[38;5;28;01mreturn\u001b[39;00m \u001b[38;5;28;43mself\u001b[39;49m\u001b[38;5;241;43m.\u001b[39;49m\u001b[43mapi_client\u001b[49m\u001b[38;5;241;43m.\u001b[39;49m\u001b[43mcall_api\u001b[49m\u001b[43m(\u001b[49m\n\u001b[0;32m    880\u001b[0m \u001b[43m    \u001b[49m\u001b[38;5;28;43mself\u001b[39;49m\u001b[38;5;241;43m.\u001b[39;49m\u001b[43msettings\u001b[49m\u001b[43m[\u001b[49m\u001b[38;5;124;43m\"\u001b[39;49m\u001b[38;5;124;43mendpoint_path\u001b[39;49m\u001b[38;5;124;43m\"\u001b[39;49m\u001b[43m]\u001b[49m\u001b[43m,\u001b[49m\n\u001b[0;32m    881\u001b[0m \u001b[43m    \u001b[49m\u001b[38;5;28;43mself\u001b[39;49m\u001b[38;5;241;43m.\u001b[39;49m\u001b[43msettings\u001b[49m\u001b[43m[\u001b[49m\u001b[38;5;124;43m\"\u001b[39;49m\u001b[38;5;124;43mhttp_method\u001b[39;49m\u001b[38;5;124;43m\"\u001b[39;49m\u001b[43m]\u001b[49m\u001b[43m,\u001b[49m\n\u001b[0;32m    882\u001b[0m \u001b[43m    \u001b[49m\u001b[43mparams\u001b[49m\u001b[43m[\u001b[49m\u001b[38;5;124;43m\"\u001b[39;49m\u001b[38;5;124;43mpath\u001b[39;49m\u001b[38;5;124;43m\"\u001b[39;49m\u001b[43m]\u001b[49m\u001b[43m,\u001b[49m\n\u001b[0;32m    883\u001b[0m \u001b[43m    \u001b[49m\u001b[43mparams\u001b[49m\u001b[43m[\u001b[49m\u001b[38;5;124;43m\"\u001b[39;49m\u001b[38;5;124;43mquery\u001b[39;49m\u001b[38;5;124;43m\"\u001b[39;49m\u001b[43m]\u001b[49m\u001b[43m,\u001b[49m\n\u001b[0;32m    884\u001b[0m \u001b[43m    \u001b[49m\u001b[43mparams\u001b[49m\u001b[43m[\u001b[49m\u001b[38;5;124;43m\"\u001b[39;49m\u001b[38;5;124;43mheader\u001b[39;49m\u001b[38;5;124;43m\"\u001b[39;49m\u001b[43m]\u001b[49m\u001b[43m,\u001b[49m\n\u001b[0;32m    885\u001b[0m \u001b[43m    \u001b[49m\u001b[43mbody\u001b[49m\u001b[38;5;241;43m=\u001b[39;49m\u001b[43mparams\u001b[49m\u001b[43m[\u001b[49m\u001b[38;5;124;43m\"\u001b[39;49m\u001b[38;5;124;43mbody\u001b[39;49m\u001b[38;5;124;43m\"\u001b[39;49m\u001b[43m]\u001b[49m\u001b[43m,\u001b[49m\n\u001b[0;32m    886\u001b[0m \u001b[43m    \u001b[49m\u001b[43mpost_params\u001b[49m\u001b[38;5;241;43m=\u001b[39;49m\u001b[43mparams\u001b[49m\u001b[43m[\u001b[49m\u001b[38;5;124;43m\"\u001b[39;49m\u001b[38;5;124;43mform\u001b[39;49m\u001b[38;5;124;43m\"\u001b[39;49m\u001b[43m]\u001b[49m\u001b[43m,\u001b[49m\n\u001b[0;32m    887\u001b[0m \u001b[43m    \u001b[49m\u001b[43mfiles\u001b[49m\u001b[38;5;241;43m=\u001b[39;49m\u001b[43mparams\u001b[49m\u001b[43m[\u001b[49m\u001b[38;5;124;43m\"\u001b[39;49m\u001b[38;5;124;43mfile\u001b[39;49m\u001b[38;5;124;43m\"\u001b[39;49m\u001b[43m]\u001b[49m\u001b[43m,\u001b[49m\n\u001b[0;32m    888\u001b[0m \u001b[43m    \u001b[49m\u001b[43mresponse_type\u001b[49m\u001b[38;5;241;43m=\u001b[39;49m\u001b[38;5;28;43mself\u001b[39;49m\u001b[38;5;241;43m.\u001b[39;49m\u001b[43msettings\u001b[49m\u001b[43m[\u001b[49m\u001b[38;5;124;43m\"\u001b[39;49m\u001b[38;5;124;43mresponse_type\u001b[39;49m\u001b[38;5;124;43m\"\u001b[39;49m\u001b[43m]\u001b[49m\u001b[43m,\u001b[49m\n\u001b[0;32m    889\u001b[0m \u001b[43m    \u001b[49m\u001b[43mauth_settings\u001b[49m\u001b[38;5;241;43m=\u001b[39;49m\u001b[38;5;28;43mself\u001b[39;49m\u001b[38;5;241;43m.\u001b[39;49m\u001b[43msettings\u001b[49m\u001b[43m[\u001b[49m\u001b[38;5;124;43m\"\u001b[39;49m\u001b[38;5;124;43mauth\u001b[39;49m\u001b[38;5;124;43m\"\u001b[39;49m\u001b[43m]\u001b[49m\u001b[43m,\u001b[49m\n\u001b[0;32m    890\u001b[0m \u001b[43m    \u001b[49m\u001b[43masync_req\u001b[49m\u001b[38;5;241;43m=\u001b[39;49m\u001b[43mkwargs\u001b[49m\u001b[43m[\u001b[49m\u001b[38;5;124;43m\"\u001b[39;49m\u001b[38;5;124;43masync_req\u001b[39;49m\u001b[38;5;124;43m\"\u001b[39;49m\u001b[43m]\u001b[49m\u001b[43m,\u001b[49m\n\u001b[0;32m    891\u001b[0m \u001b[43m    \u001b[49m\u001b[43masync_threadpool_executor\u001b[49m\u001b[38;5;241;43m=\u001b[39;49m\u001b[43mkwargs\u001b[49m\u001b[38;5;241;43m.\u001b[39;49m\u001b[43mget\u001b[49m\u001b[43m(\u001b[49m\u001b[38;5;124;43m\"\u001b[39;49m\u001b[38;5;124;43masync_threadpool_executor\u001b[39;49m\u001b[38;5;124;43m\"\u001b[39;49m\u001b[43m,\u001b[49m\u001b[43m \u001b[49m\u001b[38;5;28;43;01mNone\u001b[39;49;00m\u001b[43m)\u001b[49m\u001b[43m,\u001b[49m\n\u001b[0;32m    892\u001b[0m \u001b[43m    \u001b[49m\u001b[43m_check_type\u001b[49m\u001b[38;5;241;43m=\u001b[39;49m\u001b[43mkwargs\u001b[49m\u001b[43m[\u001b[49m\u001b[38;5;124;43m\"\u001b[39;49m\u001b[38;5;124;43m_check_return_type\u001b[39;49m\u001b[38;5;124;43m\"\u001b[39;49m\u001b[43m]\u001b[49m\u001b[43m,\u001b[49m\n\u001b[0;32m    893\u001b[0m \u001b[43m    \u001b[49m\u001b[43m_return_http_data_only\u001b[49m\u001b[38;5;241;43m=\u001b[39;49m\u001b[43mkwargs\u001b[49m\u001b[43m[\u001b[49m\u001b[38;5;124;43m\"\u001b[39;49m\u001b[38;5;124;43m_return_http_data_only\u001b[39;49m\u001b[38;5;124;43m\"\u001b[39;49m\u001b[43m]\u001b[49m\u001b[43m,\u001b[49m\n\u001b[0;32m    894\u001b[0m \u001b[43m    \u001b[49m\u001b[43m_preload_content\u001b[49m\u001b[38;5;241;43m=\u001b[39;49m\u001b[43mkwargs\u001b[49m\u001b[43m[\u001b[49m\u001b[38;5;124;43m\"\u001b[39;49m\u001b[38;5;124;43m_preload_content\u001b[39;49m\u001b[38;5;124;43m\"\u001b[39;49m\u001b[43m]\u001b[49m\u001b[43m,\u001b[49m\n\u001b[0;32m    895\u001b[0m \u001b[43m    \u001b[49m\u001b[43m_request_timeout\u001b[49m\u001b[38;5;241;43m=\u001b[39;49m\u001b[43mkwargs\u001b[49m\u001b[43m[\u001b[49m\u001b[38;5;124;43m\"\u001b[39;49m\u001b[38;5;124;43m_request_timeout\u001b[39;49m\u001b[38;5;124;43m\"\u001b[39;49m\u001b[43m]\u001b[49m\u001b[43m,\u001b[49m\n\u001b[0;32m    896\u001b[0m \u001b[43m    \u001b[49m\u001b[43m_host\u001b[49m\u001b[38;5;241;43m=\u001b[39;49m\u001b[43m_host\u001b[49m\u001b[43m,\u001b[49m\n\u001b[0;32m    897\u001b[0m \u001b[43m    \u001b[49m\u001b[43mcollection_formats\u001b[49m\u001b[38;5;241;43m=\u001b[39;49m\u001b[43mparams\u001b[49m\u001b[43m[\u001b[49m\u001b[38;5;124;43m\"\u001b[39;49m\u001b[38;5;124;43mcollection_format\u001b[39;49m\u001b[38;5;124;43m\"\u001b[39;49m\u001b[43m]\u001b[49m\u001b[43m,\u001b[49m\n\u001b[0;32m    898\u001b[0m \u001b[43m\u001b[49m\u001b[43m)\u001b[49m\n",
      "File \u001b[1;32mc:\\Users\\lucas\\.pyenv\\pyenv-win\\versions\\3.11.0\\Lib\\site-packages\\pinecone\\core\\openapi\\shared\\api_client.py:431\u001b[0m, in \u001b[0;36mApiClient.call_api\u001b[1;34m(self, resource_path, method, path_params, query_params, header_params, body, post_params, files, response_type, auth_settings, async_req, async_threadpool_executor, _return_http_data_only, collection_formats, _preload_content, _request_timeout, _host, _check_type)\u001b[0m\n\u001b[0;32m    410\u001b[0m     \u001b[38;5;28;01mreturn\u001b[39;00m \u001b[38;5;28mself\u001b[39m\u001b[38;5;241m.\u001b[39mthreadpool_executor\u001b[38;5;241m.\u001b[39msubmit(\n\u001b[0;32m    411\u001b[0m         \u001b[38;5;28mself\u001b[39m\u001b[38;5;241m.\u001b[39m__call_api,\n\u001b[0;32m    412\u001b[0m         resource_path,\n\u001b[1;32m   (...)\u001b[0m\n\u001b[0;32m    427\u001b[0m         _check_type,\n\u001b[0;32m    428\u001b[0m     )\n\u001b[0;32m    430\u001b[0m \u001b[38;5;28;01mif\u001b[39;00m \u001b[38;5;129;01mnot\u001b[39;00m async_req:\n\u001b[1;32m--> 431\u001b[0m     \u001b[38;5;28;01mreturn\u001b[39;00m \u001b[38;5;28;43mself\u001b[39;49m\u001b[38;5;241;43m.\u001b[39;49m\u001b[43m__call_api\u001b[49m\u001b[43m(\u001b[49m\n\u001b[0;32m    432\u001b[0m \u001b[43m        \u001b[49m\u001b[43mresource_path\u001b[49m\u001b[43m,\u001b[49m\n\u001b[0;32m    433\u001b[0m \u001b[43m        \u001b[49m\u001b[43mmethod\u001b[49m\u001b[43m,\u001b[49m\n\u001b[0;32m    434\u001b[0m \u001b[43m        \u001b[49m\u001b[43mpath_params\u001b[49m\u001b[43m,\u001b[49m\n\u001b[0;32m    435\u001b[0m \u001b[43m        \u001b[49m\u001b[43mquery_params\u001b[49m\u001b[43m,\u001b[49m\n\u001b[0;32m    436\u001b[0m \u001b[43m        \u001b[49m\u001b[43mheader_params\u001b[49m\u001b[43m,\u001b[49m\n\u001b[0;32m    437\u001b[0m \u001b[43m        \u001b[49m\u001b[43mbody\u001b[49m\u001b[43m,\u001b[49m\n\u001b[0;32m    438\u001b[0m \u001b[43m        \u001b[49m\u001b[43mpost_params\u001b[49m\u001b[43m,\u001b[49m\n\u001b[0;32m    439\u001b[0m \u001b[43m        \u001b[49m\u001b[43mfiles\u001b[49m\u001b[43m,\u001b[49m\n\u001b[0;32m    440\u001b[0m \u001b[43m        \u001b[49m\u001b[43mresponse_type\u001b[49m\u001b[43m,\u001b[49m\n\u001b[0;32m    441\u001b[0m \u001b[43m        \u001b[49m\u001b[43mauth_settings\u001b[49m\u001b[43m,\u001b[49m\n\u001b[0;32m    442\u001b[0m \u001b[43m        \u001b[49m\u001b[43m_return_http_data_only\u001b[49m\u001b[43m,\u001b[49m\n\u001b[0;32m    443\u001b[0m \u001b[43m        \u001b[49m\u001b[43mcollection_formats\u001b[49m\u001b[43m,\u001b[49m\n\u001b[0;32m    444\u001b[0m \u001b[43m        \u001b[49m\u001b[43m_preload_content\u001b[49m\u001b[43m,\u001b[49m\n\u001b[0;32m    445\u001b[0m \u001b[43m        \u001b[49m\u001b[43m_request_timeout\u001b[49m\u001b[43m,\u001b[49m\n\u001b[0;32m    446\u001b[0m \u001b[43m        \u001b[49m\u001b[43m_host\u001b[49m\u001b[43m,\u001b[49m\n\u001b[0;32m    447\u001b[0m \u001b[43m        \u001b[49m\u001b[43m_check_type\u001b[49m\u001b[43m,\u001b[49m\n\u001b[0;32m    448\u001b[0m \u001b[43m    \u001b[49m\u001b[43m)\u001b[49m\n\u001b[0;32m    450\u001b[0m \u001b[38;5;28;01mreturn\u001b[39;00m \u001b[38;5;28mself\u001b[39m\u001b[38;5;241m.\u001b[39mpool\u001b[38;5;241m.\u001b[39mapply_async(\n\u001b[0;32m    451\u001b[0m     retry_api_call,\n\u001b[0;32m    452\u001b[0m     args\u001b[38;5;241m=\u001b[39m(\n\u001b[1;32m   (...)\u001b[0m\n\u001b[0;32m    476\u001b[0m     )\n\u001b[0;32m    477\u001b[0m )\n",
      "File \u001b[1;32mc:\\Users\\lucas\\.pyenv\\pyenv-win\\versions\\3.11.0\\Lib\\site-packages\\pinecone\\core\\openapi\\shared\\api_client.py:216\u001b[0m, in \u001b[0;36mApiClient.__call_api\u001b[1;34m(self, resource_path, method, path_params, query_params, header_params, body, post_params, files, response_type, auth_settings, _return_http_data_only, collection_formats, _preload_content, _request_timeout, _host, _check_type)\u001b[0m\n\u001b[0;32m    214\u001b[0m \u001b[38;5;28;01mexcept\u001b[39;00m PineconeApiException \u001b[38;5;28;01mas\u001b[39;00m e:\n\u001b[0;32m    215\u001b[0m     e\u001b[38;5;241m.\u001b[39mbody \u001b[38;5;241m=\u001b[39m e\u001b[38;5;241m.\u001b[39mbody\u001b[38;5;241m.\u001b[39mdecode(\u001b[38;5;124m\"\u001b[39m\u001b[38;5;124mutf-8\u001b[39m\u001b[38;5;124m\"\u001b[39m)\n\u001b[1;32m--> 216\u001b[0m     \u001b[38;5;28;01mraise\u001b[39;00m e\n\u001b[0;32m    218\u001b[0m \u001b[38;5;28mself\u001b[39m\u001b[38;5;241m.\u001b[39mlast_response \u001b[38;5;241m=\u001b[39m response_data\n\u001b[0;32m    220\u001b[0m return_data \u001b[38;5;241m=\u001b[39m response_data\n",
      "File \u001b[1;32mc:\\Users\\lucas\\.pyenv\\pyenv-win\\versions\\3.11.0\\Lib\\site-packages\\pinecone\\core\\openapi\\shared\\api_client.py:204\u001b[0m, in \u001b[0;36mApiClient.__call_api\u001b[1;34m(self, resource_path, method, path_params, query_params, header_params, body, post_params, files, response_type, auth_settings, _return_http_data_only, collection_formats, _preload_content, _request_timeout, _host, _check_type)\u001b[0m\n\u001b[0;32m    200\u001b[0m     url \u001b[38;5;241m=\u001b[39m _host \u001b[38;5;241m+\u001b[39m resource_path\n\u001b[0;32m    202\u001b[0m \u001b[38;5;28;01mtry\u001b[39;00m:\n\u001b[0;32m    203\u001b[0m     \u001b[38;5;66;03m# perform request and return response\u001b[39;00m\n\u001b[1;32m--> 204\u001b[0m     response_data \u001b[38;5;241m=\u001b[39m \u001b[38;5;28;43mself\u001b[39;49m\u001b[38;5;241;43m.\u001b[39;49m\u001b[43mrequest\u001b[49m\u001b[43m(\u001b[49m\n\u001b[0;32m    205\u001b[0m \u001b[43m        \u001b[49m\u001b[43mmethod\u001b[49m\u001b[43m,\u001b[49m\n\u001b[0;32m    206\u001b[0m \u001b[43m        \u001b[49m\u001b[43murl\u001b[49m\u001b[43m,\u001b[49m\n\u001b[0;32m    207\u001b[0m \u001b[43m        \u001b[49m\u001b[43mquery_params\u001b[49m\u001b[38;5;241;43m=\u001b[39;49m\u001b[43mquery_params\u001b[49m\u001b[43m,\u001b[49m\n\u001b[0;32m    208\u001b[0m \u001b[43m        \u001b[49m\u001b[43mheaders\u001b[49m\u001b[38;5;241;43m=\u001b[39;49m\u001b[43mheader_params\u001b[49m\u001b[43m,\u001b[49m\n\u001b[0;32m    209\u001b[0m \u001b[43m        \u001b[49m\u001b[43mpost_params\u001b[49m\u001b[38;5;241;43m=\u001b[39;49m\u001b[43mpost_params\u001b[49m\u001b[43m,\u001b[49m\n\u001b[0;32m    210\u001b[0m \u001b[43m        \u001b[49m\u001b[43mbody\u001b[49m\u001b[38;5;241;43m=\u001b[39;49m\u001b[43mbody\u001b[49m\u001b[43m,\u001b[49m\n\u001b[0;32m    211\u001b[0m \u001b[43m        \u001b[49m\u001b[43m_preload_content\u001b[49m\u001b[38;5;241;43m=\u001b[39;49m\u001b[43m_preload_content\u001b[49m\u001b[43m,\u001b[49m\n\u001b[0;32m    212\u001b[0m \u001b[43m        \u001b[49m\u001b[43m_request_timeout\u001b[49m\u001b[38;5;241;43m=\u001b[39;49m\u001b[43m_request_timeout\u001b[49m\u001b[43m,\u001b[49m\n\u001b[0;32m    213\u001b[0m \u001b[43m    \u001b[49m\u001b[43m)\u001b[49m\n\u001b[0;32m    214\u001b[0m \u001b[38;5;28;01mexcept\u001b[39;00m PineconeApiException \u001b[38;5;28;01mas\u001b[39;00m e:\n\u001b[0;32m    215\u001b[0m     e\u001b[38;5;241m.\u001b[39mbody \u001b[38;5;241m=\u001b[39m e\u001b[38;5;241m.\u001b[39mbody\u001b[38;5;241m.\u001b[39mdecode(\u001b[38;5;124m\"\u001b[39m\u001b[38;5;124mutf-8\u001b[39m\u001b[38;5;124m\"\u001b[39m)\n",
      "File \u001b[1;32mc:\\Users\\lucas\\.pyenv\\pyenv-win\\versions\\3.11.0\\Lib\\site-packages\\pinecone\\core\\openapi\\shared\\api_client.py:518\u001b[0m, in \u001b[0;36mApiClient.request\u001b[1;34m(self, method, url, query_params, headers, post_params, body, _preload_content, _request_timeout)\u001b[0m\n\u001b[0;32m    508\u001b[0m     \u001b[38;5;28;01mreturn\u001b[39;00m \u001b[38;5;28mself\u001b[39m\u001b[38;5;241m.\u001b[39mrest_client\u001b[38;5;241m.\u001b[39mOPTIONS(\n\u001b[0;32m    509\u001b[0m         url,\n\u001b[0;32m    510\u001b[0m         query_params\u001b[38;5;241m=\u001b[39mquery_params,\n\u001b[1;32m   (...)\u001b[0m\n\u001b[0;32m    515\u001b[0m         body\u001b[38;5;241m=\u001b[39mbody,\n\u001b[0;32m    516\u001b[0m     )\n\u001b[0;32m    517\u001b[0m \u001b[38;5;28;01melif\u001b[39;00m method \u001b[38;5;241m==\u001b[39m \u001b[38;5;124m\"\u001b[39m\u001b[38;5;124mPOST\u001b[39m\u001b[38;5;124m\"\u001b[39m:\n\u001b[1;32m--> 518\u001b[0m     \u001b[38;5;28;01mreturn\u001b[39;00m \u001b[38;5;28;43mself\u001b[39;49m\u001b[38;5;241;43m.\u001b[39;49m\u001b[43mrest_client\u001b[49m\u001b[38;5;241;43m.\u001b[39;49m\u001b[43mPOST\u001b[49m\u001b[43m(\u001b[49m\n\u001b[0;32m    519\u001b[0m \u001b[43m        \u001b[49m\u001b[43murl\u001b[49m\u001b[43m,\u001b[49m\n\u001b[0;32m    520\u001b[0m \u001b[43m        \u001b[49m\u001b[43mquery_params\u001b[49m\u001b[38;5;241;43m=\u001b[39;49m\u001b[43mquery_params\u001b[49m\u001b[43m,\u001b[49m\n\u001b[0;32m    521\u001b[0m \u001b[43m        \u001b[49m\u001b[43mheaders\u001b[49m\u001b[38;5;241;43m=\u001b[39;49m\u001b[43mheaders\u001b[49m\u001b[43m,\u001b[49m\n\u001b[0;32m    522\u001b[0m \u001b[43m        \u001b[49m\u001b[43mpost_params\u001b[49m\u001b[38;5;241;43m=\u001b[39;49m\u001b[43mpost_params\u001b[49m\u001b[43m,\u001b[49m\n\u001b[0;32m    523\u001b[0m \u001b[43m        \u001b[49m\u001b[43m_preload_content\u001b[49m\u001b[38;5;241;43m=\u001b[39;49m\u001b[43m_preload_content\u001b[49m\u001b[43m,\u001b[49m\n\u001b[0;32m    524\u001b[0m \u001b[43m        \u001b[49m\u001b[43m_request_timeout\u001b[49m\u001b[38;5;241;43m=\u001b[39;49m\u001b[43m_request_timeout\u001b[49m\u001b[43m,\u001b[49m\n\u001b[0;32m    525\u001b[0m \u001b[43m        \u001b[49m\u001b[43mbody\u001b[49m\u001b[38;5;241;43m=\u001b[39;49m\u001b[43mbody\u001b[49m\u001b[43m,\u001b[49m\n\u001b[0;32m    526\u001b[0m \u001b[43m    \u001b[49m\u001b[43m)\u001b[49m\n\u001b[0;32m    527\u001b[0m \u001b[38;5;28;01melif\u001b[39;00m method \u001b[38;5;241m==\u001b[39m \u001b[38;5;124m\"\u001b[39m\u001b[38;5;124mPUT\u001b[39m\u001b[38;5;124m\"\u001b[39m:\n\u001b[0;32m    528\u001b[0m     \u001b[38;5;28;01mreturn\u001b[39;00m \u001b[38;5;28mself\u001b[39m\u001b[38;5;241m.\u001b[39mrest_client\u001b[38;5;241m.\u001b[39mPUT(\n\u001b[0;32m    529\u001b[0m         url,\n\u001b[0;32m    530\u001b[0m         query_params\u001b[38;5;241m=\u001b[39mquery_params,\n\u001b[1;32m   (...)\u001b[0m\n\u001b[0;32m    535\u001b[0m         body\u001b[38;5;241m=\u001b[39mbody,\n\u001b[0;32m    536\u001b[0m     )\n",
      "File \u001b[1;32mc:\\Users\\lucas\\.pyenv\\pyenv-win\\versions\\3.11.0\\Lib\\site-packages\\pinecone\\core\\openapi\\shared\\rest.py:345\u001b[0m, in \u001b[0;36mRESTClientObject.POST\u001b[1;34m(self, url, headers, query_params, post_params, body, _preload_content, _request_timeout)\u001b[0m\n\u001b[0;32m    335\u001b[0m \u001b[38;5;28;01mdef\u001b[39;00m \u001b[38;5;21mPOST\u001b[39m(\n\u001b[0;32m    336\u001b[0m     \u001b[38;5;28mself\u001b[39m,\n\u001b[0;32m    337\u001b[0m     url,\n\u001b[1;32m   (...)\u001b[0m\n\u001b[0;32m    343\u001b[0m     _request_timeout\u001b[38;5;241m=\u001b[39m\u001b[38;5;28;01mNone\u001b[39;00m,\n\u001b[0;32m    344\u001b[0m ):\n\u001b[1;32m--> 345\u001b[0m     \u001b[38;5;28;01mreturn\u001b[39;00m \u001b[38;5;28;43mself\u001b[39;49m\u001b[38;5;241;43m.\u001b[39;49m\u001b[43mrequest\u001b[49m\u001b[43m(\u001b[49m\n\u001b[0;32m    346\u001b[0m \u001b[43m        \u001b[49m\u001b[38;5;124;43m\"\u001b[39;49m\u001b[38;5;124;43mPOST\u001b[39;49m\u001b[38;5;124;43m\"\u001b[39;49m\u001b[43m,\u001b[49m\n\u001b[0;32m    347\u001b[0m \u001b[43m        \u001b[49m\u001b[43murl\u001b[49m\u001b[43m,\u001b[49m\n\u001b[0;32m    348\u001b[0m \u001b[43m        \u001b[49m\u001b[43mheaders\u001b[49m\u001b[38;5;241;43m=\u001b[39;49m\u001b[43mheaders\u001b[49m\u001b[43m,\u001b[49m\n\u001b[0;32m    349\u001b[0m \u001b[43m        \u001b[49m\u001b[43mquery_params\u001b[49m\u001b[38;5;241;43m=\u001b[39;49m\u001b[43mquery_params\u001b[49m\u001b[43m,\u001b[49m\n\u001b[0;32m    350\u001b[0m \u001b[43m        \u001b[49m\u001b[43mpost_params\u001b[49m\u001b[38;5;241;43m=\u001b[39;49m\u001b[43mpost_params\u001b[49m\u001b[43m,\u001b[49m\n\u001b[0;32m    351\u001b[0m \u001b[43m        \u001b[49m\u001b[43m_preload_content\u001b[49m\u001b[38;5;241;43m=\u001b[39;49m\u001b[43m_preload_content\u001b[49m\u001b[43m,\u001b[49m\n\u001b[0;32m    352\u001b[0m \u001b[43m        \u001b[49m\u001b[43m_request_timeout\u001b[49m\u001b[38;5;241;43m=\u001b[39;49m\u001b[43m_request_timeout\u001b[49m\u001b[43m,\u001b[49m\n\u001b[0;32m    353\u001b[0m \u001b[43m        \u001b[49m\u001b[43mbody\u001b[49m\u001b[38;5;241;43m=\u001b[39;49m\u001b[43mbody\u001b[49m\u001b[43m,\u001b[49m\n\u001b[0;32m    354\u001b[0m \u001b[43m    \u001b[49m\u001b[43m)\u001b[49m\n",
      "File \u001b[1;32mc:\\Users\\lucas\\.pyenv\\pyenv-win\\versions\\3.11.0\\Lib\\site-packages\\pinecone\\core\\openapi\\shared\\rest.py:279\u001b[0m, in \u001b[0;36mRESTClientObject.request\u001b[1;34m(self, method, url, query_params, headers, body, post_params, _preload_content, _request_timeout)\u001b[0m\n\u001b[0;32m    276\u001b[0m     \u001b[38;5;28;01mif\u001b[39;00m \u001b[38;5;241m500\u001b[39m \u001b[38;5;241m<\u001b[39m\u001b[38;5;241m=\u001b[39m r\u001b[38;5;241m.\u001b[39mstatus \u001b[38;5;241m<\u001b[39m\u001b[38;5;241m=\u001b[39m \u001b[38;5;241m599\u001b[39m:\n\u001b[0;32m    277\u001b[0m         \u001b[38;5;28;01mraise\u001b[39;00m ServiceException(http_resp\u001b[38;5;241m=\u001b[39mr)\n\u001b[1;32m--> 279\u001b[0m     \u001b[38;5;28;01mraise\u001b[39;00m PineconeApiException(http_resp\u001b[38;5;241m=\u001b[39mr)\n\u001b[0;32m    281\u001b[0m \u001b[38;5;28;01mreturn\u001b[39;00m r\n",
      "\u001b[1;31mPineconeApiException\u001b[0m: (409)\nReason: Conflict\nHTTP response headers: HTTPHeaderDict({'content-type': 'text/plain; charset=utf-8', 'access-control-allow-origin': '*', 'vary': 'origin,access-control-request-method,access-control-request-headers', 'access-control-expose-headers': '*', 'x-pinecone-api-version': '2024-07', 'X-Cloud-Trace-Context': '61ad522ff6857dfd325f71e34b875996', 'Date': 'Sat, 22 Feb 2025 22:46:59 GMT', 'Server': 'Google Frontend', 'Content-Length': '85', 'Via': '1.1 google', 'Alt-Svc': 'h3=\":443\"; ma=2592000,h3-29=\":443\"; ma=2592000'})\nHTTP response body: {\"error\":{\"code\":\"ALREADY_EXISTS\",\"message\":\"Resource  already exists\"},\"status\":409}\n"
     ]
    }
   ],
   "source": [
    "embeddings = OpenAIEmbeddings(model=\"text-embedding-3-small\")\n",
    "\n",
    "pc.create_index(\n",
    "    name= 'department-abbrev-db',\n",
    "    dimension=1536,\n",
    "    metric=\"cosine\",\n",
    "    spec=ServerlessSpec(cloud=\"aws\", region=\"us-east-1\"),\n",
    ")\n",
    "\n"
   ]
  },
  {
   "cell_type": "code",
   "execution_count": 11,
   "metadata": {},
   "outputs": [],
   "source": [
    "embeddings = OpenAIEmbeddings(model=\"text-embedding-3-small\")"
   ]
  },
  {
   "cell_type": "code",
   "execution_count": 6,
   "metadata": {},
   "outputs": [],
   "source": [
    "index = pc.Index(\"department-abbrev-db\")"
   ]
  },
  {
   "cell_type": "code",
   "execution_count": 7,
   "metadata": {},
   "outputs": [
    {
     "name": "stdout",
     "output_type": "stream",
     "text": [
      "page_content='SWA'\n"
     ]
    }
   ],
   "source": [
    "documents = [Document(page_content = doc) for doc in departments]\n",
    "print(documents[0])"
   ]
  },
  {
   "cell_type": "code",
   "execution_count": 12,
   "metadata": {},
   "outputs": [
    {
     "data": {
      "text/plain": [
       "['f808f37d-b544-4dfd-8ab0-8d8082829164',\n",
       " '6c196248-5d91-4b00-8a6d-72d30f4dbc7d',\n",
       " '552344ee-c9a0-459d-a564-2efb2bc7229d',\n",
       " '8081bb13-ead1-40ff-8246-5c4672753732',\n",
       " 'ea88e175-583d-4a96-a0cc-4f37e9e82055',\n",
       " '32b454e7-f1bc-4742-b23a-1cae2e808c90',\n",
       " '7eb0b49b-d730-4de0-bad3-e2758270b093',\n",
       " '55d1fe58-8689-4705-b149-e8c318725312',\n",
       " 'ef825edd-67a4-46ff-aef9-6514ba633cc0',\n",
       " '5a43808e-180e-462f-995b-f0c4b69c724a',\n",
       " '63706fa6-594f-4025-998d-0b1be8fa5aef',\n",
       " '4db5f691-a4f8-4173-b743-abd47454999c',\n",
       " 'd400f22f-e9cf-43b2-9c45-125d004f6387',\n",
       " '0a6f97f2-e918-4510-a9a1-c2679b62a73b',\n",
       " '7f70e1a8-9cd7-4351-b676-2313d5c56d10',\n",
       " '390bf1d5-7958-4eb8-907b-dc788fa1b15a',\n",
       " 'cd8ea2dc-48bb-42a6-a8a0-b9e88521505f',\n",
       " '1f859aed-a964-42de-a3d5-0a02a654f252',\n",
       " 'e09ebfe1-f0b8-4cbe-a083-59f5819f56d3',\n",
       " 'a70fc283-ab7c-49ba-b2b1-98cf2169bb56',\n",
       " '555a9994-398c-4791-aff6-d306a7423c61',\n",
       " 'cb28bf12-ef31-4448-a51b-7cb9add68c07',\n",
       " 'c9ddbbc3-ecb3-4d2b-9c74-42c78b126cf0',\n",
       " '1fa1f71a-f1bc-449d-9562-2a2943b8589e',\n",
       " '4d1d8a7d-cb5e-4b8e-b7e5-5e5104a901ad',\n",
       " 'fdbdfdd7-8997-4b16-b409-465a1f3df27f',\n",
       " 'd4136749-5047-4062-b914-a1a7cfb45a9e',\n",
       " '5d71ea7f-9866-4862-974d-75c134088b60',\n",
       " '724d741e-1219-40f3-91ea-2294c3592589',\n",
       " 'e095e293-06c9-4d55-9fb0-16ddb061bc72',\n",
       " '2e9c18ca-0a94-4b61-b8f5-3ff6fe299104',\n",
       " '28604882-643e-406b-bd71-5fef53d67fb8',\n",
       " 'c83fd361-7211-4155-a91e-41d9abea3e87',\n",
       " 'cf1ecc33-c392-4728-80d0-9ac7e86bd5d3',\n",
       " '515349cc-e469-4e35-a96e-ebadfd9401d5',\n",
       " '0e694618-20e1-4f9c-a3d1-4c2d3a7119d1',\n",
       " 'dec28c40-78a6-4bec-820f-c819c5ceeb06',\n",
       " '7d3820f9-9de7-4598-8460-2f03d04a0ba7',\n",
       " '34cb38c5-94c8-4946-ab31-e01f2ba3a21e',\n",
       " '76e6f476-d5d5-468b-9a03-105d2e0b564e',\n",
       " '5599dd2c-e159-4eec-ae53-36b11fa37717',\n",
       " '432a7d36-4408-41ee-9dc3-f65dcf4a9f7d',\n",
       " 'c89d6b62-76a0-4b31-b558-2c3b27f957ea',\n",
       " '82d58a89-5614-48b5-9b11-cf285089c437',\n",
       " '04677cfb-2527-49bc-b87e-4e3929b8dc48',\n",
       " '0e51774c-57e7-421a-bac9-6e9435565c96',\n",
       " 'bba9f394-3f10-4628-8e31-dfa21ebf1bf4',\n",
       " '4360b4ba-426c-4e4f-aa3f-579b115fd80a',\n",
       " '0d5c2867-76c3-4c69-90ea-7f6fdba39aa7',\n",
       " 'df17ccba-25d5-4f00-b789-66be71909354',\n",
       " '3d6fce81-f402-473f-a39c-b6756649cda6',\n",
       " '4f34b550-ab7e-4598-a0ab-4d3a0dd5725e',\n",
       " '5f714dd3-135c-4bbd-83dd-cdd143cef3d9',\n",
       " '2c3e3308-c16a-4af8-ade0-5626abb0282a',\n",
       " '93941ba0-f238-4041-88c3-81e322b20f7a',\n",
       " '9b6badac-5b95-4b67-b12b-64124c160248',\n",
       " '4e528cf5-dc77-4fde-8e1a-d51fcb49fbb5',\n",
       " 'ad05cebe-9946-4ad1-8072-d0e5753423bf',\n",
       " '91969a6f-b93f-4c0c-b59a-38455c8f26f1',\n",
       " 'a0dc20c3-f7ff-4658-9ada-355c3330d172',\n",
       " 'e03ecac5-809d-471d-8b9d-3b7a171e56e5',\n",
       " '9eb4a4dd-7a75-44f4-b866-1798e0f27e4b',\n",
       " 'c6b810c1-e30c-45b7-aed3-c9670877985b',\n",
       " '459188c4-57ee-4b86-945f-15c69cc715e5',\n",
       " 'b6ae0a62-e78f-40a3-9967-2c933261e4a6',\n",
       " 'e81ee695-0ec9-4c3a-89a7-69ae333a19a6',\n",
       " 'd06158c3-773f-4eb7-8718-9d5e6b4daa1f',\n",
       " '7ae9f506-3840-437a-9351-5267c68d535e',\n",
       " '714ef2f3-f058-4672-9c3f-2c92e26c5829',\n",
       " 'af7d67b6-6f1d-4395-920a-a17971045b25',\n",
       " 'dfaa2e80-ca9e-431d-80d6-03333aec60f4',\n",
       " 'c03ade60-6a55-4812-a727-9e1af7320dbf',\n",
       " '44363eed-07aa-483f-a216-901ce4e0d36d',\n",
       " '581cc41b-a739-4e89-aa89-e1b000257fc0',\n",
       " '895e9d88-67b2-40cb-b851-47a1a24805b2',\n",
       " '9f84a4ac-3e08-4ab6-b29b-85df53aeda3a',\n",
       " '05f8f962-dda2-4483-b415-86ccb4f6f51d',\n",
       " 'c7c815cf-2bac-4705-ba7c-5b48c367c1c8',\n",
       " '79f19811-a9e0-40e4-94aa-8988a79ba438',\n",
       " 'ee9c4e48-0bfd-4cce-8b8f-da39d48550ef',\n",
       " '124f300a-607e-467a-9da2-147111da1a58',\n",
       " '835d2cf7-0e33-485e-b0d6-9bee3b4a8c1b',\n",
       " 'f8365ab3-7bc5-4ed4-93a9-b1a438acbc4c',\n",
       " '4d5834b1-8104-4539-b6c3-d6fd595d6f1a',\n",
       " '2ac4030b-d13e-422f-8df3-608ff96bf889',\n",
       " '0f8e57ea-7d91-45f7-9c5a-20dff260715c',\n",
       " '91157566-47a3-40c1-a924-cbc3b3ac941b',\n",
       " '70b9a8eb-2b80-4ec5-9f2e-a851e98749e2',\n",
       " '6e740047-2eb3-4a62-9115-9557d063b8f9',\n",
       " 'd6bd1d19-69db-4cf9-9ce5-2b768fd173f8',\n",
       " '1779688c-9897-46ce-91a6-74e2a189b267',\n",
       " '40c04cee-d033-47bc-86b4-d86b2b19f76a',\n",
       " '5de0bf22-74a9-4518-8aad-1c46b8c77768',\n",
       " '2d2fa311-05ec-4523-b1fd-3561528f089a',\n",
       " 'b3c507e7-208d-4000-b2bb-ab6a85c36b97',\n",
       " 'e1b9225f-c797-43c5-9b59-b763bafe6f59',\n",
       " 'df101707-eee7-451e-823a-2e67ffc67721',\n",
       " 'caf020f8-5887-4a1f-bfd5-143db5687ee8',\n",
       " 'd0cd7e69-e2a1-4712-addc-446e33f6f07a',\n",
       " '0ec76eec-448c-4c96-97b8-b80c609c80f0',\n",
       " '648ed794-1530-4cf6-a7ed-88b800760f34',\n",
       " '3bc272bb-8a28-475a-9cfb-c4583b4814cc',\n",
       " '1684843c-2c5e-4c31-b29e-105861f332bc',\n",
       " '06aa7b0c-cb82-4844-9d78-f2eda3a56f8e',\n",
       " '913dc4bb-37fe-40f7-b771-ab820f74e507',\n",
       " 'a8f2b3b5-03a1-42a5-9a0f-7bb63b4b7bb4',\n",
       " '10a97bb8-eb81-4d71-9c1d-fe728b4619ce',\n",
       " 'f97228ce-0eff-46d4-a6f6-2d3f87a6608d',\n",
       " 'c4effac4-6353-4f62-ad7f-67400b6fff8e',\n",
       " '35e03c34-ae99-443f-a077-734f3169a901',\n",
       " 'f21e1c9c-795b-43b4-9c60-ccb2aca52b3f',\n",
       " 'f00f8b7f-dc39-4252-8628-d57a7147dbab',\n",
       " '4b144b3d-7a10-40ec-bc04-33ad8f302b63',\n",
       " 'ca245582-6f99-4ede-85d8-fe91104b7d83',\n",
       " 'fc9ff758-88dc-401f-ab9f-cfaedcf9cd21',\n",
       " '30e135d5-0fad-45cb-abed-a05513ebbc11',\n",
       " 'da1164aa-6301-4737-be86-22816ebc0ad0',\n",
       " 'ccc75924-25ca-4d76-b3bb-33eea8c8c534',\n",
       " 'baa4f598-ce64-431d-881a-0fee13f50edb',\n",
       " 'a0eb2d87-c066-4078-a7aa-6bebfa96cd0c',\n",
       " '8af33120-9bb7-46c7-a2b4-ff618c3ad906',\n",
       " '3dc6ca9f-6590-42d2-b5ff-b209275ee074',\n",
       " '3cd46d47-d8b1-4de9-9280-34d23e9ed0a9',\n",
       " '4ba369eb-caf4-4951-9623-5b35d3b951cc',\n",
       " 'c0ce8aa1-9bfe-4d56-a5c0-e1250bade2ca',\n",
       " 'e26abc6f-29e7-41e9-ae75-33b6d83603a9',\n",
       " 'db4cd882-d558-428d-9f88-4fdbf65eecf3',\n",
       " 'a33c184b-9995-4060-8f0b-6a9b0ccfa87c',\n",
       " '34a45a79-775a-47a1-8158-2825490d28b8',\n",
       " 'c0b64b89-c084-456e-8257-f2981a6b75d2',\n",
       " 'd44639d7-1928-4362-bc8c-609cc31af2b4',\n",
       " '62cf8b3e-6f4a-4178-9b2e-56eeeab0f9fa',\n",
       " 'd99ad000-7315-4964-90ef-0976fe04a485',\n",
       " '2480e31f-b924-44d7-985d-811c9c51e76d',\n",
       " '73180d44-0a18-4600-b990-095e3d71f06f',\n",
       " 'c8a1dc9b-3da3-4232-a426-d848d753455b',\n",
       " '4823eb6e-e820-4f01-a035-32469b4bd44e',\n",
       " '0986a175-2735-49cd-b572-aea861385acc',\n",
       " '475736e7-f7a2-47e6-82da-5e86ea596416',\n",
       " '6d0cb21b-e265-40a8-bf7a-fecc8c8895e2',\n",
       " '70bc3bf7-77f4-460d-a3e7-37095be52d73',\n",
       " '425daa27-8758-4690-a450-39ec03a120f8',\n",
       " 'c2e8168a-a691-4b3c-b995-972493c3594c',\n",
       " '4bbd2569-7153-4ccd-b02f-6de2aec618ad',\n",
       " 'e86558ce-288b-44e7-b712-807df492babb',\n",
       " 'c010c934-7fa5-44ff-aed5-56e48bcea6d1',\n",
       " '133ee4c9-5044-415a-9801-6cfdaadee9f1',\n",
       " '64a732a9-22c7-4cb8-bebf-d59b4706dc8d',\n",
       " 'd58db4a2-4507-45d2-a90d-f4434dd44a1d',\n",
       " '98a3dd2e-0e0c-4b72-8da3-2e7626eb4ee3',\n",
       " '038a374c-a142-4a3c-8a8d-ac3fe7dce139',\n",
       " '1cec646e-37a1-43f8-883f-f6da3825109e',\n",
       " 'af264ef5-973d-4c07-b377-692294140d91',\n",
       " '78e1faa4-cab2-42c4-bb81-1824f3edd820',\n",
       " '86eda56f-393a-4e9e-8f11-cfe223974f88',\n",
       " '021a77d2-8a38-4dbf-89a6-037197b21022',\n",
       " 'e5820653-e438-42a5-a2a8-f12cc09c62c5',\n",
       " '486feb12-5504-4b14-861e-b6da6924ae0d',\n",
       " '0711d221-6b51-4d84-901a-8bf2cd5de90b',\n",
       " '2915777b-1371-4d43-88c2-94be685c9e84',\n",
       " 'efeac244-32d1-47b3-babe-00a9f028ae09',\n",
       " '0f4cdba2-afdc-45c4-b741-ead5552a65d6',\n",
       " 'f3efb2d4-8fdc-422d-8463-2a0a0e21bb59',\n",
       " '6b7c096d-8da8-4d23-8e4d-fdc60be12053',\n",
       " 'e6ed5eba-08eb-4870-98ce-6e103045bcf5',\n",
       " 'c4b08674-8d93-43f3-b9cf-dd5f2da51ba8',\n",
       " 'fde1b94d-a14a-490f-925f-a8b63fb136a3',\n",
       " '600dcd62-ccfa-4b14-bbb6-64e64490035d',\n",
       " '8533dbfb-e657-4cdf-b174-7511b3574a3a',\n",
       " 'c8df6cc3-1d01-43ec-8d7c-b92d853cee07',\n",
       " '5f2e0bcf-0b11-4825-9c54-b92ce5613865',\n",
       " '1854b511-3eb8-4973-b9a6-46fc6ddb2fee',\n",
       " '445e9476-1d6e-49ad-a6b5-c7796e8abccc',\n",
       " '9c35d9e7-89d5-4244-874e-dd7f23583574',\n",
       " 'e5ef8e4c-10dc-42c9-9818-bab89688466c',\n",
       " '49ce8fed-d7d6-42bf-9a36-7e52b479d862',\n",
       " '004639e7-ea97-4065-a9c2-e315b630a0b5',\n",
       " '1cdc544e-92bf-43fd-8318-0e06909a2d16',\n",
       " '0106d1ce-3d02-480c-9922-e1649b95a015',\n",
       " '744173c4-5122-43c8-a370-d1ba297e677c',\n",
       " '21cebb77-12e2-4002-8ac6-c72a31115638',\n",
       " '3ebe2acd-bed8-482a-a4db-4f061fe92792',\n",
       " '666ac7af-09b7-4bd0-b914-ac134295e4e9',\n",
       " '0b1629af-388f-428b-bddd-89a053764adc',\n",
       " '8f7ae802-1a65-417d-9b59-6e351a28b2db',\n",
       " '72ed041c-743e-4895-ae1a-ea28eac13627',\n",
       " 'ace89a6c-6c2d-4e28-a548-b4f47debcf91',\n",
       " '22a98839-1f05-464a-9b6b-e48e03f446c2',\n",
       " 'e3a9bcf2-c86f-4d9b-b274-1c7df6f10914',\n",
       " '2fd80123-6028-4be5-aefd-79b991d5f5b4',\n",
       " 'cd6556b6-e6dd-424c-b6cf-7b270d6e0b84',\n",
       " 'ac79ec38-a651-409d-ae33-3a2e1357d004',\n",
       " '5afff92b-8e1f-4252-9329-7a860b215ff0',\n",
       " '12b919fc-d16b-4666-94f8-4b11b95ff2d9',\n",
       " 'ba9e860d-26b8-4e87-9eea-d9d649c50474']"
      ]
     },
     "execution_count": 12,
     "metadata": {},
     "output_type": "execute_result"
    }
   ],
   "source": [
    "vector_store = PineconeVectorStore(index=index, embedding=embeddings)\n",
    "vector_store.add_documents(documents)\n",
    "\n"
   ]
  },
  {
   "cell_type": "code",
   "execution_count": 15,
   "metadata": {},
   "outputs": [
    {
     "name": "stdout",
     "output_type": "stream",
     "text": [
      "* ECE [{}]\n",
      "* CSE [{}]\n"
     ]
    }
   ],
   "source": [
    "results = vector_store.similarity_search(\n",
    "    \"What are some computer engineering courses?\",\n",
    "    k=2,\n",
    ")\n",
    "for res in results:\n",
    "    print(f\"* {res.page_content} [{res.metadata}]\")"
   ]
  }
 ],
 "metadata": {
  "kernelspec": {
   "display_name": "3.11.0",
   "language": "python",
   "name": "python3"
  },
  "language_info": {
   "codemirror_mode": {
    "name": "ipython",
    "version": 3
   },
   "file_extension": ".py",
   "mimetype": "text/x-python",
   "name": "python",
   "nbconvert_exporter": "python",
   "pygments_lexer": "ipython3",
   "version": "3.11.0"
  }
 },
 "nbformat": 4,
 "nbformat_minor": 2
}
