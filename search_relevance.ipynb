{
 "cells": [
  {
   "cell_type": "code",
   "execution_count": null,
   "metadata": {},
   "outputs": [],
   "source": [
    "import langchain\n",
    "from langchain_community.document_loaders import DataFrameLoader\n",
    "import json\n",
    "import pandas as pd\n",
    "import getpass\n",
    "import os\n",
    "from pinecone import Pinecone, ServerlessSpec\n",
    "from langchain_pinecone import PineconeVectorStore\n",
    "from langchain_openai import OpenAIEmbeddings \n",
    "import openai \n",
    "from llama_index.core.retrievers import NLSQLRetriever\n",
    "\n",
    "import sqlite3\n",
    "import os\n",
    "import llama_index\n",
    "\n",
    "\n",
    "from sqlalchemy import (\n",
    "    create_engine,\n",
    "    MetaData,\n",
    "    Table,\n",
    "    Column,\n",
    "    String,\n",
    "    Integer,\n",
    "    select,\n",
    ")\n",
    "\n",
    "from llama_index.core import SQLDatabase\n",
    "from llama_index.llms.openai import OpenAI\n",
    "\n",
    "\n",
    "from sqlalchemy import text\n"
   ]
  },
  {
   "cell_type": "code",
   "execution_count": null,
   "metadata": {},
   "outputs": [],
   "source": [
    "\"\"\"\n",
    "1. Number of where statements is number of filters\n",
    "2. How we weight each filter in terms of importance?\n",
    "    2.1 Dynamically?\n",
    "3. \n",
    "\"\"\""
   ]
  },
  {
   "cell_type": "code",
   "execution_count": null,
   "metadata": {},
   "outputs": [],
   "source": [
    "pinecone_api_key = os.environ.get(\"pinecone_API\")\n",
    "\n",
    "pc = Pinecone(api_key=pinecone_api_key)\n",
    "\n",
    "api_key = os.getenv(\"OPENAI_API_KEY\")\n",
    "openai.api_key = api_key"
   ]
  },
  {
   "cell_type": "code",
   "execution_count": null,
   "metadata": {},
   "outputs": [],
   "source": [
    "class Query():\n",
    "    \"\"\"\n",
    "    This class represents a query and the its management lifecycle to find relevant courses\n",
    "\n",
    "    \"\"\"\n",
    "    default_weights = {}\n",
    "\n",
    "    def __init__(self, query, abbrev_vector_store, descr_vector_store, credit_vector_score, database):\n",
    "        self.query = query\n",
    "        self.embedding = None\n",
    "        self.weights = {}\n",
    "        self.abbrev_and_scores = {}\n",
    "        self.abbrev_vector_store = abbrev_vector_store\n",
    "        self.descr_vector_store = descr_vector_store\n",
    "        self.credit_vector_score = credit_vector_score\n",
    "        self.sql = None\n",
    "        self.database = database\n",
    "        \n",
    "        \n",
    "    def get_embedding(self):\n",
    "        \n",
    "        pass\n",
    "\n",
    "    def get_weights(self):\n",
    "\n",
    "        pass\n",
    "\n",
    "    def get_sql(self):\n",
    "        pass\n",
    "\n",
    "    def find_relevant_course(self):\n",
    "        \"\"\" Takes in weight dictionaries and uses a mix of dynamic query weighting and predifined weights\n",
    "        to create a viable probability distribution for how to rank relevant queries\n",
    "\n",
    "        \"\"\"\n",
    "\n",
    "\n",
    "        pass\n",
    "\n",
    "    def get_widen_search(self):\n",
    "        \"\"\" Reruns the query with a wider search, i.e. dropping where clauses\"\"\"\n",
    "        pass"
   ]
  }
 ],
 "metadata": {
  "kernelspec": {
   "display_name": "3.11.0",
   "language": "python",
   "name": "python3"
  },
  "language_info": {
   "name": "python",
   "version": "3.11.0"
  }
 },
 "nbformat": 4,
 "nbformat_minor": 2
}
