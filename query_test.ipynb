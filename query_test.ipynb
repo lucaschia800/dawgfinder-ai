{
 "cells": [
  {
   "cell_type": "code",
   "execution_count": 1,
   "metadata": {},
   "outputs": [
    {
     "name": "stderr",
     "output_type": "stream",
     "text": [
      "c:\\Users\\lucas\\.pyenv\\pyenv-win\\versions\\3.11.0\\Lib\\site-packages\\pinecone\\data\\index.py:1: TqdmWarning: IProgress not found. Please update jupyter and ipywidgets. See https://ipywidgets.readthedocs.io/en/stable/user_install.html\n",
      "  from tqdm.autonotebook import tqdm\n"
     ]
    }
   ],
   "source": [
    "from query import Query"
   ]
  },
  {
   "cell_type": "code",
   "execution_count": null,
   "metadata": {},
   "outputs": [],
   "source": [
    "query_curr = Query('show classes with stuartt regiss')"
   ]
  },
  {
   "cell_type": "code",
   "execution_count": null,
   "metadata": {},
   "outputs": [],
   "source": [
    "query_curr.find_relevant_courses()"
   ]
  },
  {
   "cell_type": "code",
   "execution_count": 4,
   "metadata": {},
   "outputs": [],
   "source": [
    "query_cs = Query('Show me 5 credit cs classes')"
   ]
  },
  {
   "cell_type": "code",
   "execution_count": 5,
   "metadata": {},
   "outputs": [
    {
     "name": "stdout",
     "output_type": "stream",
     "text": [
      "[NodeWithScore(node=TextNode(id_='ea07bd40-5c83-4985-96ec-f946e92f85e5', embedding=None, metadata={'sql_query': \"SELECT department_abbrv, course_id, credits, credit_type\\nFROM all_classes\\nWHERE department_abbrv = 'CSS' AND credit_type LIKE '%CS%'\\nLIMIT 5;\", 'result': [], 'col_keys': ['department_abbrv', 'course_id', 'credits', 'credit_type']}, excluded_embed_metadata_keys=['sql_query', 'result', 'col_keys'], excluded_llm_metadata_keys=['sql_query', 'result', 'col_keys'], relationships={}, metadata_template='{key}: {value}', metadata_separator='\\n', text='[]', mimetype='text/plain', start_char_idx=None, end_char_idx=None, metadata_seperator='\\n', text_template='{metadata_str}\\n\\n{content}'), score=None)]\n",
      "Widening Search\n",
      "Where clause:\n",
      "WHERE department_abbrv = 'CSS' AND credit_type LIKE '%CS%'\n",
      "SELECT department_abbrv, course_id, credits, credit_type\n",
      "FROM all_classes\n",
      "WHERE department_abbrv = 'CSS' AND credit_type LIKE '%CS%'\n",
      "LIMIT 5;\n",
      "SELECT department_abbrv, course_id, credits, credit_type\n",
      "FROM all_classes\n",
      "WHERE department_abbrv = 'CSS' \n",
      "LIMIT 5;\n",
      "Widening Search\n",
      "Where clause:\n",
      "WHERE department_abbrv = 'CSS'\n",
      "No more where clauses to drop\n"
     ]
    },
    {
     "ename": "TypeError",
     "evalue": "object of type 'NoneType' has no len()",
     "output_type": "error",
     "traceback": [
      "\u001b[1;31m---------------------------------------------------------------------------\u001b[0m",
      "\u001b[1;31mTypeError\u001b[0m                                 Traceback (most recent call last)",
      "Cell \u001b[1;32mIn[5], line 2\u001b[0m\n\u001b[0;32m      1\u001b[0m returns \u001b[38;5;241m=\u001b[39m query_cs\u001b[38;5;241m.\u001b[39mfind_relevant_courses()\n\u001b[1;32m----> 2\u001b[0m \u001b[38;5;28mprint\u001b[39m(\u001b[38;5;28;43mlen\u001b[39;49m\u001b[43m(\u001b[49m\u001b[43mreturns\u001b[49m\u001b[43m)\u001b[49m)\n",
      "\u001b[1;31mTypeError\u001b[0m: object of type 'NoneType' has no len()"
     ]
    }
   ],
   "source": [
    "returns = query_cs.find_relevant_courses()\n",
    "print(len(returns))\n"
   ]
  },
  {
   "cell_type": "code",
   "execution_count": 4,
   "metadata": {},
   "outputs": [
    {
     "name": "stdout",
     "output_type": "stream",
     "text": [
      "Widening Search\n",
      "Where clause:\n",
      "WHERE department_abbrv = 'ANTH'\n",
      "AND teacher_rating > 4\n",
      "AND mean_gpa > 3.3;\n",
      "SELECT department_abbrv, course_id, professor_name, mean_gpa, teacher_rating, UUID\n",
      "FROM all_classes\n",
      "WHERE department_abbrv = 'ANTH' \n",
      "AND teacher_rating > 4 \n",
      "AND mean_gpa > 3.3;\n",
      "SELECT department_abbrv, course_id, professor_name, mean_gpa, teacher_rating, UUID\n",
      "FROM all_classes\n",
      "WHERE department_abbrv = 'ANTH'\n",
      "AND teacher_rating > 4\n",
      "Where clause:\n",
      "WHERE department_abbrv = 'ANTH'\n",
      "AND teacher_rating > 4\n",
      "abbrv and credit\n",
      "UUIDs and abbrevs:\n",
      "[('ANTH204ASpring2025', 'ANTH'), ('ANTH213ASpring2025', 'ANTH'), ('ANTH213BSpring2025', 'ANTH'), ('ANTH215ASpring2025', 'ANTH'), ('ANTH304ASpring2025', 'ANTH'), ('ANTH323ASpring2025', 'ANTH'), ('ANTH373ASpring2025', 'ANTH'), ('ANTH469BSpring2025', 'ANTH'), ('ANTH477ASpring2025', 'ANTH'), ('ANTH569ASpring2025', 'ANTH')]\n",
      "ANTH\n",
      "ANTHROPOLOGY: ANTH\n",
      "uuid and rank\n",
      "{'ANTH204ASpring2025': 37.2664779}\n",
      "ANTH\n",
      "ANTHROPOLOGY: ANTH\n",
      "uuid and rank\n",
      "{'ANTH204ASpring2025': 37.2664779, 'ANTH213ASpring2025': 37.2664779}\n",
      "ANTH\n",
      "ANTHROPOLOGY: ANTH\n",
      "uuid and rank\n",
      "{'ANTH204ASpring2025': 37.2664779, 'ANTH213ASpring2025': 37.2664779, 'ANTH213BSpring2025': 37.2664779}\n",
      "ANTH\n",
      "ANTHROPOLOGY: ANTH\n",
      "uuid and rank\n",
      "{'ANTH204ASpring2025': 37.2664779, 'ANTH213ASpring2025': 37.2664779, 'ANTH213BSpring2025': 37.2664779, 'ANTH215ASpring2025': 37.2664779}\n",
      "ANTH\n",
      "ANTHROPOLOGY: ANTH\n",
      "uuid and rank\n",
      "{'ANTH204ASpring2025': 37.2664779, 'ANTH213ASpring2025': 37.2664779, 'ANTH213BSpring2025': 37.2664779, 'ANTH215ASpring2025': 37.2664779, 'ANTH304ASpring2025': 37.2664779}\n",
      "ANTH\n",
      "ANTHROPOLOGY: ANTH\n",
      "uuid and rank\n",
      "{'ANTH204ASpring2025': 37.2664779, 'ANTH213ASpring2025': 37.2664779, 'ANTH213BSpring2025': 37.2664779, 'ANTH215ASpring2025': 37.2664779, 'ANTH304ASpring2025': 37.2664779, 'ANTH323ASpring2025': 37.2664779}\n",
      "ANTH\n",
      "ANTHROPOLOGY: ANTH\n",
      "uuid and rank\n",
      "{'ANTH204ASpring2025': 37.2664779, 'ANTH213ASpring2025': 37.2664779, 'ANTH213BSpring2025': 37.2664779, 'ANTH215ASpring2025': 37.2664779, 'ANTH304ASpring2025': 37.2664779, 'ANTH323ASpring2025': 37.2664779, 'ANTH373ASpring2025': 37.2664779}\n",
      "ANTH\n",
      "ANTHROPOLOGY: ANTH\n",
      "uuid and rank\n",
      "{'ANTH204ASpring2025': 37.2664779, 'ANTH213ASpring2025': 37.2664779, 'ANTH213BSpring2025': 37.2664779, 'ANTH215ASpring2025': 37.2664779, 'ANTH304ASpring2025': 37.2664779, 'ANTH323ASpring2025': 37.2664779, 'ANTH373ASpring2025': 37.2664779, 'ANTH469BSpring2025': 37.2664779}\n",
      "ANTH\n",
      "ANTHROPOLOGY: ANTH\n",
      "uuid and rank\n",
      "{'ANTH204ASpring2025': 37.2664779, 'ANTH213ASpring2025': 37.2664779, 'ANTH213BSpring2025': 37.2664779, 'ANTH215ASpring2025': 37.2664779, 'ANTH304ASpring2025': 37.2664779, 'ANTH323ASpring2025': 37.2664779, 'ANTH373ASpring2025': 37.2664779, 'ANTH469BSpring2025': 37.2664779, 'ANTH477ASpring2025': 37.2664779}\n",
      "ANTH\n",
      "ANTHROPOLOGY: ANTH\n",
      "uuid and rank\n",
      "{'ANTH204ASpring2025': 37.2664779, 'ANTH213ASpring2025': 37.2664779, 'ANTH213BSpring2025': 37.2664779, 'ANTH215ASpring2025': 37.2664779, 'ANTH304ASpring2025': 37.2664779, 'ANTH323ASpring2025': 37.2664779, 'ANTH373ASpring2025': 37.2664779, 'ANTH469BSpring2025': 37.2664779, 'ANTH477ASpring2025': 37.2664779, 'ANTH569ASpring2025': 37.2664779}\n",
      "ANTH\n",
      "BIOCULTURAL ANTHROPOLOGY: BIOA\n",
      "uuid and rank\n",
      "{'ANTH204ASpring2025': 35.5171591, 'ANTH213ASpring2025': 37.2664779, 'ANTH213BSpring2025': 37.2664779, 'ANTH215ASpring2025': 37.2664779, 'ANTH304ASpring2025': 37.2664779, 'ANTH323ASpring2025': 37.2664779, 'ANTH373ASpring2025': 37.2664779, 'ANTH469BSpring2025': 37.2664779, 'ANTH477ASpring2025': 37.2664779, 'ANTH569ASpring2025': 37.2664779}\n",
      "ANTH\n",
      "BIOCULTURAL ANTHROPOLOGY: BIOA\n",
      "uuid and rank\n",
      "{'ANTH204ASpring2025': 35.5171591, 'ANTH213ASpring2025': 35.5171591, 'ANTH213BSpring2025': 37.2664779, 'ANTH215ASpring2025': 37.2664779, 'ANTH304ASpring2025': 37.2664779, 'ANTH323ASpring2025': 37.2664779, 'ANTH373ASpring2025': 37.2664779, 'ANTH469BSpring2025': 37.2664779, 'ANTH477ASpring2025': 37.2664779, 'ANTH569ASpring2025': 37.2664779}\n",
      "ANTH\n",
      "BIOCULTURAL ANTHROPOLOGY: BIOA\n",
      "uuid and rank\n",
      "{'ANTH204ASpring2025': 35.5171591, 'ANTH213ASpring2025': 35.5171591, 'ANTH213BSpring2025': 35.5171591, 'ANTH215ASpring2025': 37.2664779, 'ANTH304ASpring2025': 37.2664779, 'ANTH323ASpring2025': 37.2664779, 'ANTH373ASpring2025': 37.2664779, 'ANTH469BSpring2025': 37.2664779, 'ANTH477ASpring2025': 37.2664779, 'ANTH569ASpring2025': 37.2664779}\n",
      "ANTH\n",
      "BIOCULTURAL ANTHROPOLOGY: BIOA\n",
      "uuid and rank\n",
      "{'ANTH204ASpring2025': 35.5171591, 'ANTH213ASpring2025': 35.5171591, 'ANTH213BSpring2025': 35.5171591, 'ANTH215ASpring2025': 35.5171591, 'ANTH304ASpring2025': 37.2664779, 'ANTH323ASpring2025': 37.2664779, 'ANTH373ASpring2025': 37.2664779, 'ANTH469BSpring2025': 37.2664779, 'ANTH477ASpring2025': 37.2664779, 'ANTH569ASpring2025': 37.2664779}\n",
      "ANTH\n",
      "BIOCULTURAL ANTHROPOLOGY: BIOA\n",
      "uuid and rank\n",
      "{'ANTH204ASpring2025': 35.5171591, 'ANTH213ASpring2025': 35.5171591, 'ANTH213BSpring2025': 35.5171591, 'ANTH215ASpring2025': 35.5171591, 'ANTH304ASpring2025': 35.5171591, 'ANTH323ASpring2025': 37.2664779, 'ANTH373ASpring2025': 37.2664779, 'ANTH469BSpring2025': 37.2664779, 'ANTH477ASpring2025': 37.2664779, 'ANTH569ASpring2025': 37.2664779}\n",
      "ANTH\n",
      "BIOCULTURAL ANTHROPOLOGY: BIOA\n",
      "uuid and rank\n",
      "{'ANTH204ASpring2025': 35.5171591, 'ANTH213ASpring2025': 35.5171591, 'ANTH213BSpring2025': 35.5171591, 'ANTH215ASpring2025': 35.5171591, 'ANTH304ASpring2025': 35.5171591, 'ANTH323ASpring2025': 35.5171591, 'ANTH373ASpring2025': 37.2664779, 'ANTH469BSpring2025': 37.2664779, 'ANTH477ASpring2025': 37.2664779, 'ANTH569ASpring2025': 37.2664779}\n",
      "ANTH\n",
      "BIOCULTURAL ANTHROPOLOGY: BIOA\n",
      "uuid and rank\n",
      "{'ANTH204ASpring2025': 35.5171591, 'ANTH213ASpring2025': 35.5171591, 'ANTH213BSpring2025': 35.5171591, 'ANTH215ASpring2025': 35.5171591, 'ANTH304ASpring2025': 35.5171591, 'ANTH323ASpring2025': 35.5171591, 'ANTH373ASpring2025': 35.5171591, 'ANTH469BSpring2025': 37.2664779, 'ANTH477ASpring2025': 37.2664779, 'ANTH569ASpring2025': 37.2664779}\n",
      "ANTH\n",
      "BIOCULTURAL ANTHROPOLOGY: BIOA\n",
      "uuid and rank\n",
      "{'ANTH204ASpring2025': 35.5171591, 'ANTH213ASpring2025': 35.5171591, 'ANTH213BSpring2025': 35.5171591, 'ANTH215ASpring2025': 35.5171591, 'ANTH304ASpring2025': 35.5171591, 'ANTH323ASpring2025': 35.5171591, 'ANTH373ASpring2025': 35.5171591, 'ANTH469BSpring2025': 35.5171591, 'ANTH477ASpring2025': 37.2664779, 'ANTH569ASpring2025': 37.2664779}\n",
      "ANTH\n",
      "BIOCULTURAL ANTHROPOLOGY: BIOA\n",
      "uuid and rank\n",
      "{'ANTH204ASpring2025': 35.5171591, 'ANTH213ASpring2025': 35.5171591, 'ANTH213BSpring2025': 35.5171591, 'ANTH215ASpring2025': 35.5171591, 'ANTH304ASpring2025': 35.5171591, 'ANTH323ASpring2025': 35.5171591, 'ANTH373ASpring2025': 35.5171591, 'ANTH469BSpring2025': 35.5171591, 'ANTH477ASpring2025': 35.5171591, 'ANTH569ASpring2025': 37.2664779}\n",
      "ANTH\n",
      "BIOCULTURAL ANTHROPOLOGY: BIOA\n",
      "uuid and rank\n",
      "{'ANTH204ASpring2025': 35.5171591, 'ANTH213ASpring2025': 35.5171591, 'ANTH213BSpring2025': 35.5171591, 'ANTH215ASpring2025': 35.5171591, 'ANTH304ASpring2025': 35.5171591, 'ANTH323ASpring2025': 35.5171591, 'ANTH373ASpring2025': 35.5171591, 'ANTH469BSpring2025': 35.5171591, 'ANTH477ASpring2025': 35.5171591, 'ANTH569ASpring2025': 35.5171591}\n",
      "ANTH\n",
      "ANTHROPOLOGY (TACOMA): TANTH\n",
      "uuid and rank\n",
      "{'ANTH204ASpring2025': 33.7908506, 'ANTH213ASpring2025': 35.5171591, 'ANTH213BSpring2025': 35.5171591, 'ANTH215ASpring2025': 35.5171591, 'ANTH304ASpring2025': 35.5171591, 'ANTH323ASpring2025': 35.5171591, 'ANTH373ASpring2025': 35.5171591, 'ANTH469BSpring2025': 35.5171591, 'ANTH477ASpring2025': 35.5171591, 'ANTH569ASpring2025': 35.5171591}\n",
      "ANTH\n",
      "ANTHROPOLOGY (TACOMA): TANTH\n",
      "uuid and rank\n",
      "{'ANTH204ASpring2025': 33.7908506, 'ANTH213ASpring2025': 33.7908506, 'ANTH213BSpring2025': 35.5171591, 'ANTH215ASpring2025': 35.5171591, 'ANTH304ASpring2025': 35.5171591, 'ANTH323ASpring2025': 35.5171591, 'ANTH373ASpring2025': 35.5171591, 'ANTH469BSpring2025': 35.5171591, 'ANTH477ASpring2025': 35.5171591, 'ANTH569ASpring2025': 35.5171591}\n",
      "ANTH\n",
      "ANTHROPOLOGY (TACOMA): TANTH\n",
      "uuid and rank\n",
      "{'ANTH204ASpring2025': 33.7908506, 'ANTH213ASpring2025': 33.7908506, 'ANTH213BSpring2025': 33.7908506, 'ANTH215ASpring2025': 35.5171591, 'ANTH304ASpring2025': 35.5171591, 'ANTH323ASpring2025': 35.5171591, 'ANTH373ASpring2025': 35.5171591, 'ANTH469BSpring2025': 35.5171591, 'ANTH477ASpring2025': 35.5171591, 'ANTH569ASpring2025': 35.5171591}\n",
      "ANTH\n",
      "ANTHROPOLOGY (TACOMA): TANTH\n",
      "uuid and rank\n",
      "{'ANTH204ASpring2025': 33.7908506, 'ANTH213ASpring2025': 33.7908506, 'ANTH213BSpring2025': 33.7908506, 'ANTH215ASpring2025': 33.7908506, 'ANTH304ASpring2025': 35.5171591, 'ANTH323ASpring2025': 35.5171591, 'ANTH373ASpring2025': 35.5171591, 'ANTH469BSpring2025': 35.5171591, 'ANTH477ASpring2025': 35.5171591, 'ANTH569ASpring2025': 35.5171591}\n",
      "ANTH\n",
      "ANTHROPOLOGY (TACOMA): TANTH\n",
      "uuid and rank\n",
      "{'ANTH204ASpring2025': 33.7908506, 'ANTH213ASpring2025': 33.7908506, 'ANTH213BSpring2025': 33.7908506, 'ANTH215ASpring2025': 33.7908506, 'ANTH304ASpring2025': 33.7908506, 'ANTH323ASpring2025': 35.5171591, 'ANTH373ASpring2025': 35.5171591, 'ANTH469BSpring2025': 35.5171591, 'ANTH477ASpring2025': 35.5171591, 'ANTH569ASpring2025': 35.5171591}\n",
      "ANTH\n",
      "ANTHROPOLOGY (TACOMA): TANTH\n",
      "uuid and rank\n",
      "{'ANTH204ASpring2025': 33.7908506, 'ANTH213ASpring2025': 33.7908506, 'ANTH213BSpring2025': 33.7908506, 'ANTH215ASpring2025': 33.7908506, 'ANTH304ASpring2025': 33.7908506, 'ANTH323ASpring2025': 33.7908506, 'ANTH373ASpring2025': 35.5171591, 'ANTH469BSpring2025': 35.5171591, 'ANTH477ASpring2025': 35.5171591, 'ANTH569ASpring2025': 35.5171591}\n",
      "ANTH\n",
      "ANTHROPOLOGY (TACOMA): TANTH\n",
      "uuid and rank\n",
      "{'ANTH204ASpring2025': 33.7908506, 'ANTH213ASpring2025': 33.7908506, 'ANTH213BSpring2025': 33.7908506, 'ANTH215ASpring2025': 33.7908506, 'ANTH304ASpring2025': 33.7908506, 'ANTH323ASpring2025': 33.7908506, 'ANTH373ASpring2025': 33.7908506, 'ANTH469BSpring2025': 35.5171591, 'ANTH477ASpring2025': 35.5171591, 'ANTH569ASpring2025': 35.5171591}\n",
      "ANTH\n",
      "ANTHROPOLOGY (TACOMA): TANTH\n",
      "uuid and rank\n",
      "{'ANTH204ASpring2025': 33.7908506, 'ANTH213ASpring2025': 33.7908506, 'ANTH213BSpring2025': 33.7908506, 'ANTH215ASpring2025': 33.7908506, 'ANTH304ASpring2025': 33.7908506, 'ANTH323ASpring2025': 33.7908506, 'ANTH373ASpring2025': 33.7908506, 'ANTH469BSpring2025': 33.7908506, 'ANTH477ASpring2025': 35.5171591, 'ANTH569ASpring2025': 35.5171591}\n",
      "ANTH\n",
      "ANTHROPOLOGY (TACOMA): TANTH\n",
      "uuid and rank\n",
      "{'ANTH204ASpring2025': 33.7908506, 'ANTH213ASpring2025': 33.7908506, 'ANTH213BSpring2025': 33.7908506, 'ANTH215ASpring2025': 33.7908506, 'ANTH304ASpring2025': 33.7908506, 'ANTH323ASpring2025': 33.7908506, 'ANTH373ASpring2025': 33.7908506, 'ANTH469BSpring2025': 33.7908506, 'ANTH477ASpring2025': 33.7908506, 'ANTH569ASpring2025': 35.5171591}\n",
      "ANTH\n",
      "ANTHROPOLOGY (TACOMA): TANTH\n",
      "uuid and rank\n",
      "{'ANTH204ASpring2025': 33.7908506, 'ANTH213ASpring2025': 33.7908506, 'ANTH213BSpring2025': 33.7908506, 'ANTH215ASpring2025': 33.7908506, 'ANTH304ASpring2025': 33.7908506, 'ANTH323ASpring2025': 33.7908506, 'ANTH373ASpring2025': 33.7908506, 'ANTH469BSpring2025': 33.7908506, 'ANTH477ASpring2025': 33.7908506, 'ANTH569ASpring2025': 33.7908506}\n",
      "reordered returns list:\n",
      "['ANTH204ASpring2025', 'ANTH213ASpring2025', 'ANTH213BSpring2025', 'ANTH215ASpring2025', 'ANTH304ASpring2025', 'ANTH323ASpring2025', 'ANTH373ASpring2025', 'ANTH469BSpring2025', 'ANTH477ASpring2025', 'ANTH569ASpring2025']\n",
      "SELECT * FROM all_classes WHERE UUID IN ('ANTH204ASpring2025', 'ANTH213ASpring2025', 'ANTH213BSpring2025', 'ANTH215ASpring2025', 'ANTH304ASpring2025', 'ANTH323ASpring2025', 'ANTH373ASpring2025', 'ANTH469BSpring2025', 'ANTH477ASpring2025', 'ANTH569ASpring2025')\n",
      "grabbing course uuids\n",
      "final returns unsorted\n",
      "(80, 'Seattle', 'Spring 2025', 'ANTH   204', 'Reading Ethnography', 'Introduction to the descriptive and analytic literature of cultural anthropology. Extended examination of representative accounts of the lifeway of peoples from selected areas of the world with an emphasis on methods of observation and analysis.', 'lecture', 'A', '5', 'TTh', '9:30 AM - 11:20 AM', 'CMU', '120', 'Radhika Govindrajan', '5', 'SSc', 10288, 35, 75, 'https://course-app-api.planning.sis.uw.edu/api/courses/ANTH%20204/details', 'ANTH204', 3.831155778894472, 4.0, 0.6063600692013622, 76.38190954773869, 3.0, 0.0, 0.0, 0.0, 0.0, 0.0, 0.0, 1.0, 0.0, 0.0, 0.0, 0.0, 0.0, 0.0, 0.0, 0.0, 0.0, 0.0, 0.0, 0.0, 1.0, 2.0, 0.0, 0.0, 0.0, 1.0, 1.0, 0.0, 0.0, 0.0, 1.0, 1.0, 1.0, 0.0, 1.0, 3.0, 1.0, 4.0, 6.0, 20.0, 152.0, '09:30', '11:20', 'ANTH', 'Radhika Govindrajan', 'Radhika Govindrajan', 4.3, 3.0, 'https://www.ratemyprofessors.com/professor/2065848', 'Anthropology', 'Radhika Govindrajan', 4.75, 4.6833333333, 4.8633333333, 4.8533333333, 4.7833333333, 4.8633333333, 4.8133333333, 'ANTH204', 'ANTH204ASpring2025')\n",
      "(82, 'Seattle', 'Spring 2025', 'ANTH   213', 'Anthropology and Sport', \"Introduces theories, methods, and findings of sociocultural anthropology through a focus on sport. Considers sport as linked to identities, nationali ... (80 characters truncated) ... f sport, potentials and obstacles to sport transcending social differences, and sport's role in education, youth development, and community building.\", 'lecture', 'A', '5', 'WF', '11:30 AM - 1:20 PM', 'SAV', '260', 'Holly Barker', '5', 'SSc, DIV', 10292, 128, 119, 'https://course-app-api.planning.sis.uw.edu/api/courses/ANTH%20213/details', 'ANTH213', 3.729202037351443, 4.0, 0.581575818672956, 51.273344651952456, 3.0, 0.0, 0.0, 0.0, 0.0, 0.0, 0.0, 1.0, 0.0, 0.0, 3.0, 2.0, 1.0, 1.0, 1.0, 1.0, 0.0, 1.0, 0.0, 0.0, 2.0, 3.0, 3.0, 4.0, 4.0, 0.0, 1.0, 6.0, 2.0, 4.0, 7.0, 6.0, 6.0, 12.0, 8.0, 15.0, 14.0, 28.0, 55.0, 93.0, 302.0, '11:30', '13:20', 'ANTH', 'Holly M Barker', 'Holly Barker', 4.8, 2.0, 'https://www.ratemyprofessors.com/professor/630889', 'Anthropology', 'Holly M Barker', 4.93, 4.83, 5.0, 4.93, 5.0, 4.93, 4.83, 'ANTH213', 'ANTH213ASpring2025')\n",
      "(83, 'Seattle', 'Spring 2025', 'ANTH   213', 'Anthropology and Sport', \"Introduces theories, methods, and findings of sociocultural anthropology through a focus on sport. Considers sport as linked to identities, nationali ... (80 characters truncated) ... f sport, potentials and obstacles to sport transcending social differences, and sport's role in education, youth development, and community building.\", 'lecture', 'B', '5', 'WF', '11:30 AM - 1:20 PM', 'SAV', '260', 'Holly Barker', '5', 'SSc, DIV', 10293, 5, 21, 'https://course-app-api.planning.sis.uw.edu/api/courses/ANTH%20213/details', 'ANTH213', 3.729202037351443, 4.0, 0.581575818672956, 51.273344651952456, 3.0, 0.0, 0.0, 0.0, 0.0, 0.0, 0.0, 1.0, 0.0, 0.0, 3.0, 2.0, 1.0, 1.0, 1.0, 1.0, 0.0, 1.0, 0.0, 0.0, 2.0, 3.0, 3.0, 4.0, 4.0, 0.0, 1.0, 6.0, 2.0, 4.0, 7.0, 6.0, 6.0, 12.0, 8.0, 15.0, 14.0, 28.0, 55.0, 93.0, 302.0, '11:30', '13:20', 'ANTH', 'Holly M Barker', 'Holly Barker', 4.8, 2.0, 'https://www.ratemyprofessors.com/professor/630889', 'Anthropology', 'Holly M Barker', 4.93, 4.83, 5.0, 4.93, 5.0, 4.93, 4.83, 'ANTH213', 'ANTH213BSpring2025')\n",
      "(84, 'Seattle', 'Spring 2025', 'ANTH   215', 'Introduction to Medical Anthropology and Global Health', 'Explores influences of global processes on health of U.S. and other societies from a social-justice perspective. Emphasizes inter-relationships betwe ... (98 characters truncated) ... lth status, outcomes, policies, and healthcare delivery. Focuses on health disparities within and between societies and communities around the world.', 'lecture', 'A', '5', 'TTh', '10:30 AM - 12:20 PM', 'PCAR', '192', 'Jenna M Grant', '5', 'SSc, DIV', 10294, 61, 225, 'https://course-app-api.planning.sis.uw.edu/api/courses/ANTH%20215/details', 'ANTH215', 3.7189079291315714, 4.0, 0.7280088133803293, 66.8602962532675, 82.0, 0.0, 0.0, 0.0, 0.0, 0.0, 0.0, 0.0, 2.0, 1.0, 7.0, 6.0, 3.0, 2.0, 2.0, 2.0, 6.0, 5.0, 4.0, 5.0, 7.0, 11.0, 8.0, 14.0, 9.0, 16.0, 18.0, 13.0, 13.0, 15.0, 42.0, 28.0, 26.0, 49.0, 69.0, 89.0, 91.0, 135.0, 158.0, 203.0, 2302.0, '10:30', '12:20', 'ANTH', 'No Match', 'Jenna Grant', 4.5, 2.6, 'https://www.ratemyprofessors.com/professor/2077344', 'Anthropology', None, None, None, None, None, None, None, None, 'ANTH215', 'ANTH215ASpring2025')\n",
      "(99, 'Seattle', 'Spring 2025', 'ANTH   304', 'Anthropology of Beauty', \"What is beautiful? Who creates the standard(s)? How have the standards changed? How does race/ethnicity, gender, class, age, sexuality and (dis)abili ... (67 characters truncated) ... modification/transformation of the 'abnormal' body. Includes a critical look at structures and institutions that create and perpetuate beauty ideals.\", 'lecture', 'A', '5', 'MW', '8:30 AM - 10:20 AM', 'CMU', '326', 'HEATHER CLARK', '5', 'DIV, SSc', 10308, 40, 40, 'https://course-app-api.planning.sis.uw.edu/api/courses/ANTH%20304/details', 'ANTH304', 3.5188811188811187, 4.0, 0.8905055568082887, 51.74825174825175, 5.0, 0.0, 0.0, 0.0, 0.0, 0.0, 0.0, 0.0, 0.0, 0.0, 0.0, 0.0, 1.0, 1.0, 1.0, 0.0, 0.0, 2.0, 0.0, 0.0, 0.0, 0.0, 1.0, 0.0, 2.0, 1.0, 2.0, 1.0, 1.0, 1.0, 4.0, 2.0, 3.0, 10.0, 1.0, 3.0, 5.0, 4.0, 9.0, 9.0, 74.0, '08:30', '10:20', 'ANTH', 'Heather Clark', 'Heather Clark', 4.4, 2.3, 'https://www.ratemyprofessors.com/professor/2214665', 'Linguistics', 'Heather Clark', 4.69, 4.3933333333, 4.7866666667, 4.8133333333, 4.7866666667, 4.6533333333, 4.7033333333, 'ANTH304', 'ANTH304ASpring2025')\n",
      "(103, 'Seattle', 'Spring 2025', 'ANTH   323', 'Human Rights Law in Culture and Practice', 'Introduces the complexities of issues surrounding human rights. Examines human rights concerns through critical analyses, taking into account legal, social, economic, and historical variables.', 'lecture', 'A', '5', 'MW', '2:30 PM - 3:50 PM', 'GWN', '301', 'Arzoo Osanloo', '5', 'SSc, DIV', 10309, 20, 20, 'https://course-app-api.planning.sis.uw.edu/api/courses/ANTH%20323/details', 'ANTH323', 3.386619718309859, 3.75, 1.0172615042661806, 32.3943661971831, 9.0, 0.0, 0.0, 0.0, 0.0, 0.0, 0.0, 0.0, 0.0, 1.0, 0.0, 0.0, 0.0, 1.0, 0.0, 0.0, 0.0, 0.0, 0.0, 0.0, 0.0, 1.0, 2.0, 0.0, 0.0, 1.0, 1.0, 0.0, 1.0, 3.0, 5.0, 5.0, 5.0, 4.0, 5.0, 3.0, 9.0, 15.0, 10.0, 15.0, 46.0, '14:30', '15:50', 'ANTH', 'No Match', 'Arzoo Osanloo', 4.1, 3.4, 'https://www.ratemyprofessors.com/professor/161156', 'Anthropology', None, None, None, None, None, None, None, None, 'ANTH323', 'ANTH323ASpring2025')\n",
      "(112, 'Seattle', 'Spring 2025', 'ANTH   373', 'Labor, Identity, and Knowledge in Healthcare', 'Presents anthropological perspectives on provision of healthcare as a complex social phenomena. Examines division of labor, and how social groups com ... (3 characters truncated) ... o occupy particular positions. Considers how knowledge and skills are gained, how they are recognized and valued, and may become sources of identity.', 'lecture', 'A', '5', 'WF', '10:30 AM - 12:20 PM', 'CDH', '125', 'Marieke S. van Eijk', '5', 'SSc', 10319, 25, 40, 'https://course-app-api.planning.sis.uw.edu/api/courses/ANTH%20373/details', 'ANTH373', 3.793913043478261, 4.0, 0.5130110527704547, 54.78260869565217, 1.0, 0.0, 0.0, 0.0, 0.0, 0.0, 0.0, 0.0, 0.0, 0.0, 1.0, 0.0, 0.0, 0.0, 0.0, 0.0, 0.0, 0.0, 0.0, 0.0, 0.0, 0.0, 0.0, 1.0, 0.0, 0.0, 0.0, 0.0, 0.0, 0.0, 1.0, 2.0, 1.0, 1.0, 0.0, 6.0, 4.0, 11.0, 5.0, 18.0, 63.0, '10:30', '12:20', 'ANTH', 'Marieke Van Eijk', 'Marieke Van Eijk', 4.4, 2.2, 'https://www.ratemyprofessors.com/professor/1953491', 'Anthropology', 'Marieke Van Eijk', 4.65, 4.7433333333, 4.7783333333, 4.7416666667, 4.8083333333, 4.6283333333, 4.69, 'ANTH373', 'ANTH373ASpring2025')\n",
      "(123, 'Seattle', 'Spring 2025', 'ANTH   469', 'Special Studies in Anthropology', 'Delineation and analysis of a specific problem or related problems in anthropology. Offered occasionally by visitors or resident faculty.', 'lecture', 'B', '5', 'TTh', '2:30 PM - 5:20 PM', 'THO', '217', 'Arzoo Osanloo', '3-5', 'SSc', 10329, 1, 3, 'https://course-app-api.planning.sis.uw.edu/api/courses/ANTH%20469/details', 'ANTH469', 3.6571428571428575, 3.9, 0.5851914042361155, 45.05494505494506, 1.0, 0.0, 0.0, 0.0, 0.0, 0.0, 0.0, 0.0, 0.0, 0.0, 0.0, 0.0, 0.0, 0.0, 0.0, 0.0, 0.0, 0.0, 0.0, 0.0, 0.0, 0.0, 1.0, 0.0, 0.0, 1.0, 3.0, 2.0, 1.0, 1.0, 0.0, 2.0, 3.0, 6.0, 0.0, 4.0, 2.0, 2.0, 9.0, 12.0, 41.0, '14:30', '17:20', 'ANTH', 'No Match', 'Arzoo Osanloo', 4.1, 3.4, 'https://www.ratemyprofessors.com/professor/161156', 'Anthropology', None, None, None, None, None, None, None, None, 'ANTH469', 'ANTH469BSpring2025')\n",
      "(125, 'Seattle', 'Spring 2025', 'ANTH   477', 'Medicine in America: Conflicts and Contradictions                                                                       ', \"Introduction to the pragmatic and theoretical dilemmas of current biomedical practice with emphasis on social and cultural context. Case studies in t ... (39 characters truncated) ... ent, and other health-related issues used to explore connections among patients' experiences, medical practices, and the contemporary social context.\", 'lecture', 'A', '3', 'MW', '1:30 PM - 3:20 PM', 'SAV', '155', 'Marieke S. van Eijk', '3', 'SSc', 10331, 28, 30, 'https://course-app-api.planning.sis.uw.edu/api/courses/ANTH%20477/details', 'ANTH477', 3.6795620437956207, 4.0, 0.9835240293066358, 70.8029197080292, 9.0, 0.0, 0.0, 0.0, 0.0, 0.0, 0.0, 0.0, 0.0, 0.0, 0.0, 0.0, 0.0, 0.0, 0.0, 0.0, 0.0, 0.0, 0.0, 0.0, 0.0, 0.0, 0.0, 0.0, 0.0, 0.0, 0.0, 0.0, 0.0, 0.0, 0.0, 0.0, 0.0, 0.0, 1.0, 3.0, 2.0, 8.0, 9.0, 8.0, 97.0, '13:30', '15:20', 'ANTH', 'Marieke Van Eijk', 'Marieke Van Eijk', 4.4, 2.2, 'https://www.ratemyprofessors.com/professor/1953491', 'Anthropology', 'Marieke Van Eijk', 4.65, 4.7433333333, 4.7783333333, 4.7416666667, 4.8083333333, 4.6283333333, 4.69, 'ANTH477', 'ANTH477ASpring2025')\n",
      "(134, 'Seattle', 'Spring 2025', 'ANTH   569', 'Special Topics in Sociocultural Anthropology', 'Delineation and analysis of a specific topic or set of related topics in sociocultural anthropology.', 'lecture', 'A', '3-5', 'TTh', '2:30 PM - 5:20 PM', 'THO', '217', 'Arzoo Osanloo', '3-5', None, 10341, 2, 3, 'https://course-app-api.planning.sis.uw.edu/api/courses/ANTH%20569/details', 'ANTH569', None, None, None, None, None, None, None, None, None, None, None, None, None, None, None, None, None, None, None, None, None, None, None, None, None, None, None, None, None, None, None, None, None, None, None, None, None, None, None, None, None, None, None, None, None, '14:30', '17:20', 'ANTH', 'No Match', 'Arzoo Osanloo', 4.1, 3.4, 'https://www.ratemyprofessors.com/professor/161156', 'Anthropology', None, None, None, None, None, None, None, None, 'ANTH569', 'ANTH569ASpring2025')\n",
      "final return course ids\n",
      "Description scores\n",
      "[(Document(id='a9e1e862-c605-4525-9a92-7b009496deea', metadata={'UUID': 'ANTH414ASpring2025', 'course_id': 'ANTH   414'}, page_content=\"Considers the practical application of anthropology's methods and theories to the challenges and research needs of communities and organizations. Concentrates on a specific topic each quarter. Includes a required service-learning component that helps students connect classroom learning beyond the University.\"), 0.440263599), (Document(id='de851f9a-51ca-4ced-bc58-cc9c0f05d1f1', metadata={'UUID': 'ANTH469CSpring2025', 'course_id': 'ANTH   469'}, page_content='Delineation and analysis of a specific problem or related problems in anthropology. Offered occasionally by visitors or resident faculty.'), 0.414609969), (Document(id='deca6297-bb00-4bab-8c27-9e11726293e6', metadata={'UUID': 'ANTH469BSpring2025', 'course_id': 'ANTH   469'}, page_content='Delineation and analysis of a specific problem or related problems in anthropology. Offered occasionally by visitors or resident faculty.'), 0.414609969), (Document(id='e5547c16-e0ab-40da-b811-26ae24095a21', metadata={'UUID': 'ANTH491ASpring2025', 'course_id': 'ANTH   491'}, page_content='Introduction to anthropological research. Students read original articles and papers and discuss them with authors. Research presenters include department faculty, visiting faculty, and advanced graduate students.'), 0.41405791), (Document(id='a943bedd-9389-43c0-aa06-40a36bffce84', metadata={'UUID': 'BIOA502ASpring2025', 'course_id': 'BIO A  502'}, page_content='For beginning graduate students who have not had adequate training in the study of primate principles and methods involved in the study of evolution, human genetics, and the evolution of modern populations. Not open to graduate students in the biological anthropology program.'), 0.392645538), (Document(id='dce34b74-6cbb-4a3f-a13b-b52ccdd0345d', metadata={'UUID': 'BIOA469ASpring2025', 'course_id': 'BIO A  469'}, page_content='Delineation and analysis of a specific problem or a more general area in biological anthropology. Offered occasionally by visiting or resident faculty.'), 0.387679428), (Document(id='192bbd3c-8bd7-439a-bf9a-624a15c605cb', metadata={'UUID': 'SOC401ASpring2025', 'course_id': 'SOC    401'}, page_content='Selected topics taught at an advanced level. Topics vary and may be substantive, theoretical, or methodological. Designed for Sociology majors and others with permission.'), 0.384286702), (Document(id='b26f3f97-bce8-46a9-920f-7f36ee324fda', metadata={'UUID': 'SOC401ASummer2025', 'course_id': 'SOC    401'}, page_content='Selected topics taught at an advanced level. Topics vary and may be substantive, theoretical, or methodological. Designed for Sociology majors and others with permission.'), 0.384286702), (Document(id='cd9c10a8-a82a-4905-9877-2077d29f90fb', metadata={'UUID': 'SOC401DSpring2025', 'course_id': 'SOC    401'}, page_content='Selected topics taught at an advanced level. Topics vary and may be substantive, theoretical, or methodological. Designed for Sociology majors and others with permission.'), 0.384286702), (Document(id='a2d0c726-a5b0-44eb-a9b6-973f6fd2f7f6', metadata={'UUID': 'SOC401BSpring2025', 'course_id': 'SOC    401'}, page_content='Selected topics taught at an advanced level. Topics vary and may be substantive, theoretical, or methodological. Designed for Sociology majors and others with permission.'), 0.384286702)]\n",
      "reordered returns\n",
      "[(80, 'Seattle', 'Spring 2025', 'ANTH   204', 'Reading Ethnography', 'Introduction to the descriptive and analytic literature of cultural anthropology. Extended examination of representative accounts of the lifeway of peoples from selected areas of the world with an emphasis on methods of observation and analysis.', 'lecture', 'A', '5', 'TTh', '9:30 AM - 11:20 AM', 'CMU', '120', 'Radhika Govindrajan', '5', 'SSc', 10288, 35, 75, 'https://course-app-api.planning.sis.uw.edu/api/courses/ANTH%20204/details', 'ANTH204', 3.831155778894472, 4.0, 0.6063600692013622, 76.38190954773869, 3.0, 0.0, 0.0, 0.0, 0.0, 0.0, 0.0, 1.0, 0.0, 0.0, 0.0, 0.0, 0.0, 0.0, 0.0, 0.0, 0.0, 0.0, 0.0, 0.0, 1.0, 2.0, 0.0, 0.0, 0.0, 1.0, 1.0, 0.0, 0.0, 0.0, 1.0, 1.0, 1.0, 0.0, 1.0, 3.0, 1.0, 4.0, 6.0, 20.0, 152.0, '09:30', '11:20', 'ANTH', 'Radhika Govindrajan', 'Radhika Govindrajan', 4.3, 3.0, 'https://www.ratemyprofessors.com/professor/2065848', 'Anthropology', 'Radhika Govindrajan', 4.75, 4.6833333333, 4.8633333333, 4.8533333333, 4.7833333333, 4.8633333333, 4.8133333333, 'ANTH204', 'ANTH204ASpring2025'), (82, 'Seattle', 'Spring 2025', 'ANTH   213', 'Anthropology and Sport', \"Introduces theories, methods, and findings of sociocultural anthropology through a focus on sport. Considers sport as linked to identities, nationali ... (80 characters truncated) ... f sport, potentials and obstacles to sport transcending social differences, and sport's role in education, youth development, and community building.\", 'lecture', 'A', '5', 'WF', '11:30 AM - 1:20 PM', 'SAV', '260', 'Holly Barker', '5', 'SSc, DIV', 10292, 128, 119, 'https://course-app-api.planning.sis.uw.edu/api/courses/ANTH%20213/details', 'ANTH213', 3.729202037351443, 4.0, 0.581575818672956, 51.273344651952456, 3.0, 0.0, 0.0, 0.0, 0.0, 0.0, 0.0, 1.0, 0.0, 0.0, 3.0, 2.0, 1.0, 1.0, 1.0, 1.0, 0.0, 1.0, 0.0, 0.0, 2.0, 3.0, 3.0, 4.0, 4.0, 0.0, 1.0, 6.0, 2.0, 4.0, 7.0, 6.0, 6.0, 12.0, 8.0, 15.0, 14.0, 28.0, 55.0, 93.0, 302.0, '11:30', '13:20', 'ANTH', 'Holly M Barker', 'Holly Barker', 4.8, 2.0, 'https://www.ratemyprofessors.com/professor/630889', 'Anthropology', 'Holly M Barker', 4.93, 4.83, 5.0, 4.93, 5.0, 4.93, 4.83, 'ANTH213', 'ANTH213ASpring2025'), (83, 'Seattle', 'Spring 2025', 'ANTH   213', 'Anthropology and Sport', \"Introduces theories, methods, and findings of sociocultural anthropology through a focus on sport. Considers sport as linked to identities, nationali ... (80 characters truncated) ... f sport, potentials and obstacles to sport transcending social differences, and sport's role in education, youth development, and community building.\", 'lecture', 'B', '5', 'WF', '11:30 AM - 1:20 PM', 'SAV', '260', 'Holly Barker', '5', 'SSc, DIV', 10293, 5, 21, 'https://course-app-api.planning.sis.uw.edu/api/courses/ANTH%20213/details', 'ANTH213', 3.729202037351443, 4.0, 0.581575818672956, 51.273344651952456, 3.0, 0.0, 0.0, 0.0, 0.0, 0.0, 0.0, 1.0, 0.0, 0.0, 3.0, 2.0, 1.0, 1.0, 1.0, 1.0, 0.0, 1.0, 0.0, 0.0, 2.0, 3.0, 3.0, 4.0, 4.0, 0.0, 1.0, 6.0, 2.0, 4.0, 7.0, 6.0, 6.0, 12.0, 8.0, 15.0, 14.0, 28.0, 55.0, 93.0, 302.0, '11:30', '13:20', 'ANTH', 'Holly M Barker', 'Holly Barker', 4.8, 2.0, 'https://www.ratemyprofessors.com/professor/630889', 'Anthropology', 'Holly M Barker', 4.93, 4.83, 5.0, 4.93, 5.0, 4.93, 4.83, 'ANTH213', 'ANTH213BSpring2025'), (84, 'Seattle', 'Spring 2025', 'ANTH   215', 'Introduction to Medical Anthropology and Global Health', 'Explores influences of global processes on health of U.S. and other societies from a social-justice perspective. Emphasizes inter-relationships betwe ... (98 characters truncated) ... lth status, outcomes, policies, and healthcare delivery. Focuses on health disparities within and between societies and communities around the world.', 'lecture', 'A', '5', 'TTh', '10:30 AM - 12:20 PM', 'PCAR', '192', 'Jenna M Grant', '5', 'SSc, DIV', 10294, 61, 225, 'https://course-app-api.planning.sis.uw.edu/api/courses/ANTH%20215/details', 'ANTH215', 3.7189079291315714, 4.0, 0.7280088133803293, 66.8602962532675, 82.0, 0.0, 0.0, 0.0, 0.0, 0.0, 0.0, 0.0, 2.0, 1.0, 7.0, 6.0, 3.0, 2.0, 2.0, 2.0, 6.0, 5.0, 4.0, 5.0, 7.0, 11.0, 8.0, 14.0, 9.0, 16.0, 18.0, 13.0, 13.0, 15.0, 42.0, 28.0, 26.0, 49.0, 69.0, 89.0, 91.0, 135.0, 158.0, 203.0, 2302.0, '10:30', '12:20', 'ANTH', 'No Match', 'Jenna Grant', 4.5, 2.6, 'https://www.ratemyprofessors.com/professor/2077344', 'Anthropology', None, None, None, None, None, None, None, None, 'ANTH215', 'ANTH215ASpring2025'), (99, 'Seattle', 'Spring 2025', 'ANTH   304', 'Anthropology of Beauty', \"What is beautiful? Who creates the standard(s)? How have the standards changed? How does race/ethnicity, gender, class, age, sexuality and (dis)abili ... (67 characters truncated) ... modification/transformation of the 'abnormal' body. Includes a critical look at structures and institutions that create and perpetuate beauty ideals.\", 'lecture', 'A', '5', 'MW', '8:30 AM - 10:20 AM', 'CMU', '326', 'HEATHER CLARK', '5', 'DIV, SSc', 10308, 40, 40, 'https://course-app-api.planning.sis.uw.edu/api/courses/ANTH%20304/details', 'ANTH304', 3.5188811188811187, 4.0, 0.8905055568082887, 51.74825174825175, 5.0, 0.0, 0.0, 0.0, 0.0, 0.0, 0.0, 0.0, 0.0, 0.0, 0.0, 0.0, 1.0, 1.0, 1.0, 0.0, 0.0, 2.0, 0.0, 0.0, 0.0, 0.0, 1.0, 0.0, 2.0, 1.0, 2.0, 1.0, 1.0, 1.0, 4.0, 2.0, 3.0, 10.0, 1.0, 3.0, 5.0, 4.0, 9.0, 9.0, 74.0, '08:30', '10:20', 'ANTH', 'Heather Clark', 'Heather Clark', 4.4, 2.3, 'https://www.ratemyprofessors.com/professor/2214665', 'Linguistics', 'Heather Clark', 4.69, 4.3933333333, 4.7866666667, 4.8133333333, 4.7866666667, 4.6533333333, 4.7033333333, 'ANTH304', 'ANTH304ASpring2025'), (103, 'Seattle', 'Spring 2025', 'ANTH   323', 'Human Rights Law in Culture and Practice', 'Introduces the complexities of issues surrounding human rights. Examines human rights concerns through critical analyses, taking into account legal, social, economic, and historical variables.', 'lecture', 'A', '5', 'MW', '2:30 PM - 3:50 PM', 'GWN', '301', 'Arzoo Osanloo', '5', 'SSc, DIV', 10309, 20, 20, 'https://course-app-api.planning.sis.uw.edu/api/courses/ANTH%20323/details', 'ANTH323', 3.386619718309859, 3.75, 1.0172615042661806, 32.3943661971831, 9.0, 0.0, 0.0, 0.0, 0.0, 0.0, 0.0, 0.0, 0.0, 1.0, 0.0, 0.0, 0.0, 1.0, 0.0, 0.0, 0.0, 0.0, 0.0, 0.0, 0.0, 1.0, 2.0, 0.0, 0.0, 1.0, 1.0, 0.0, 1.0, 3.0, 5.0, 5.0, 5.0, 4.0, 5.0, 3.0, 9.0, 15.0, 10.0, 15.0, 46.0, '14:30', '15:50', 'ANTH', 'No Match', 'Arzoo Osanloo', 4.1, 3.4, 'https://www.ratemyprofessors.com/professor/161156', 'Anthropology', None, None, None, None, None, None, None, None, 'ANTH323', 'ANTH323ASpring2025'), (112, 'Seattle', 'Spring 2025', 'ANTH   373', 'Labor, Identity, and Knowledge in Healthcare', 'Presents anthropological perspectives on provision of healthcare as a complex social phenomena. Examines division of labor, and how social groups com ... (3 characters truncated) ... o occupy particular positions. Considers how knowledge and skills are gained, how they are recognized and valued, and may become sources of identity.', 'lecture', 'A', '5', 'WF', '10:30 AM - 12:20 PM', 'CDH', '125', 'Marieke S. van Eijk', '5', 'SSc', 10319, 25, 40, 'https://course-app-api.planning.sis.uw.edu/api/courses/ANTH%20373/details', 'ANTH373', 3.793913043478261, 4.0, 0.5130110527704547, 54.78260869565217, 1.0, 0.0, 0.0, 0.0, 0.0, 0.0, 0.0, 0.0, 0.0, 0.0, 1.0, 0.0, 0.0, 0.0, 0.0, 0.0, 0.0, 0.0, 0.0, 0.0, 0.0, 0.0, 0.0, 1.0, 0.0, 0.0, 0.0, 0.0, 0.0, 0.0, 1.0, 2.0, 1.0, 1.0, 0.0, 6.0, 4.0, 11.0, 5.0, 18.0, 63.0, '10:30', '12:20', 'ANTH', 'Marieke Van Eijk', 'Marieke Van Eijk', 4.4, 2.2, 'https://www.ratemyprofessors.com/professor/1953491', 'Anthropology', 'Marieke Van Eijk', 4.65, 4.7433333333, 4.7783333333, 4.7416666667, 4.8083333333, 4.6283333333, 4.69, 'ANTH373', 'ANTH373ASpring2025'), (123, 'Seattle', 'Spring 2025', 'ANTH   469', 'Special Studies in Anthropology', 'Delineation and analysis of a specific problem or related problems in anthropology. Offered occasionally by visitors or resident faculty.', 'lecture', 'B', '5', 'TTh', '2:30 PM - 5:20 PM', 'THO', '217', 'Arzoo Osanloo', '3-5', 'SSc', 10329, 1, 3, 'https://course-app-api.planning.sis.uw.edu/api/courses/ANTH%20469/details', 'ANTH469', 3.6571428571428575, 3.9, 0.5851914042361155, 45.05494505494506, 1.0, 0.0, 0.0, 0.0, 0.0, 0.0, 0.0, 0.0, 0.0, 0.0, 0.0, 0.0, 0.0, 0.0, 0.0, 0.0, 0.0, 0.0, 0.0, 0.0, 0.0, 0.0, 1.0, 0.0, 0.0, 1.0, 3.0, 2.0, 1.0, 1.0, 0.0, 2.0, 3.0, 6.0, 0.0, 4.0, 2.0, 2.0, 9.0, 12.0, 41.0, '14:30', '17:20', 'ANTH', 'No Match', 'Arzoo Osanloo', 4.1, 3.4, 'https://www.ratemyprofessors.com/professor/161156', 'Anthropology', None, None, None, None, None, None, None, None, 'ANTH469', 'ANTH469BSpring2025'), (125, 'Seattle', 'Spring 2025', 'ANTH   477', 'Medicine in America: Conflicts and Contradictions                                                                       ', \"Introduction to the pragmatic and theoretical dilemmas of current biomedical practice with emphasis on social and cultural context. Case studies in t ... (39 characters truncated) ... ent, and other health-related issues used to explore connections among patients' experiences, medical practices, and the contemporary social context.\", 'lecture', 'A', '3', 'MW', '1:30 PM - 3:20 PM', 'SAV', '155', 'Marieke S. van Eijk', '3', 'SSc', 10331, 28, 30, 'https://course-app-api.planning.sis.uw.edu/api/courses/ANTH%20477/details', 'ANTH477', 3.6795620437956207, 4.0, 0.9835240293066358, 70.8029197080292, 9.0, 0.0, 0.0, 0.0, 0.0, 0.0, 0.0, 0.0, 0.0, 0.0, 0.0, 0.0, 0.0, 0.0, 0.0, 0.0, 0.0, 0.0, 0.0, 0.0, 0.0, 0.0, 0.0, 0.0, 0.0, 0.0, 0.0, 0.0, 0.0, 0.0, 0.0, 0.0, 0.0, 0.0, 1.0, 3.0, 2.0, 8.0, 9.0, 8.0, 97.0, '13:30', '15:20', 'ANTH', 'Marieke Van Eijk', 'Marieke Van Eijk', 4.4, 2.2, 'https://www.ratemyprofessors.com/professor/1953491', 'Anthropology', 'Marieke Van Eijk', 4.65, 4.7433333333, 4.7783333333, 4.7416666667, 4.8083333333, 4.6283333333, 4.69, 'ANTH477', 'ANTH477ASpring2025'), (134, 'Seattle', 'Spring 2025', 'ANTH   569', 'Special Topics in Sociocultural Anthropology', 'Delineation and analysis of a specific topic or set of related topics in sociocultural anthropology.', 'lecture', 'A', '3-5', 'TTh', '2:30 PM - 5:20 PM', 'THO', '217', 'Arzoo Osanloo', '3-5', None, 10341, 2, 3, 'https://course-app-api.planning.sis.uw.edu/api/courses/ANTH%20569/details', 'ANTH569', None, None, None, None, None, None, None, None, None, None, None, None, None, None, None, None, None, None, None, None, None, None, None, None, None, None, None, None, None, None, None, None, None, None, None, None, None, None, None, None, None, None, None, None, None, '14:30', '17:20', 'ANTH', 'No Match', 'Arzoo Osanloo', 4.1, 3.4, 'https://www.ratemyprofessors.com/professor/161156', 'Anthropology', None, None, None, None, None, None, None, None, 'ANTH569', 'ANTH569ASpring2025')]\n",
      "<class 'dict'>\n",
      "10\n"
     ]
    }
   ],
   "source": [
    "returns = query_cs.widen_search()\n",
    "print(len(returns))\n"
   ]
  },
  {
   "cell_type": "code",
   "execution_count": null,
   "metadata": {},
   "outputs": [],
   "source": [
    "\n",
    "print(returns[0]._mapping.keys())\n",
    "\n",
    "\n",
    "dict_returns = returns[0]._mapping\n",
    "print(dict_returns)"
   ]
  },
  {
   "cell_type": "code",
   "execution_count": null,
   "metadata": {},
   "outputs": [],
   "source": [
    "for row in returns:\n",
    "    print(row)"
   ]
  },
  {
   "cell_type": "code",
   "execution_count": null,
   "metadata": {},
   "outputs": [],
   "source": [
    "print(returns[0].keys())"
   ]
  },
  {
   "cell_type": "code",
   "execution_count": null,
   "metadata": {},
   "outputs": [],
   "source": []
  },
  {
   "cell_type": "code",
   "execution_count": null,
   "metadata": {},
   "outputs": [],
   "source": [
    "print(len(returns))\n",
    "print((returns[0][1]))\n",
    "\n",
    "courses_unique = set()\n",
    "for course in returns:\n",
    "    courses_unique.add(course[-1])\n",
    "\n",
    "print(len(courses_unique))"
   ]
  },
  {
   "cell_type": "code",
   "execution_count": null,
   "metadata": {},
   "outputs": [],
   "source": []
  },
  {
   "cell_type": "code",
   "execution_count": null,
   "metadata": {},
   "outputs": [],
   "source": [
    "print(returns)"
   ]
  },
  {
   "cell_type": "code",
   "execution_count": null,
   "metadata": {},
   "outputs": [],
   "source": [
    "for row in cursor:\n",
    "    print(row)"
   ]
  },
  {
   "cell_type": "code",
   "execution_count": null,
   "metadata": {},
   "outputs": [],
   "source": [
    "#returns = query_curr.find_relevant_course()\n",
    "returns = query_curr.find_relevant_courses()"
   ]
  },
  {
   "cell_type": "code",
   "execution_count": null,
   "metadata": {},
   "outputs": [],
   "source": [
    "print(len(returns))\n",
    "print(returns)"
   ]
  }
 ],
 "metadata": {
  "kernelspec": {
   "display_name": "3.11.0",
   "language": "python",
   "name": "python3"
  },
  "language_info": {
   "codemirror_mode": {
    "name": "ipython",
    "version": 3
   },
   "file_extension": ".py",
   "mimetype": "text/x-python",
   "name": "python",
   "nbconvert_exporter": "python",
   "pygments_lexer": "ipython3",
   "version": "3.11.0"
  }
 },
 "nbformat": 4,
 "nbformat_minor": 2
}
