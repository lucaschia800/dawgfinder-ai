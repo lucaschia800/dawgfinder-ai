{
 "cells": [
  {
   "cell_type": "code",
   "execution_count": 1,
   "metadata": {},
   "outputs": [],
   "source": [
    "\n",
    "from llama_index.core.retrievers import NLSQLRetriever\n",
    "\n",
    "import sqlite3\n",
    "import os\n",
    "import llama_index\n",
    "import sqlalchemy\n",
    "import openai\n",
    "\n",
    "from sqlalchemy import (\n",
    "    create_engine,\n",
    "    MetaData,\n",
    "    Table,\n",
    "    Column,\n",
    "    String,\n",
    "    Integer,\n",
    "    select,\n",
    ")\n",
    "\n",
    "from llama_index.core import SQLDatabase\n",
    "from llama_index.llms.openai import OpenAI\n",
    "\n",
    "\n",
    "from sqlalchemy import text\n"
   ]
  },
  {
   "cell_type": "code",
   "execution_count": 2,
   "metadata": {},
   "outputs": [],
   "source": [
    "import os\n",
    "from sqlalchemy.orm import sessionmaker"
   ]
  },
  {
   "cell_type": "code",
   "execution_count": 2,
   "metadata": {},
   "outputs": [],
   "source": [
    "api_key = os.getenv(\"OPENAI_API_KEY\")\n",
    "openai.api_key = api_key\n",
    "\n",
    "\n",
    "\n"
   ]
  },
  {
   "cell_type": "code",
   "execution_count": 9,
   "metadata": {},
   "outputs": [],
   "source": [
    "#Establishing engines and connections\n",
    "\n",
    "\n",
    "\n",
    "engine = create_engine(\"sqlite:///databases/courses_temp.db\")\n",
    "\n",
    "llm = OpenAI(temperature=0.1, model=\"gpt-3.5-turbo\")\n",
    "sql_database = SQLDatabase(engine, include_tables=[\"class_data\"])\n"
   ]
  },
  {
   "cell_type": "code",
   "execution_count": 5,
   "metadata": {},
   "outputs": [
    {
     "name": "stdout",
     "output_type": "stream",
     "text": [
      "course_campus TEXT\n",
      "course_credits TEXT\n",
      "course_description TEXT\n",
      "course_id TEXT\n",
      "quarters_offered TEXT\n",
      "course_title TEXT\n",
      "department_abbrev TEXT\n",
      "mean_gpa REAL\n"
     ]
    }
   ],
   "source": [
    "#sqlite query\n",
    "cursor.execute(\"PRAGMA table_info(class_data)\")\n",
    "tables = cursor.fetchall()\n",
    "for col in tables:\n",
    "    print(col[1], col[2])"
   ]
  },
  {
   "cell_type": "code",
   "execution_count": 46,
   "metadata": {},
   "outputs": [
    {
     "name": "stdout",
     "output_type": "stream",
     "text": [
      "('Computer Vision', 'CSE 455')\n",
      "('Computer Security', 'CSE 484')\n",
      "('Datacenter Systems', 'CSE 453')\n",
      "('Autonomous Robotics', 'CSE 478')\n"
     ]
    }
   ],
   "source": [
    "\n",
    "#sqlalchemy query\n",
    "\n",
    "with engine.connect() as con:\n",
    "    rows = con.execute(text(\"SELECT course_title, course_id\\nFROM class_data\\nWHERE department_abbrev = 'CSE'\\nAND course_credits = '4.0'\\nORDER BY mean_gpa DESC\\nLIMIT 4\"))\n",
    "    for row in rows:\n",
    "        print(row)"
   ]
  },
  {
   "cell_type": "code",
   "execution_count": null,
   "metadata": {},
   "outputs": [
    {
     "name": "stdout",
     "output_type": "stream",
     "text": [
      "['CSE 455', 'CSE 484']\n"
     ]
    }
   ],
   "source": [
    "course_ids = ['CSE 455', 'CSE 484']\n",
    "formatted_ids = \", \".join(f\"'{course_id}'\" for course_id in course_ids)\n",
    "print(f'{course_ids}')"
   ]
  },
  {
   "cell_type": "code",
   "execution_count": 56,
   "metadata": {},
   "outputs": [],
   "source": [
    "returns = []\n",
    "if returns:\n",
    "    print(\"yes\")"
   ]
  },
  {
   "cell_type": "code",
   "execution_count": 54,
   "metadata": {},
   "outputs": [
    {
     "name": "stdout",
     "output_type": "stream",
     "text": [
      "('Computer Vision', 'CSE 455')\n",
      "('Computer Security', 'CSE 484')\n"
     ]
    }
   ],
   "source": [
    "\n",
    "#sqlalchemy query\n",
    "\n",
    "with engine.connect() as con:\n",
    "    rows = con.execute(text(f'SELECT course_title, course_id\\nFROM class_data\\nWHERE course_id IN ({formatted_ids})'))\n",
    "    for row in rows:\n",
    "        print(row)"
   ]
  },
  {
   "cell_type": "code",
   "execution_count": 10,
   "metadata": {},
   "outputs": [],
   "source": [
    "#llama index retriever\n",
    "\n",
    "nl_sql_retriever = NLSQLRetriever(\n",
    "    sql_database, tables=[\"class_data\"], return_raw=True\n",
    ")\n"
   ]
  },
  {
   "cell_type": "code",
   "execution_count": 44,
   "metadata": {},
   "outputs": [
    {
     "name": "stdout",
     "output_type": "stream",
     "text": [
      "[NodeWithScore(node=TextNode(id_='0a273585-842e-4eaa-b9fa-aed137be4471', embedding=None, metadata={'sql_query': \"SELECT course_id, mean_gpa\\nFROM class_data\\nWHERE department_abbrev = 'CSE'\\nORDER BY mean_gpa DESC\", 'result': [('CSE 496', 3.9976190476190476), ('CSE 460', 3.9870588235294115), ('CSE 498', 3.982476635514019), ('CSE 428', 3.940625), ('CSE 455', 3.9210769230769227), ('CSE 475', 3.9111111111111114), ('CSE 482', 3.907228915662651), ('CSE 481', 3.872076023391813), ('CSE 484', 3.871465461588121), ('CSE 453', 3.852100840336134), ('CSE 478', 3.851572327044025), ('CSE 458', 3.8224719101123594), ('CSE 464', 3.80919540229885), ('CSE 495', 3.801298701298701), ('CSE 427', 3.78663967611336), ('CSE 444', 3.768900804289544), ('CSE 180', 3.7555819477434675), ('CSE 493', 3.7503124999999997), ('CSE 469', 3.742528735632184), ('CSE 451', 3.7359999999999998), ('CSE 452', 3.7126271186440674), ('CSE 490', 3.6962088698140203), ('CSE 369', 3.694385026737968), ('CSE 442', 3.691517323775388), ('CSE 414', 3.6729121592384244), ('CSE 190', 3.6717791411042944), ('CSE 470', 3.6655172413793107), ('CSE 440', 3.6562073669849933), ('CSE 473', 3.6489376770538247), ('CSE 456', 3.648717948717949), ('CSE 431', 3.6336), ('CSE 422', 3.6265625), ('CSE 457', 3.624519230769231), ('CSE 131', 3.6107623318385653), ('CSE 446', 3.601107594936709), ('CSE 474', 3.593258426966292), ('CSE 412', 3.592705167173252), ('CSE 447', 3.592066805845511), ('CSE 371', 3.5902439024390245), ('CSE 441', 3.587878787878788), ('CSE 403', 3.5753880266075386), ('CSE 461', 3.5742028985507246), ('CSE 401', 3.5711267605633803), ('CSE 344', 3.537659783677483), ('CSE 459', 3.5375), ('CSE 351', 3.5310815666546893), ('CSE 332', 3.523400742880727), ('CSE 421', 3.5155805687203787), ('CSE 402', 3.4941176470588236), ('CSE 486', 3.479591836734694), ('CSE 333', 3.4794896957801766), ('CSE 312', 3.468426724137931), ('CSE 416', 3.4661406025824966), ('CSE 374', 3.4641951219512195), ('CSE 373', 3.454054054054054), ('CSE 311', 3.4491265597147946), ('CSE 163', 3.4382702702702703), ('CSE 331', 3.429256134969325), ('CSE 415', 3.367789757412399), ('CSE 341', 3.3672211350293546), ('CSE 426', 3.344), ('CSE 417', 3.2955859969558596), ('CSE 340', 3.2937777777777777), ('CSE 160', 3.2883333333333336), ('CSE 123', 3.2824902723735407), ('CSE 410', 3.2333333333333334), ('CSE 390', 3.2292307692307687), ('CSE 122', 3.189770821688094), ('CSE 413', 3.180625), ('CSE 472', 3.1277777777777778), ('CSE 121', 3.0125631768953065), ('CSE 143', 2.9663587374903773), ('CSE 154', 2.883772819472617), ('CSE 142', 2.8732639481317177), ('CSE 110', None), ('CSE 112', None), ('CSE 301', None), ('CSE 391', None), ('CSE 399', None), ('CSE 450', None), ('CSE 454', None), ('CSE 480', None), ('CSE 487', None), ('CSE 488', None), ('CSE 491', None), ('CSE 492', None), ('CSE 497', None), ('CSE 499', None)], 'col_keys': ['course_id', 'mean_gpa']}, excluded_embed_metadata_keys=['sql_query', 'result', 'col_keys'], excluded_llm_metadata_keys=['sql_query', 'result', 'col_keys'], relationships={}, metadata_template='{key}: {value}', metadata_separator='\\n', text=\"[('CSE 496', 3.9976190476190476), ('CSE 460', 3.9870588235294115), ('CSE 498', 3.982476635514019), ('CSE 428', 3.940625), ('CSE 455', 3.9210769230769227), ('CSE 475', 3.9111111111111114), ('CSE 482', 3.907228915662651), ('CSE 481', 3.872076023391813), ('CSE 484', 3.871465461588121), ('CSE 453', 3.852100840336134), ('CSE 478', 3.851572327044025), ('CSE 458', 3.8224719101123594), ('CSE 464', 3.80919540229885), ('CSE 495', 3.801298701298701), ('CSE 427', 3.78663967611336), ('CSE 444', 3.768900804289544), ('CSE 180', 3.7555819477434675), ('CSE 493', 3.7503124999999997), ('CSE 469', 3.742528735632184), ('CSE 451', 3.7359999999999998), ('CSE 452', 3.7126271186440674), ('CSE 490', 3.6962088698140203), ('CSE 369', 3.694385026737968), ('CSE 442', 3.691517323775388), ('CSE 414', 3.6729121592384244), ('CSE 190', 3.6717791411042944), ('CSE 470', 3.6655172413793107), ('CSE 440', 3.6562073669849933), ('CSE 473', 3.6489376770538247), ('CSE 456', 3.648717948717949), ('CSE 431', 3.6336), ('CSE 422', 3.6265625), ('CSE 457', 3.624519230769231), ('CSE 131', 3.6107623318385653), ('CSE 446', 3.601107594936709), ('CSE 474', 3.593258426966292), ('CSE 412', 3.592705167173252), ('CSE 447', 3.592066805845511), ('CSE 371', 3.5902439024390245), ('CSE 441', 3.587878787878788), ('CSE 403', 3.5753880266075386), ('CSE 461', 3.5742028985507246), ('CSE 401', 3.5711267605633803), ('CSE 344', 3.537659783677483), ('CSE 459', 3.5375), ('CSE 351', 3.5310815666546893), ('CSE 332', 3.523400742880727), ('CSE 421', 3.5155805687203787), ('CSE 402', 3.4941176470588236), ('CSE 486', 3.479591836734694), ('CSE 333', 3.4794896957801766), ('CSE 312', 3.468426724137931), ('CSE 416', 3.4661406025824966), ('CSE 374', 3.4641951219512195), ('CSE 373', 3.454054054054054), ('CSE 311', 3.4491265597147946), ('CSE 163', 3.4382702702702703), ('CSE 331', 3.429256134969325), ('CSE 415', 3.367789757412399), ('CSE 341', 3.3672211350293546), ('CSE 426', 3.344), ('CSE 417', 3.2955859969558596), ('CSE 340', 3.2937777777777777), ('CSE 160', 3.2883333333333336), ('CSE 123', 3.2824902723735407), ('CSE 410', 3.2333333333333334), ('CSE 390', 3.2292307692307687), ('CSE 122', 3.189770821688094), ('CSE 413', 3.180625), ('CSE 472', 3.1277777777777778), ('CSE 121', 3.0125631768953065), ('CSE 143', 2.9663587374903773), ('CSE 154', 2.883772819472617), ('CSE 142', 2.8732639481317177), ('CSE 110', None), ('CSE 112', None), ('CSE 301', None), ('CSE 391', None), ('CSE 399', None), ('CSE 450', None), ('CSE 454', None), ('CSE 480', None), ('CSE 487', None), ('CSE 488', None), ('CSE 491', None), ('CSE 492', None), ('CSE 497', None), ('CSE 499', None)]\", mimetype='text/plain', start_char_idx=None, end_char_idx=None, metadata_seperator='\\n', text_template='{metadata_str}\\n\\n{content}'), score=None)]\n"
     ]
    }
   ],
   "source": [
    "#llama index query retriever\n",
    "\n",
    "\n",
    "query = \"\"\"\n",
    "Schema Context:\n",
    "Department_abbrev column represents the department and is abbreviated in all caps. Example: CS for Computer Science.\n",
    "Course_credits contain floating points. Example: 4.0.\n",
    "\n",
    "Do not order by unless the question suggests that you should.\n",
    "\n",
    "Always return course_id\n",
    "\n",
    "Question:\n",
    "What are some CSE courses with the highest average gpa?\"\"\"\n",
    " \n",
    "\n",
    "response = nl_sql_retriever.retrieve(query)\n",
    "print(response)\n"
   ]
  },
  {
   "cell_type": "code",
   "execution_count": 26,
   "metadata": {},
   "outputs": [
    {
     "name": "stdout",
     "output_type": "stream",
     "text": [
      "[]\n",
      "0.0\n",
      "Node ID: 390cf0b6-de06-4ca8-a972-46cd42be5f65\n",
      "Text: []\n",
      "Score: None\n",
      "\n",
      "{'sql_query': \"SELECT course_title, course_description, course_credits \\nFROM class_data \\nWHERE department_abbrev = 'UDP' OR department_abbrev = 'URBAN' OR department_abbrev = 'DP' OR department_abbrev = 'URBDP' OR department_abbrev = 'URB'\", 'result': [], 'col_keys': ['course_title', 'course_description', 'course_credits']}\n",
      "<class 'llama_index.core.schema.NodeWithScore'>\n"
     ]
    }
   ],
   "source": [
    "print(response[0].get_content())\n",
    "print(response[0].get_score())\n",
    "print(response[0])\n",
    "print(response[0].metadata)\n",
    "print(type(response[0]))"
   ]
  },
  {
   "cell_type": "code",
   "execution_count": 30,
   "metadata": {},
   "outputs": [
    {
     "name": "stdout",
     "output_type": "stream",
     "text": [
      "Condition met: result is falsy\n"
     ]
    }
   ],
   "source": [
    "if not response[0].metadata['result']:\n",
    "    print(\"Condition met: result is falsy\")\n"
   ]
  },
  {
   "cell_type": "code",
   "execution_count": 32,
   "metadata": {},
   "outputs": [
    {
     "data": {
      "text/plain": [
       "'SELECT course_title, course_description, course_credits '"
      ]
     },
     "execution_count": 32,
     "metadata": {},
     "output_type": "execute_result"
    }
   ],
   "source": [
    "response[0].metadata['sql_query'].splitlines()[0]"
   ]
  },
  {
   "cell_type": "code",
   "execution_count": 40,
   "metadata": {},
   "outputs": [
    {
     "name": "stdout",
     "output_type": "stream",
     "text": [
      "[[]]\n",
      "SELECT course_title, course_description, course_credits \n",
      "FROM class_data \n",
      "WHERE department_abbrev = 'UDP' OR department_abbrev = 'URBAN' OR department_abbrev = 'DP' OR department_abbrev = 'URBDP' OR department_abbrev = 'URB'\n"
     ]
    }
   ],
   "source": [
    "sql = \"SELECT course_title, course_description, course_credits /nFROM class_data /nWHERE department_abbrev = 'UDP' OR department_abbrev = 'URBAN' OR department_abbrev = 'DP' OR department_abbrev = 'URBDP' OR department_abbrev = 'URB AND test'\"\n",
    "\n",
    "for line_num, line in enumerate(sql.splitlines()):\n",
    "    if 'WHERE' in line:\n",
    "        where_clause = line\n",
    "        line_num = line_num\n",
    "\n",
    "        new_clause = where_clause.split('nothing')[:-1]\n",
    "        split_sql = sql.splitlines()\n",
    "        split_sql[line_num] = new_clause\n",
    "        sql = split_sql\n",
    "\n",
    "print(sql)\n",
    "print(response[0].metadata['sql_query'])"
   ]
  }
 ],
 "metadata": {
  "kernelspec": {
   "display_name": "3.11.0",
   "language": "python",
   "name": "python3"
  },
  "language_info": {
   "codemirror_mode": {
    "name": "ipython",
    "version": 3
   },
   "file_extension": ".py",
   "mimetype": "text/x-python",
   "name": "python",
   "nbconvert_exporter": "python",
   "pygments_lexer": "ipython3",
   "version": "3.11.0"
  }
 },
 "nbformat": 4,
 "nbformat_minor": 2
}
