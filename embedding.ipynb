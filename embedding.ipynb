{
 "cells": [
  {
   "cell_type": "code",
   "execution_count": 17,
   "metadata": {},
   "outputs": [],
   "source": [
    "import langchain\n",
    "from langchain_community.document_loaders import DataFrameLoader\n",
    "import json\n",
    "import pandas as pd"
   ]
  },
  {
   "cell_type": "code",
   "execution_count": 22,
   "metadata": {},
   "outputs": [
    {
     "name": "stderr",
     "output_type": "stream",
     "text": [
      "C:\\Users\\lucas\\AppData\\Local\\Temp\\ipykernel_9908\\3533572691.py:10: FutureWarning: DataFrame.applymap has been deprecated. Use DataFrame.map instead.\n",
      "  gpa_df = class_data[[str(i) for i in range(31, 41)]].applymap(lambda x: x['count'] if isinstance(x, dict) else None)\n"
     ]
    }
   ],
   "source": [
    "class_data = pd.read_json('data.json').T\n",
    "\n",
    "coi_df = class_data['coi_data'].apply(pd.Series)\n",
    "gpa_df = class_data['gpa_distro'].apply(pd.Series)\n",
    "\n",
    "# Merge back into original dataframe (if needed)\n",
    "class_data = class_data.drop(columns=['coi_data']).join(coi_df)\n",
    "class_data = class_data.drop(columns=['gpa_distro']).join(gpa_df)\n",
    "class_data.columns = class_data.columns.astype(str)\n",
    "gpa_df = class_data[[str(i) for i in range(31, 41)]].applymap(lambda x: x['count'] if isinstance(x, dict) else None)\n",
    "gpa_df.columns = [f\"gpa_count_{col}\" for col in gpa_df.columns]\n",
    "class_data = class_data.drop(columns=[str(i) for i in range(31, 41)]).join(gpa_df)\n",
    "class_data[\"course_description\"] = class_data[\"course_description\"].fillna(\"(No description)\")\n",
    "\n",
    "keep_columns = ['course_description', 'course_title', 'department_abbrev', 'course_id']\n",
    "data = class_data[keep_columns]"
   ]
  },
  {
   "cell_type": "code",
   "execution_count": null,
   "metadata": {},
   "outputs": [
    {
     "name": "stdout",
     "output_type": "stream",
     "text": [
      "page_content='(No description)' metadata={'course_title': 'Introduction to Anthropology', 'department_abbrev': 'ANTH', 'course_id': 'ANTH 100'}\n"
     ]
    }
   ],
   "source": [
    "loader = DataFrameLoader(\n",
    "    data,\n",
    "    page_content_column = 'course_description'\n",
    ")\n",
    "\n",
    "\n",
    "documents = loader.load()\n",
    "\n",
    "\n",
    "print(documents[0])\n",
    "\n",
    "\n"
   ]
  },
  {
   "cell_type": "code",
   "execution_count": null,
   "metadata": {},
   "outputs": [],
   "source": [
    "#Setting up kwargs\n",
    "\n",
    "query_prompt = 'Given a search query, retrieve relevant passages that relate to the query'\n",
    "\n",
    "query_kwargs = {\n",
    "    'prompt': query_prompt,\n",
    "    \n",
    "}"
   ]
  },
  {
   "cell_type": "code",
   "execution_count": null,
   "metadata": {},
   "outputs": [],
   "source": [
    "embedder = HuggingFaceEmbeddings(model_name = 'Alibaba-NLP/gte-Qwen2-7B-instruct',\n",
    "                                query_encode_kwargs = query_kwargs)\n",
    "\n",
    "\n",
    "\n",
    "\n",
    "embedded_docs = embedder.embed_documents(documents)\n",
    "\n"
   ]
  },
  {
   "cell_type": "code",
   "execution_count": null,
   "metadata": {},
   "outputs": [],
   "source": []
  }
 ],
 "metadata": {
  "kernelspec": {
   "display_name": "3.11.0",
   "language": "python",
   "name": "python3"
  },
  "language_info": {
   "codemirror_mode": {
    "name": "ipython",
    "version": 3
   },
   "file_extension": ".py",
   "mimetype": "text/x-python",
   "name": "python",
   "nbconvert_exporter": "python",
   "pygments_lexer": "ipython3",
   "version": "3.11.0"
  }
 },
 "nbformat": 4,
 "nbformat_minor": 2
}
