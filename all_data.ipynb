{
 "cells": [
  {
   "cell_type": "code",
   "execution_count": 1,
   "metadata": {},
   "outputs": [],
   "source": [
    "import pandas as pd"
   ]
  },
  {
   "cell_type": "code",
   "execution_count": null,
   "metadata": {},
   "outputs": [],
   "source": [
    "data = pd.read_csv('FILE_LOCATION')\n"
   ]
  },
  {
   "cell_type": "code",
   "execution_count": null,
   "metadata": {},
   "outputs": [],
   "source": [
    "courses = data['Course Number'].to_list()\n",
    "dept = data['Department Name'].to_list()"
   ]
  },
  {
   "cell_type": "code",
   "execution_count": 4,
   "metadata": {},
   "outputs": [
    {
     "name": "stdout",
     "output_type": "stream",
     "text": [
      "  Course ID   Campus Department Name             College  Course Number  \\\n",
      "0  BBECN300  Bothell           BBECN  School of Business            300   \n",
      "1  BBECN302  Bothell           BBECN  School of Business            302   \n",
      "2  BBECN303  Bothell           BBECN  School of Business            303   \n",
      "3  BBECN382  Bothell           BBECN  School of Business            382   \n",
      "4  BBECN458  Bothell           BBECN  School of Business            458   \n",
      "\n",
      "                         Course Name Credits Areas of Knowledge  \\\n",
      "0  Quantitative Methods in Economics       5                NaN   \n",
      "1        Intermediate Microeconomics       5                NaN   \n",
      "2        Intermediate Macroeconomics       5                NaN   \n",
      "3       Introduction to Econometrics       5                NaN   \n",
      "4                      Risk Modeling       5                NaN   \n",
      "\n",
      "  Quarters Offered Offered with  \\\n",
      "0              NaN          NaN   \n",
      "1              NaN          NaN   \n",
      "2              NaN          NaN   \n",
      "3              NaN          NaN   \n",
      "4              NaN      BBUS458   \n",
      "\n",
      "                                       Prerequisites Co-Requisites  \\\n",
      "0                                           BMATH144           NaN   \n",
      "1  BBUS220,BIS200;BMATH144,MATH112,STMATH114,STMA...           NaN   \n",
      "2                           BBUS221/BIS201&&BBECN302           NaN   \n",
      "3                                           BBECN302           NaN   \n",
      "4                                           BBECN302           NaN   \n",
      "\n",
      "                                         Description  \n",
      "0  Provides a comprehensive introduction to basic...  \n",
      "1  Intermediate level analysis of theories of hou...  \n",
      "2  Analyze the determinants of the aggregate leve...  \n",
      "3  Introduces students to basic econometric tools...  \n",
      "4  Focuses on the allocation and pricing of risk,...  \n"
     ]
    }
   ],
   "source": [
    "print(data.head())"
   ]
  }
 ],
 "metadata": {
  "kernelspec": {
   "display_name": "3.11.0",
   "language": "python",
   "name": "python3"
  },
  "language_info": {
   "codemirror_mode": {
    "name": "ipython",
    "version": 3
   },
   "file_extension": ".py",
   "mimetype": "text/x-python",
   "name": "python",
   "nbconvert_exporter": "python",
   "pygments_lexer": "ipython3",
   "version": "3.11.0"
  }
 },
 "nbformat": 4,
 "nbformat_minor": 2
}
