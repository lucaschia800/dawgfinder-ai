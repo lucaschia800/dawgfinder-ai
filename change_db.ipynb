{
 "cells": [
  {
   "cell_type": "code",
   "execution_count": null,
   "metadata": {},
   "outputs": [],
   "source": [
    "import sqlite3\n",
    "\n",
    "from sqlalchemy import (\n",
    "    create_engine,\n",
    "    MetaData,\n",
    "    Table,\n",
    "    Column,\n",
    "    String,\n",
    "    Integer,\n",
    "    select,\n",
    "    text\n",
    "\n",
    ")\n",
    "\n",
    "from sqlalchemy.orm import sessionmaker\n",
    "\n",
    "import pandas as pd     \n",
    "\n",
    "import numpy as np"
   ]
  },
  {
   "cell_type": "code",
   "execution_count": null,
   "metadata": {},
   "outputs": [],
   "source": [
    "df = pd.read_json('catalog.json').T"
   ]
  },
  {
   "cell_type": "code",
   "execution_count": null,
   "metadata": {},
   "outputs": [],
   "source": [
    "\n",
    "print(df.columns)"
   ]
  },
  {
   "cell_type": "code",
   "execution_count": null,
   "metadata": {},
   "outputs": [],
   "source": [
    "#course offered contains values outside of seasons\n",
    "\n",
    "unique_quarters = df['course_offered'].unique()\n",
    "\n",
    "print([quarter for quarter in unique_quarters if quarter is not None and len(quarter) < 9])\n"
   ]
  },
  {
   "cell_type": "code",
   "execution_count": null,
   "metadata": {},
   "outputs": [],
   "source": [
    "#filter out values that are not seasons\n",
    "seasons = ['S.', 'A.', 'W.', 'Sp.', 'AS.']\n",
    "\n",
    "df = df[df['course_offered'].isin(seasons)]\n",
    "\n",
    "print(len(df['course_offered'].isin(seasons)))\n"
   ]
  },
  {
   "cell_type": "code",
   "execution_count": null,
   "metadata": {},
   "outputs": [],
   "source": [
    "seasons = ['S.', 'A.', 'W.', 'Sp.']\n",
    "print(df['course_offered'].isin(seasons).sum())"
   ]
  },
  {
   "cell_type": "code",
   "execution_count": null,
   "metadata": {},
   "outputs": [],
   "source": [
    "#confirm class id is unique\n",
    "print(len(df))\n",
    "print(df['course_id'].nunique())"
   ]
  },
  {
   "cell_type": "code",
   "execution_count": null,
   "metadata": {},
   "outputs": [],
   "source": [
    "#set up gpa \n",
    "\n",
    "gpa_data = df['gpa_distro'].apply(pd.Series)\n",
    "gpa_data = gpa_data.applymap(lambda x: x.get('count', 0) if isinstance(x, (dict,)) else None)\n",
    "print(gpa_data.columns)\n",
    "print(gpa_data.head())"
   ]
  },
  {
   "cell_type": "code",
   "execution_count": null,
   "metadata": {},
   "outputs": [],
   "source": [
    "#calculating mean\n",
    "\n",
    "gpa_values = np.array([i / 10 for i in range(41)], dtype = float)\n",
    "\n",
    "total_counts = gpa_data[[i for i in range(41)]].sum(axis=1)\n",
    "\n",
    "mean_gpa = (gpa_data * gpa_values).sum(axis=1) / total_counts\n",
    "mean_gpa.name = 'mean_gpa'\n",
    "\n"
   ]
  },
  {
   "cell_type": "code",
   "execution_count": null,
   "metadata": {},
   "outputs": [],
   "source": [
    "df_mean_gpa = pd.concat([df, mean_gpa], axis=1)\n",
    "print(df_mean_gpa.columns)\n",
    "print(type(mean_gpa))"
   ]
  },
  {
   "cell_type": "code",
   "execution_count": null,
   "metadata": {},
   "outputs": [],
   "source": [
    "df_dropped = df_mean_gpa.drop(columns=['gpa_distro', 'concurrent_courses', 'prereq_graph', 'coi_data', 'is_gateway', 'is_bottleneck', 'prereq_string'], inplace = False)\n",
    "df_final = df_dropped.rename(columns = {'course_offered': 'quarters_offered'})\n"
   ]
  },
  {
   "cell_type": "code",
   "execution_count": null,
   "metadata": {},
   "outputs": [],
   "source": [
    "print(df_final.columns)\n",
    "print(df_final.dtypes)\n",
    "print(df_final['course_id'].head())\n",
    "print(type(df_final['course_credits']))\n",
    "print(df_final.info())"
   ]
  },
  {
   "cell_type": "code",
   "execution_count": null,
   "metadata": {},
   "outputs": [],
   "source": [
    "print(df_final.loc[df_final['department_abbrev'].str.contains('CS')]['department_abbrev'].unique())\n",
    "print(df_final['course_credits'].head())"
   ]
  },
  {
   "cell_type": "code",
   "execution_count": null,
   "metadata": {},
   "outputs": [],
   "source": [
    "# Connect to the SQLite database\n",
    "conn = sqlite3.connect('courses_temp.db')\n",
    "cursor = conn.cursor()\n",
    "\n",
    "# Define table name\n",
    "table_name = 'class_data'  # Adjust this to match your actual table name\n",
    "\n",
    "\n",
    "# Insert DataFrame into the SQLite table\n",
    "df_final.to_sql(table_name, conn, index=False)"
   ]
  },
  {
   "cell_type": "code",
   "execution_count": null,
   "metadata": {},
   "outputs": [],
   "source": [
    "departments = df_final['department_abbrev'].unique()\n",
    "print(departments)\n",
    "\n",
    "print('CSE' in departments)"
   ]
  },
  {
   "cell_type": "code",
   "execution_count": null,
   "metadata": {},
   "outputs": [],
   "source": [
    "print(df_final['course_id'].head())"
   ]
  }
 ],
 "metadata": {
  "kernelspec": {
   "display_name": "3.11.0",
   "language": "python",
   "name": "python3"
  },
  "language_info": {
   "codemirror_mode": {
    "name": "ipython",
    "version": 3
   },
   "file_extension": ".py",
   "mimetype": "text/x-python",
   "name": "python",
   "nbconvert_exporter": "python",
   "pygments_lexer": "ipython3",
   "version": "3.11.0"
  }
 },
 "nbformat": 4,
 "nbformat_minor": 2
}
