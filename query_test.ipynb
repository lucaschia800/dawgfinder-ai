{
 "cells": [
  {
   "cell_type": "code",
   "execution_count": 1,
   "metadata": {},
   "outputs": [
    {
     "name": "stderr",
     "output_type": "stream",
     "text": [
      "c:\\Users\\lucas\\.pyenv\\pyenv-win\\versions\\3.11.0\\Lib\\site-packages\\pinecone\\data\\index.py:1: TqdmWarning: IProgress not found. Please update jupyter and ipywidgets. See https://ipywidgets.readthedocs.io/en/stable/user_install.html\n",
      "  from tqdm.autonotebook import tqdm\n"
     ]
    }
   ],
   "source": [
    "from query import Query"
   ]
  },
  {
   "cell_type": "code",
   "execution_count": null,
   "metadata": {},
   "outputs": [],
   "source": [
    "query_curr = Query('show classes with stuartt regiss')"
   ]
  },
  {
   "cell_type": "code",
   "execution_count": 2,
   "metadata": {},
   "outputs": [
    {
     "ename": "NameError",
     "evalue": "name 'query_curr' is not defined",
     "output_type": "error",
     "traceback": [
      "\u001b[1;31m---------------------------------------------------------------------------\u001b[0m",
      "\u001b[1;31mNameError\u001b[0m                                 Traceback (most recent call last)",
      "Cell \u001b[1;32mIn[2], line 1\u001b[0m\n\u001b[1;32m----> 1\u001b[0m \u001b[43mquery_curr\u001b[49m\u001b[38;5;241m.\u001b[39mfind_relevant_courses()\n",
      "\u001b[1;31mNameError\u001b[0m: name 'query_curr' is not defined"
     ]
    }
   ],
   "source": [
    "query_curr.find_relevant_courses()"
   ]
  },
  {
   "cell_type": "code",
   "execution_count": 2,
   "metadata": {},
   "outputs": [],
   "source": [
    "query_cs = Query('mathematics for elementary teachers')"
   ]
  },
  {
   "cell_type": "code",
   "execution_count": 3,
   "metadata": {},
   "outputs": [
    {
     "name": "stdout",
     "output_type": "stream",
     "text": [
      "[NodeWithScore(node=TextNode(id_='1cb7fdab-d41d-4090-ae7e-c27923f58a2b', embedding=None, metadata={'sql_query': \"SELECT department_abbrv, course_id, credits, quarter_offered, mean_gpa, teacher_rating, start_time, end_time, meeting_days, professor_name, credit_type\\nFROM all_classes\\nWHERE department_abbrv = 'MATH' AND course_id >= 100 AND course_id < 200;\", 'result': [('MATH', 103, '5', 'Spring 2025', 3.0304964539007093, None, '11:30', '12:20', 'MTWThF', None, None), ('MATH', 111, '5', 'Summer 2025', 3.141694800810264, None, '09:40', '10:40', 'MWF', None, 'RSN, NSc'), ('MATH', 111, '5', 'Spring 2025', 3.141694800810264, None, '14:30', '15:20', 'MWF', None, 'RSN, NSc'), ('MATH', 111, '5', 'Spring 2025', 3.141694800810264, None, '08:30', '09:20', 'MWF', None, 'RSN, NSc'), ('MATH', 112, '5', 'Spring 2025', 3.2788723667905826, None, '11:30', '12:20', 'MWF', None, 'RSN, NSc'), ('MATH', 116, '1', 'Spring 2025', 0.0, None, None, None, None, None, None), ('MATH', 120, '5', 'Summer 2025', 2.990717423133236, None, '12:00', '13:00', 'MWF', None, 'NSc, RSN'), ('MATH', 120, '5', 'Spring 2025', 2.990717423133236, None, '09:30', '10:20', 'MWF', None, 'NSc, RSN'), ('MATH', 124, '5', 'Summer 2025', 2.831178451178451, None, '09:40', '10:40', 'MWF', None, 'NSc, RSN'), ('MATH', 124, '5', 'Summer 2025', 2.831178451178451, None, '10:50', '11:50', 'MWF', None, 'NSc, RSN'), ('MATH', 124, '5', 'Spring 2025', 2.831178451178451, None, '09:30', '10:20', 'MWF', None, 'NSc, RSN'), ('MATH', 124, '5', 'Spring 2025', 2.831178451178451, None, None, None, None, None, 'NSc, RSN'), ('MATH', 125, '5', 'Summer 2025', 2.9340980085903947, None, '08:30', '09:30', 'MWF', None, 'NSc'), ('MATH', 125, '5', 'Summer 2025', 2.9340980085903947, None, '09:40', '10:40', 'MWF', None, 'NSc'), ('MATH', 125, '5', 'Spring 2025', 2.9340980085903947, None, '09:30', '10:20', 'MWF', None, 'NSc'), ('MATH', 125, '5', 'Spring 2025', 2.9340980085903947, None, '10:30', '11:20', 'MWF', None, 'NSc'), ('MATH', 125, '5', 'Spring 2025', 2.9340980085903947, None, None, None, None, None, 'NSc'), ('MATH', 126, '5', 'Summer 2025', 3.066553260429324, None, '08:30', '09:30', 'MWF', None, 'NSc'), ('MATH', 126, '5', 'Spring 2025', 3.066553260429324, None, '08:30', '09:20', 'MWF', None, 'NSc'), ('MATH', 126, '5', 'Spring 2025', 3.066553260429324, None, '09:30', '10:20', 'MWF', None, 'NSc'), ('MATH', 126, '5', 'Spring 2025', 3.066553260429324, None, '10:30', '11:20', 'MWF', None, 'NSc'), ('MATH', 126, '5', 'Spring 2025', 3.066553260429324, None, '11:30', '12:20', 'MWF', None, 'NSc'), ('MATH', 126, '5', 'Spring 2025', 3.066553260429324, None, None, None, None, None, 'NSc'), ('MATH', 136, '5', 'Spring 2025', 3.5459259259259257, None, '11:30', '12:20', 'MTWThF', None, 'NSc'), ('MATH', 180, '3', 'Spring 2025', 3.123404255319149, None, '08:30', '10:20', 'W', None, 'NSc, RSN'), ('MATH', 197, '2', 'Spring 2025', 0.0, None, None, None, None, None, 'NSc'), ('MATH', 198, '1', 'Spring 2025', 0.0, None, None, None, None, None, None)], 'col_keys': ['department_abbrv', 'course_id', 'credits', 'quarter_offered', 'mean_gpa', 'teacher_rating', 'start_time', 'end_time', 'meeting_days', 'professor_name', 'credit_type']}, excluded_embed_metadata_keys=['sql_query', 'result', 'col_keys'], excluded_llm_metadata_keys=['sql_query', 'result', 'col_keys'], relationships={}, metadata_template='{key}: {value}', metadata_separator='\\n', text=\"[('MATH', 103, '5', 'Spring 2025', 3.0304964539007093, None, '11:30', '12:20', 'MTWThF', None, None), ('MATH', 111, '5', 'Summer 2025', 3.141694800810264, None, '09:40', '10:40', 'MWF', None, 'RSN, NSc'), ('MATH', 111, '5', 'Spring 2025', 3.141694800810264, None, '14:30', '15:20', 'MWF', None, 'RSN, NSc'), ('MATH', 111, '5', 'Spring 2025', 3.141694800810264, None, '08:30', '09:20', 'MWF', None, 'RSN, NSc'), ('MATH', 112, '5', 'Spring 2025', 3.2788723667905826, None, '11:30', '12:20', 'MWF', None, 'RSN, NSc'), ('MATH', 116, '1', 'Spring 2025', 0.0, None, None, None, None, None, None), ('MATH', 120, '5', 'Summer 2025', 2.990717423133236, None, '12:00', '13:00', 'MWF', None, 'NSc, RSN'), ('MATH', 120, '5', 'Spring 2025', 2.990717423133236, None, '09:30', '10:20', 'MWF', None, 'NSc, RSN'), ('MATH', 124, '5', 'Summer 2025', 2.831178451178451, None, '09:40', '10:40', 'MWF', None, 'NSc, RSN'), ('MATH', 124, '5', 'Summer 2025', 2.831178451178451, None, '10:50', '11:50', 'MWF', None, 'NSc, RSN'), ('MATH', 124, '5', 'Spring 2025', 2.831178451178451, None, '09:30', '10:20', 'MWF', None, 'NSc, RSN'), ('MATH', 124, '5', 'Spring 2025', 2.831178451178451, None, None, None, None, None, 'NSc, RSN'), ('MATH', 125, '5', 'Summer 2025', 2.9340980085903947, None, '08:30', '09:30', 'MWF', None, 'NSc'), ('MATH', 125, '5', 'Summer 2025', 2.9340980085903947, None, '09:40', '10:40', 'MWF', None, 'NSc'), ('MATH', 125, '5', 'Spring 2025', 2.9340980085903947, None, '09:30', '10:20', 'MWF', None, 'NSc'), ('MATH', 125, '5', 'Spring 2025', 2.9340980085903947, None, '10:30', '11:20', 'MWF', None, 'NSc'), ('MATH', 125, '5', 'Spring 2025', 2.9340980085903947, None, None, None, None, None, 'NSc'), ('MATH', 126, '5', 'Summer 2025', 3.066553260429324, None, '08:30', '09:30', 'MWF', None, 'NSc'), ('MATH', 126, '5', 'Spring 2025', 3.066553260429324, None, '08:30', '09:20', 'MWF', None, 'NSc'), ('MATH', 126, '5', 'Spring 2025', 3.066553260429324, None, '09:30', '10:20', 'MWF', None, 'NSc'), ('MATH', 126, '5', 'Spring 2025', 3.066553260429324, None, '10:30', '11:20', 'MWF', None, 'NSc'), ('MATH', 126, '5', 'Spring 2025', 3.066553260429324, None, '11:30', '12:20', 'MWF', None, 'NSc'), ('MATH', 126, '5', 'Spring 2025', 3.066553260429324, None, None, None, None, None, 'NSc'), ('MATH', 136, '5', 'Spring 2025', 3.5459259259259257, None, '11:30', '12:20', 'MTWThF', None, 'NSc'), ('MATH', 180, '3', 'Spring 2025', 3.123404255319149, None, '08:30', '10:20', 'W', None, 'NSc, RSN'), ('MATH', 197, '2', 'Spring 2025', 0.0, None, None, None, None, None, 'NSc'), ('MATH', 198, '1', 'Spring 2025', 0.0, None, None, None, None, None, None)]\", mimetype='text/plain', start_char_idx=None, end_char_idx=None, metadata_seperator='\\n', text_template='{metadata_str}\\n\\n{content}'), score=None)]\n",
      "Where clause:\n",
      "WHERE department_abbrv = 'MATH' AND course_id >= 100 AND course_id < 200;\n",
      "title\n",
      "reordered returns list:\n",
      "['EDUC170ASpring2025']\n",
      "SELECT * FROM all_classes WHERE \"UUID\" IN ('EDUC170ASpring2025')\n",
      "grabbing course uuids\n",
      "final returns unsorted\n",
      "(6514, 'Seattle', 'Spring 2025', 'EDUC   170', 'Mathematics for Elementary School Teachers', 'Covers basic concepts of numbers and operations. Emphasizes problem solving, communication of mathematical ideas, and analysis of sources of difficultly in learning/teaching these concepts.', 'lecture', 'A', '5', 'T', '11:30 AM - 1:50 PM', 'MUS', '223', 'PUJA PATEL', '5', 'NSc', 13824, 24, 35, 'https://course-app-api.planning.sis.uw.edu/api/courses/EDUC%20170/details', 'EDUC170', 3.560277777777778, 3.9, 0.835816254764404, 41.388888888888886, 22.0, 0.0, 0.0, 0.0, 0.0, 0.0, 0.0, 2.0, 0.0, 2.0, 2.0, 0.0, 1.0, 1.0, 1.0, 0.0, 0.0, 1.0, 3.0, 1.0, 7.0, 8.0, 2.0, 3.0, 2.0, 8.0, 5.0, 7.0, 5.0, 6.0, 5.0, 10.0, 12.0, 18.0, 13.0, 19.0, 35.0, 61.0, 71.0, 89.0, 298.0, '11:30', '13:50', 'EDUC', 'No Match', None, None, None, None, None, None, None, None, None, None, None, None, None, 'EDUC170', 'EDUC170ASpring2025')\n",
      "final return course ids\n",
      "Description scores\n",
      "[(Document(id='059737ed-372c-4a4e-a6b8-c08af2ababb5', metadata={'UUID': 'EDSPE523ASpring2025', 'course_id': 'EDSPE  523'}, page_content='Provides educators with basic elementary math content and techniques for teaching elementary students with disabilities in inclusive settings.'), 0.675715744), (Document(id='aa8b70d3-f5a3-4252-8772-1f50a53d3072', metadata={'UUID': 'EDTEP522ASpring2025', 'course_id': 'EDTEP  522'}, page_content='Focuses on analyzing and adapting tasks and lessons from published curriculum to enact principles of equity-oriented mathematics teaching. Builds specialized knowledge of mathematics required to teach young children. For College of Education elementary teacher education program students.'), 0.63786751), (Document(id='cbcf4ce4-c93b-4a39-b9c0-5b09e70d84d9', metadata={'UUID': 'EDTEP520CSummer2025', 'course_id': 'EDTEP  520'}, page_content='Develops a vision of equity-oriented mathematics teaching that supports children to develop conceptual understanding, procedural fluency, and productive mathematics identities. Develops lenses for treating children as sensemakers and for honoring ideas and experiences they bring to the classroom. Builds specialized knowledge of mathematics required to teach young children. For College of Education elementary teacher education program students.'), 0.636730313), (Document(id='2d1faf37-2388-435c-9cb0-3fe8a906cf67', metadata={'UUID': 'EDTEP520BSummer2025', 'course_id': 'EDTEP  520'}, page_content='Develops a vision of equity-oriented mathematics teaching that supports children to develop conceptual understanding, procedural fluency, and productive mathematics identities. Develops lenses for treating children as sensemakers and for honoring ideas and experiences they bring to the classroom. Builds specialized knowledge of mathematics required to teach young children. For College of Education elementary teacher education program students.'), 0.636730313), (Document(id='1a6afbb2-0b2b-46db-9402-472f14ec10b4', metadata={'UUID': 'EDTEP520ASummer2025', 'course_id': 'EDTEP  520'}, page_content='Develops a vision of equity-oriented mathematics teaching that supports children to develop conceptual understanding, procedural fluency, and productive mathematics identities. Develops lenses for treating children as sensemakers and for honoring ideas and experiences they bring to the classroom. Builds specialized knowledge of mathematics required to teach young children. For College of Education elementary teacher education program students.'), 0.636730313), (Document(id='c68f13d9-e1f4-4405-8180-f5f822c040a2', metadata={'UUID': 'EDTEP582ASpring2025', 'course_id': 'EDTEP  582'}, page_content='Teaching of mathematics in middle, junior, or senior high school.'), 0.600357711), (Document(id='b664c5e6-78ca-4e80-8a7e-4627858f6c56', metadata={'UUID': 'EDUC170ASpring2025', 'course_id': 'EDUC   170'}, page_content='Covers basic concepts of numbers and operations. Emphasizes problem solving, communication of mathematical ideas, and analysis of sources of difficultly in learning/teaching these concepts.'), 0.569975), (Document(id='3ebec2ad-ff69-4786-9783-6af8c390b25b', metadata={'UUID': 'EDUC170BSpring2025', 'course_id': 'EDUC   170'}, page_content='Covers basic concepts of numbers and operations. Emphasizes problem solving, communication of mathematical ideas, and analysis of sources of difficultly in learning/teaching these concepts.'), 0.569975), (Document(id='93590013-d289-41a6-a54c-c12f405214f0', metadata={'UUID': 'MATH300DSpring2025', 'course_id': 'MATH   300'}, page_content='Mathematical arguments and the writing of proofs in an elementary setting. Elementary set theory, elementary examples of functions and operations on functions, the principle of induction, counting, elementary number theory, elementary combinatorics, recurrence relations.'), 0.566955626), (Document(id='c32fa067-dc89-455f-ae1d-c4d73744013b', metadata={'UUID': 'MATH300ESpring2025', 'course_id': 'MATH   300'}, page_content='Mathematical arguments and the writing of proofs in an elementary setting. Elementary set theory, elementary examples of functions and operations on functions, the principle of induction, counting, elementary number theory, elementary combinatorics, recurrence relations.'), 0.566955626), (Document(id='20f6580d-2620-424d-9ba6-26f8aa0d9cde', metadata={'UUID': 'MATH300BSpring2025', 'course_id': 'MATH   300'}, page_content='Mathematical arguments and the writing of proofs in an elementary setting. Elementary set theory, elementary examples of functions and operations on functions, the principle of induction, counting, elementary number theory, elementary combinatorics, recurrence relations.'), 0.566955626), (Document(id='3fbeed6b-69ed-4777-928e-e67d0454d866', metadata={'UUID': 'MATH300ASummer2025', 'course_id': 'MATH   300'}, page_content='Mathematical arguments and the writing of proofs in an elementary setting. Elementary set theory, elementary examples of functions and operations on functions, the principle of induction, counting, elementary number theory, elementary combinatorics, recurrence relations.'), 0.566955626), (Document(id='76862130-cafc-41e4-8c04-b64ebeaead91', metadata={'UUID': 'MATH300BSummer2025', 'course_id': 'MATH   300'}, page_content='Mathematical arguments and the writing of proofs in an elementary setting. Elementary set theory, elementary examples of functions and operations on functions, the principle of induction, counting, elementary number theory, elementary combinatorics, recurrence relations.'), 0.566955626), (Document(id='0f182188-6219-4899-acfb-01b76ec03869', metadata={'UUID': 'MATH300CSpring2025', 'course_id': 'MATH   300'}, page_content='Mathematical arguments and the writing of proofs in an elementary setting. Elementary set theory, elementary examples of functions and operations on functions, the principle of induction, counting, elementary number theory, elementary combinatorics, recurrence relations.'), 0.566955626), (Document(id='e711ba28-072c-4dfc-a18e-13854f24324c', metadata={'UUID': 'MATH300ASpring2025', 'course_id': 'MATH   300'}, page_content='Mathematical arguments and the writing of proofs in an elementary setting. Elementary set theory, elementary examples of functions and operations on functions, the principle of induction, counting, elementary number theory, elementary combinatorics, recurrence relations.'), 0.566955626), (Document(id='54af7f6e-7c58-45e3-a66d-0b380e1cfc6d', metadata={'UUID': 'MATH301ASpring2025', 'course_id': 'MATH   301'}, page_content='Brief introduction to some of the fundamental ideas of elementary number theory.'), 0.525541961), (Document(id='3a4b9d14-edae-438e-abe0-70aba5b18266', metadata={'UUID': 'EDC&I577ASpring2025', 'course_id': 'EDC&I  577'}, page_content='Discussion of problems and issues of current interest and importance in mathematics education.'), 0.521639347), (Document(id='5e8b7cbf-d0aa-4a5f-b243-6b57fa1ab399', metadata={'UUID': 'MATH480ASpring2025', 'course_id': 'MATH   480'}, page_content='Covers advanced topics in undergraduate mathematics.'), 0.502360702), (Document(id='c69dd887-1540-41a4-a1d9-b2ef7290604d', metadata={'UUID': 'MATH480BSpring2025', 'course_id': 'MATH   480'}, page_content='Covers advanced topics in undergraduate mathematics.'), 0.502271056), (Document(id='41267c72-f3d6-478f-a596-61ba903af088', metadata={'UUID': 'MATH380ASummer2025', 'course_id': 'MATH   380'}, page_content='Covers intermediate topics in undergraduate mathematics.'), 0.502229035), (Document(id='2c6a5084-ffca-491d-b4a0-493a5a4e5093', metadata={'UUID': 'EDSPE565ASpring2025', 'course_id': 'EDSPE  565'}, page_content='Provides an overview of basic early childhood content in math, science, social studies, physical education, and the arts. Includes active exploration and demonstration of ways to adapt and embed these concepts into thematic units and early childhood classroom routines.'), 0.487498969), (Document(id='2640a822-5e77-498c-89dd-52b0eb7c7de4', metadata={'UUID': 'MATH136ASpring2025', 'course_id': 'MATH   136'}, page_content='Covers the material of MATH 124, MATH 125, MATH 126; MATH 207, MATH 208. First year of a two-year accelerated sequence. For students with above average preparation, interest, and ability in mathematics.'), 0.481649607), (Document(id='4eb92faf-bf1f-46ad-a0d7-5f2bf34fe9a5', metadata={'UUID': 'MATH583GSpring2025', 'course_id': 'MATH   583'}, page_content='Advanced topics in various areas of mathematics.'), 0.47553134), (Document(id='dce58d98-6ce4-4256-93dd-4b9b1723bbd7', metadata={'UUID': 'MATH583FSpring2025', 'course_id': 'MATH   583'}, page_content='Advanced topics in various areas of mathematics.'), 0.47553134), (Document(id='96719c8d-d295-4d5e-9d33-911de3cdef21', metadata={'UUID': 'MATH583ASpring2025', 'course_id': 'MATH   583'}, page_content='Advanced topics in various areas of mathematics.'), 0.475338727)]\n",
      "reordered returns\n",
      "[(6514, 'Seattle', 'Spring 2025', 'EDUC   170', 'Mathematics for Elementary School Teachers', 'Covers basic concepts of numbers and operations. Emphasizes problem solving, communication of mathematical ideas, and analysis of sources of difficultly in learning/teaching these concepts.', 'lecture', 'A', '5', 'T', '11:30 AM - 1:50 PM', 'MUS', '223', 'PUJA PATEL', '5', 'NSc', 13824, 24, 35, 'https://course-app-api.planning.sis.uw.edu/api/courses/EDUC%20170/details', 'EDUC170', 3.560277777777778, 3.9, 0.835816254764404, 41.388888888888886, 22.0, 0.0, 0.0, 0.0, 0.0, 0.0, 0.0, 2.0, 0.0, 2.0, 2.0, 0.0, 1.0, 1.0, 1.0, 0.0, 0.0, 1.0, 3.0, 1.0, 7.0, 8.0, 2.0, 3.0, 2.0, 8.0, 5.0, 7.0, 5.0, 6.0, 5.0, 10.0, 12.0, 18.0, 13.0, 19.0, 35.0, 61.0, 71.0, 89.0, 298.0, '11:30', '13:50', 'EDUC', 'No Match', None, None, None, None, None, None, None, None, None, None, None, None, None, 'EDUC170', 'EDUC170ASpring2025')]\n",
      "<class 'dict'>\n",
      "1\n"
     ]
    }
   ],
   "source": [
    "returns = query_cs.find_relevant_courses()\n",
    "print(len(returns))\n"
   ]
  },
  {
   "cell_type": "code",
   "execution_count": null,
   "metadata": {},
   "outputs": [],
   "source": [
    "returns = query_cs.widen_search()\n",
    "print(len(returns))\n"
   ]
  },
  {
   "cell_type": "code",
   "execution_count": null,
   "metadata": {},
   "outputs": [],
   "source": [
    "\n",
    "print(returns[0]._mapping.keys())\n",
    "\n",
    "\n",
    "dict_returns = returns[0]._mapping\n",
    "print(dict_returns)"
   ]
  },
  {
   "cell_type": "code",
   "execution_count": null,
   "metadata": {},
   "outputs": [],
   "source": [
    "for row in returns:\n",
    "    print(row)"
   ]
  },
  {
   "cell_type": "code",
   "execution_count": null,
   "metadata": {},
   "outputs": [],
   "source": [
    "print(returns[0].keys())"
   ]
  },
  {
   "cell_type": "code",
   "execution_count": null,
   "metadata": {},
   "outputs": [],
   "source": []
  },
  {
   "cell_type": "code",
   "execution_count": null,
   "metadata": {},
   "outputs": [],
   "source": [
    "print(len(returns))\n",
    "print((returns[0][1]))\n",
    "\n",
    "courses_unique = set()\n",
    "for course in returns:\n",
    "    courses_unique.add(course[-1])\n",
    "\n",
    "print(len(courses_unique))"
   ]
  },
  {
   "cell_type": "code",
   "execution_count": null,
   "metadata": {},
   "outputs": [],
   "source": []
  },
  {
   "cell_type": "code",
   "execution_count": null,
   "metadata": {},
   "outputs": [],
   "source": [
    "print(returns)"
   ]
  },
  {
   "cell_type": "code",
   "execution_count": null,
   "metadata": {},
   "outputs": [],
   "source": [
    "for row in cursor:\n",
    "    print(row)"
   ]
  },
  {
   "cell_type": "code",
   "execution_count": null,
   "metadata": {},
   "outputs": [],
   "source": [
    "#returns = query_curr.find_relevant_course()\n",
    "returns = query_curr.find_relevant_courses()"
   ]
  },
  {
   "cell_type": "code",
   "execution_count": null,
   "metadata": {},
   "outputs": [],
   "source": [
    "print(len(returns))\n",
    "print(returns)"
   ]
  }
 ],
 "metadata": {
  "kernelspec": {
   "display_name": "3.11.0",
   "language": "python",
   "name": "python3"
  },
  "language_info": {
   "codemirror_mode": {
    "name": "ipython",
    "version": 3
   },
   "file_extension": ".py",
   "mimetype": "text/x-python",
   "name": "python",
   "nbconvert_exporter": "python",
   "pygments_lexer": "ipython3",
   "version": "3.11.0"
  }
 },
 "nbformat": 4,
 "nbformat_minor": 2
}
