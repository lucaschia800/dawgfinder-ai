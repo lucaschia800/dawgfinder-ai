{
 "cells": [
  {
   "cell_type": "code",
   "execution_count": null,
   "metadata": {},
   "outputs": [],
   "source": [
    "import langchain\n",
    "from langchain_community.document_loaders import DataFrameLoader\n",
    "import json\n",
    "import pandas as pd\n",
    "import getpass\n",
    "import os\n",
    "from pinecone import Pinecone, ServerlessSpec\n",
    "from langchain_pinecone import PineconeVectorStore\n",
    "from langchain_openai import OpenAIEmbeddings \n",
    "import openai \n"
   ]
  },
  {
   "cell_type": "code",
   "execution_count": null,
   "metadata": {},
   "outputs": [],
   "source": [
    "\"\"\"\n",
    "1. Query Occurs\n",
    "2. Query is embedded\n",
    "3. Query is sent to two pinecone indexes\n",
    "4. Returns include the course_id for description matches and department abbrv for department matches\n",
    "       -need to decide how to grab department abbrv\n",
    "       -also need to decide wx`hether to even use the course_id description match if it is poor. We can judge this with cosine similarity score\n",
    "5. Store course_id from description along with score\n",
    "6. Insert department abbrv into prompt\n",
    "7. text to sql\n",
    "8. return sql results and sql query\n",
    "9. if sql query is empty then reduce where clauses and try again\n",
    "10. aggregate and use relevance score to determine which results to show\n",
    "11 return results\n",
    "\n",
    "\n",
    "\"\"\""
   ]
  }
 ],
 "metadata": {
  "kernelspec": {
   "display_name": "3.11.0",
   "language": "python",
   "name": "python3"
  },
  "language_info": {
   "name": "python",
   "version": "3.11.0"
  }
 },
 "nbformat": 4,
 "nbformat_minor": 2
}
