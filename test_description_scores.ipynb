{
 "cells": [
  {
   "cell_type": "code",
   "execution_count": 4,
   "metadata": {},
   "outputs": [],
   "source": [
    "from llama_index.core import SQLDatabase\n",
    "from llama_index.llms.openai import OpenAI\n",
    "import os\n",
    "from pinecone import Pinecone\n",
    "from langchain_pinecone import PineconeVectorStore\n",
    "from langchain_openai import OpenAIEmbeddings \n",
    "import openai \n",
    "import numpy as np"
   ]
  },
  {
   "cell_type": "code",
   "execution_count": 13,
   "metadata": {},
   "outputs": [],
   "source": [
    "\n",
    "pinecone_api_key = os.environ.get(\"pinecone_API\")\n",
    "\n",
    "\n",
    "pc = Pinecone(api_key=pinecone_api_key)\n",
    "embedder = OpenAIEmbeddings(model=\"text-embedding-3-small\")\n",
    "descr_vector_store = PineconeVectorStore(pc.Index(\"department-abbrev-db\"), embedding = embedder)"
   ]
  },
  {
   "cell_type": "code",
   "execution_count": 14,
   "metadata": {},
   "outputs": [],
   "source": [
    "api_key = os.getenv(\"OPENAI_API_KEY\")\n",
    "openai.api_key = api_key\n",
    "\n"
   ]
  },
  {
   "cell_type": "code",
   "execution_count": 15,
   "metadata": {},
   "outputs": [],
   "source": [
    "test_vec = np.random.rand(1536).tolist()\n",
    "docs_and_scores = descr_vector_store.similarity_search_by_vector_with_score(test_vec, k = 10)"
   ]
  },
  {
   "cell_type": "code",
   "execution_count": 26,
   "metadata": {},
   "outputs": [
    {
     "name": "stdout",
     "output_type": "stream",
     "text": [
      "<class 'str'>\n",
      "0.0587023124\n"
     ]
    }
   ],
   "source": [
    "print(type(docs_and_scores[0][0].page_content))\n",
    "\n",
    "for doc in docs_and_scores:\n",
    "    if 'DENTCL' in doc[0].page_content:\n",
    "        print(doc[1])"
   ]
  },
  {
   "cell_type": "code",
   "execution_count": 24,
   "metadata": {},
   "outputs": [],
   "source": [
    "cs_string = 'Show me computer science classes having to do with advanced data structures and algorithms' #0.8 top\n",
    "cs_string_mean = 'Show me computer science classes having to do with advanced data structures and algorithms with a mean gpa > 3' #0.78\n",
    "history = 'history' #0.71 top\n",
    "eng = 'Engineering princples with a mean GPA > 3' #0.737\n",
    "\n"
   ]
  },
  {
   "cell_type": "code",
   "execution_count": null,
   "metadata": {},
   "outputs": [],
   "source": []
  }
 ],
 "metadata": {
  "kernelspec": {
   "display_name": "3.11.0",
   "language": "python",
   "name": "python3"
  },
  "language_info": {
   "codemirror_mode": {
    "name": "ipython",
    "version": 3
   },
   "file_extension": ".py",
   "mimetype": "text/x-python",
   "name": "python",
   "nbconvert_exporter": "python",
   "pygments_lexer": "ipython3",
   "version": "3.11.0"
  }
 },
 "nbformat": 4,
 "nbformat_minor": 2
}
