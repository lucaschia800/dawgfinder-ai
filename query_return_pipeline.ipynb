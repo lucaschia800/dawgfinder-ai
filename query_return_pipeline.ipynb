{
 "cells": [
  {
   "cell_type": "code",
   "execution_count": 6,
   "metadata": {},
   "outputs": [],
   "source": [
    "import langchain\n",
    "from langchain_community.document_loaders import DataFrameLoader\n",
    "import json\n",
    "import pandas as pd\n",
    "import getpass\n",
    "import os\n",
    "from pinecone import Pinecone, ServerlessSpec\n",
    "from langchain_pinecone import PineconeVectorStore\n",
    "from langchain_openai import OpenAIEmbeddings \n",
    "import openai \n"
   ]
  },
  {
   "cell_type": "code",
   "execution_count": 2,
   "metadata": {},
   "outputs": [],
   "source": [
    "from llama_index.core.retrievers import NLSQLRetriever\n",
    "\n",
    "import sqlite3\n",
    "import os\n",
    "import llama_index\n",
    "\n",
    "\n",
    "from sqlalchemy import (\n",
    "    create_engine,\n",
    "    MetaData,\n",
    "    Table,\n",
    "    Column,\n",
    "    String,\n",
    "    Integer,\n",
    "    select,\n",
    ")\n",
    "\n",
    "from llama_index.core import SQLDatabase\n",
    "from llama_index.llms.openai import OpenAI\n",
    "\n",
    "\n",
    "from sqlalchemy import text\n"
   ]
  },
  {
   "cell_type": "code",
   "execution_count": 6,
   "metadata": {},
   "outputs": [],
   "source": [
    "from llama_index.core.schema import QueryBundle, TextNode, NodeWithScore\n",
    "import logging\n"
   ]
  },
  {
   "cell_type": "code",
   "execution_count": 7,
   "metadata": {},
   "outputs": [],
   "source": [
    "#Setting up keys\n",
    "pinecone_api_key = os.environ.get(\"pinecone_API\")\n",
    "\n",
    "pc = Pinecone(api_key=pinecone_api_key)\n",
    "\n",
    "api_key = os.getenv(\"OPENAI_API_KEY\")\n",
    "openai.api_key = api_key\n"
   ]
  },
  {
   "cell_type": "code",
   "execution_count": 26,
   "metadata": {},
   "outputs": [],
   "source": [
    "embeddings = OpenAIEmbeddings(model=\"text-embedding-3-small\")\n",
    "text_sql_model = OpenAI(temperature=0.1, model=\"gpt-3.5-turbo\")"
   ]
  },
  {
   "cell_type": "code",
   "execution_count": null,
   "metadata": {},
   "outputs": [],
   "source": [
    "index_abbrev = pc.Index(\"department-abbrev-db\")\n",
    "\n",
    "conn = sqlite3.connect('courses_temp.db')\n",
    "cursor = conn.cursor()\n",
    "\n",
    "\n",
    "engine = create_engine(\"sqlite:///courses_temp.db\")\n",
    "sql_database = SQLDatabase(engine, include_tables=[\"class_data\"])\n",
    "nl_sql_retriever = NLSQLRetriever(\n",
    "    sql_database, tables=[\"class_data\"], return_raw=True\n",
    ")\n"
   ]
  },
  {
   "cell_type": "code",
   "execution_count": null,
   "metadata": {},
   "outputs": [],
   "source": [
    "\"\"\"\n",
    "1. Query Occurs\n",
    "2. Query is embedded\n",
    "3. Query is sent to two pinecone indexes\n",
    "4. Returns include the course_id for description matches and department abbrv for department matches\n",
    "       -need to decide how to grab department abbrv\n",
    "       -also need to decide wx`hether to even use the course_id description match if it is poor. We can judge this with cosine similarity score\n",
    "5. Store course_id from description along with score\n",
    "6. Insert department abbrv into prompt\n",
    "7. text to sql\n",
    "8. return sql results and sql query\n",
    "9. if sql query is empty then reduce where clauses and try again\n",
    "10. aggregate and use relevance score to determine which results to show\n",
    "11 return results\n",
    "\n",
    "\n",
    "\"\"\""
   ]
  },
  {
   "cell_type": "code",
   "execution_count": null,
   "metadata": {},
   "outputs": [],
   "source": []
  },
  {
   "cell_type": "code",
   "execution_count": 12,
   "metadata": {},
   "outputs": [],
   "source": [
    "query = 'computer science'\n",
    "\n",
    "embedding = embeddings.embed_query(query)\n",
    "\n",
    "vector_store_department = PineconeVectorStore(index_abbrev, embedding = embeddings)\n",
    "\n",
    "embedding_department = vector_store_department.similarity_search_by_vector_with_score(embedding, k = 3)"
   ]
  },
  {
   "cell_type": "code",
   "execution_count": null,
   "metadata": {},
   "outputs": [],
   "source": []
  },
  {
   "cell_type": "code",
   "execution_count": 15,
   "metadata": {},
   "outputs": [
    {
     "name": "stdout",
     "output_type": "stream",
     "text": [
      "(Document(id='9b95de79-921d-41ba-88f7-3b307023eec3', metadata={}, page_content='COMP SCI AND ENGINEERING - DATA SCIENCE: CSE D'), 0.547315836)\n"
     ]
    }
   ],
   "source": [
    "print(embedding_department[2])"
   ]
  },
  {
   "cell_type": "code",
   "execution_count": 22,
   "metadata": {},
   "outputs": [
    {
     "name": "stdout",
     "output_type": "stream",
     "text": [
      "COMP SCI AND ENGINEERING - DATA SCIENCE: CSE D\n"
     ]
    }
   ],
   "source": [
    "doc = embedding_department[2][0]\n",
    "print((doc.page_content))"
   ]
  },
  {
   "cell_type": "code",
   "execution_count": null,
   "metadata": {},
   "outputs": [
    {
     "name": "stdout",
     "output_type": "stream",
     "text": [
      "{'CSE': 0.631870806, 'CSS': 0.57072264, 'CSE D': 0.547315836}\n"
     ]
    }
   ],
   "source": [
    "abbrev_and_scores = {}\n",
    "for entry in embedding_department:\n",
    "    deparment = entry[0].page_content\n",
    "    abbrev = deparment.split(':', 1)[1].strip()\n",
    "    abbrev_and_scores[abbrev] = entry[1]\n",
    "\n",
    "\n",
    "print(abbrev_and_scores)\n",
    "\n"
   ]
  },
  {
   "cell_type": "code",
   "execution_count": 10,
   "metadata": {},
   "outputs": [],
   "source": [
    "\n",
    "\n",
    "class CustomNLSQLRetriever(NLSQLRetriever):\n",
    "    def retrieve_with_metadata(\n",
    "        self, str_or_query_bundle, abbrev_and_scores\n",
    "    ):\n",
    "        \"\"\"Retrieve with metadata.\"\"\"\n",
    "        if isinstance(str_or_query_bundle, str):\n",
    "            query_bundle = QueryBundle(str_or_query_bundle)\n",
    "        else:\n",
    "            query_bundle = str_or_query_bundle\n",
    "        table_desc_str = self._get_table_context(query_bundle)\n",
    "        logger.info(f\"> Table desc str: {table_desc_str}\")\n",
    "        if self._verbose:\n",
    "            print(f\"> Table desc str: {table_desc_str}\")\n",
    "\n",
    "        response_str = self._llm.predict(\n",
    "            self._text_to_sql_prompt,\n",
    "            query_str=query_bundle.query_str,\n",
    "            schema=table_desc_str,\n",
    "            dialect=self._sql_database.dialect,\n",
    "        )\n",
    "\n",
    "        sql_query_str = self._sql_parser.parse_response_to_sql(\n",
    "            response_str, query_bundle\n",
    "        )\n",
    "        # assume that it's a valid SQL query\n",
    "        logger.debug(f\"> Predicted SQL query: {sql_query_str}\")\n",
    "        if self._verbose:\n",
    "            print(f\"> Predicted SQL query: {sql_query_str}\")\n",
    "\n",
    "        if self._sql_only:\n",
    "            sql_only_node = TextNode(text=f\"{sql_query_str}\")\n",
    "            retrieved_nodes = [NodeWithScore(node=sql_only_node)]\n",
    "            metadata = {\"result\": sql_query_str}\n",
    "        else:\n",
    "            try:\n",
    "                retrieved_nodes, metadata = self._sql_retriever.retrieve_with_metadata(\n",
    "                    sql_query_str\n",
    "                )\n",
    "            except BaseException as e:\n",
    "                # if handle_sql_errors is True, then return error message\n",
    "                if self._handle_sql_errors:\n",
    "                    err_node = TextNode(text=f\"Error: {e!s}\")\n",
    "                    retrieved_nodes = [NodeWithScore(node=err_node)]\n",
    "                    metadata = {}\n",
    "                else:\n",
    "                    raise\n",
    "\n",
    "        return retrieved_nodes, {\"sql_query\": sql_query_str, **metadata}"
   ]
  },
  {
   "cell_type": "code",
   "execution_count": null,
   "metadata": {},
   "outputs": [
    {
     "name": "stdout",
     "output_type": "stream",
     "text": [
      "[]\n"
     ]
    }
   ],
   "source": []
  }
 ],
 "metadata": {
  "kernelspec": {
   "display_name": "3.11.0",
   "language": "python",
   "name": "python3"
  },
  "language_info": {
   "codemirror_mode": {
    "name": "ipython",
    "version": 3
   },
   "file_extension": ".py",
   "mimetype": "text/x-python",
   "name": "python",
   "nbconvert_exporter": "python",
   "pygments_lexer": "ipython3",
   "version": "3.11.0"
  }
 },
 "nbformat": 4,
 "nbformat_minor": 2
}
