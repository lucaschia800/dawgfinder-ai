{
 "cells": [
  {
   "cell_type": "code",
   "execution_count": 1,
   "metadata": {},
   "outputs": [],
   "source": [
    "import sqlite3\n",
    "\n",
    "from sqlalchemy import (\n",
    "    create_engine,\n",
    "    MetaData,\n",
    "    Table,\n",
    "    Column,\n",
    "    String,\n",
    "    Integer,\n",
    "    select,\n",
    "    text\n",
    "\n",
    ")\n",
    "\n",
    "from sqlalchemy.orm import sessionmaker\n",
    "\n",
    "import pandas as pd     \n",
    "\n",
    "import numpy as np"
   ]
  },
  {
   "cell_type": "code",
   "execution_count": 7,
   "metadata": {},
   "outputs": [],
   "source": [
    "df = pd.read_json('catalog.json').T"
   ]
  },
  {
   "cell_type": "code",
   "execution_count": 17,
   "metadata": {},
   "outputs": [
    {
     "name": "stdout",
     "output_type": "stream",
     "text": [
      "Index(['coi_data', 'concurrent_courses', 'course_campus', 'course_credits',\n",
      "       'course_description', 'course_id', 'course_offered', 'course_title',\n",
      "       'department_abbrev', 'gpa_distro', 'is_bottleneck', 'is_gateway',\n",
      "       'prereq_graph', 'prereq_string'],\n",
      "      dtype='object')\n"
     ]
    }
   ],
   "source": [
    "\n",
    "print(df.columns)"
   ]
  },
  {
   "cell_type": "code",
   "execution_count": 8,
   "metadata": {},
   "outputs": [
    {
     "name": "stdout",
     "output_type": "stream",
     "text": [
      "['S.', 'AS.', 'W.', 'Sp.', 'A.', 'AWSpS.', 'WSp.', 'AWSp.', 'AWS.', 'SpS.', 'ASpS.', 'AW.', 'WS.', 'ASp.', 'WSpS.']\n"
     ]
    }
   ],
   "source": [
    "#course offered contains values outside of seasons\n",
    "\n",
    "unique_quarters = df['course_offered'].unique()\n",
    "\n",
    "print([quarter for quarter in unique_quarters if quarter is not None and len(quarter) < 9])\n"
   ]
  },
  {
   "cell_type": "code",
   "execution_count": 6,
   "metadata": {},
   "outputs": [
    {
     "name": "stdout",
     "output_type": "stream",
     "text": [
      "878\n"
     ]
    }
   ],
   "source": [
    "#filter out values that are not seasons\n",
    "seasons = ['S.', 'A.', 'W.', 'Sp.', 'AS.']\n",
    "\n",
    "df = df[df['course_offered'].isin(seasons)]\n",
    "\n",
    "print(len(df['course_offered'].isin(seasons)))\n"
   ]
  },
  {
   "cell_type": "code",
   "execution_count": 9,
   "metadata": {},
   "outputs": [
    {
     "name": "stdout",
     "output_type": "stream",
     "text": [
      "865\n"
     ]
    }
   ],
   "source": [
    "seasons = ['S.', 'A.', 'W.', 'Sp.']\n",
    "print(df['course_offered'].isin(seasons).sum())"
   ]
  },
  {
   "cell_type": "code",
   "execution_count": 10,
   "metadata": {},
   "outputs": [
    {
     "name": "stdout",
     "output_type": "stream",
     "text": [
      "5777\n",
      "5777\n"
     ]
    }
   ],
   "source": [
    "#confirm class id is unique\n",
    "print(len(df))\n",
    "print(df['course_id'].nunique())"
   ]
  },
  {
   "cell_type": "code",
   "execution_count": 11,
   "metadata": {},
   "outputs": [
    {
     "name": "stdout",
     "output_type": "stream",
     "text": [
      "RangeIndex(start=0, stop=41, step=1)\n",
      "         0    1    2    3    4    5    6    7    8    9   ...   31   32   33  \\\n",
      "SWA101  0.0  0.0  0.0  0.0  0.0  0.0  0.0  0.0  0.0  0.0  ...  2.0  2.0  1.0   \n",
      "SWA102  0.0  0.0  0.0  0.0  0.0  0.0  0.0  1.0  0.0  2.0  ...  1.0  3.0  4.0   \n",
      "SWA103  0.0  0.0  0.0  0.0  0.0  0.0  0.0  0.0  0.0  0.0  ...  3.0  4.0  2.0   \n",
      "SWA134  0.0  0.0  0.0  0.0  0.0  0.0  0.0  0.0  0.0  0.0  ...  0.0  1.0  0.0   \n",
      "SWA201  0.0  0.0  0.0  0.0  0.0  0.0  0.0  0.0  0.0  0.0  ...  0.0  0.0  0.0   \n",
      "\n",
      "         34   35   36    37    38    39    40  \n",
      "SWA101  2.0  7.0  9.0   7.0  21.0  15.0  88.0  \n",
      "SWA102  2.0  8.0  6.0  10.0  12.0  18.0  79.0  \n",
      "SWA103  0.0  5.0  4.0   5.0   3.0   9.0  39.0  \n",
      "SWA134  0.0  0.0  0.0   0.0   0.0   1.0  22.0  \n",
      "SWA201  0.0  0.0  0.0   0.0   0.0   0.0  12.0  \n",
      "\n",
      "[5 rows x 41 columns]\n"
     ]
    },
    {
     "name": "stderr",
     "output_type": "stream",
     "text": [
      "C:\\Users\\lucas\\AppData\\Local\\Temp\\ipykernel_38404\\3097050676.py:4: FutureWarning: DataFrame.applymap has been deprecated. Use DataFrame.map instead.\n",
      "  gpa_data = gpa_data.applymap(lambda x: x.get('count', 0) if isinstance(x, (dict,)) else None)\n"
     ]
    }
   ],
   "source": [
    "#set up gpa \n",
    "\n",
    "gpa_data = df['gpa_distro'].apply(pd.Series)\n",
    "gpa_data = gpa_data.applymap(lambda x: x.get('count', 0) if isinstance(x, (dict,)) else None)\n",
    "print(gpa_data.columns)\n",
    "print(gpa_data.head())"
   ]
  },
  {
   "cell_type": "code",
   "execution_count": 12,
   "metadata": {},
   "outputs": [],
   "source": [
    "#calculating mean\n",
    "\n",
    "gpa_values = np.array([i / 10 for i in range(41)], dtype = float)\n",
    "\n",
    "total_counts = gpa_data[[i for i in range(41)]].sum(axis=1)\n",
    "\n",
    "mean_gpa = (gpa_data * gpa_values).sum(axis=1) / total_counts\n",
    "mean_gpa.name = 'mean_gpa'\n",
    "\n"
   ]
  },
  {
   "cell_type": "code",
   "execution_count": 13,
   "metadata": {},
   "outputs": [
    {
     "name": "stdout",
     "output_type": "stream",
     "text": [
      "Index(['coi_data', 'concurrent_courses', 'course_campus', 'course_credits',\n",
      "       'course_description', 'course_id', 'course_offered', 'course_title',\n",
      "       'department_abbrev', 'gpa_distro', 'is_bottleneck', 'is_gateway',\n",
      "       'prereq_graph', 'prereq_string', 'mean_gpa'],\n",
      "      dtype='object')\n",
      "<class 'pandas.core.series.Series'>\n"
     ]
    }
   ],
   "source": [
    "df_mean_gpa = pd.concat([df, mean_gpa], axis=1)\n",
    "print(df_mean_gpa.columns)\n",
    "print(type(mean_gpa))"
   ]
  },
  {
   "cell_type": "code",
   "execution_count": 14,
   "metadata": {},
   "outputs": [],
   "source": [
    "df_dropped = df_mean_gpa.drop(columns=['gpa_distro', 'concurrent_courses', 'prereq_graph', 'coi_data', 'is_gateway', 'is_bottleneck', 'prereq_string'], inplace = False)\n",
    "df_final = df_dropped.rename(columns = {'course_offered': 'quarters_offered'})\n"
   ]
  },
  {
   "cell_type": "code",
   "execution_count": null,
   "metadata": {},
   "outputs": [],
   "source": [
    "print(df_final.columns)\n",
    "print(df_final.dtypes)\n",
    "print(df_final['course_id'].head())\n",
    "print(type(df_final['course_credits']))\n",
    "print(df_final.info())"
   ]
  },
  {
   "cell_type": "code",
   "execution_count": 15,
   "metadata": {},
   "outputs": [
    {
     "name": "stdout",
     "output_type": "stream",
     "text": [
      "['CSE' 'ETHICS']\n",
      "SWA101     5.0\n",
      "SWA102     5.0\n",
      "SWA103     5.0\n",
      "SWA134    15.0\n",
      "SWA201     5.0\n",
      "Name: course_credits, dtype: object\n"
     ]
    }
   ],
   "source": [
    "print(df_final.loc[df_final['department_abbrev'].str.contains('CS')]['department_abbrev'].unique())\n",
    "print(df_final['course_credits'].head())"
   ]
  },
  {
   "cell_type": "code",
   "execution_count": null,
   "metadata": {},
   "outputs": [],
   "source": [
    "# Connect to the SQLite database\n",
    "conn = sqlite3.connect('courses_temp.db')\n",
    "cursor = conn.cursor()\n",
    "\n",
    "# Define table name\n",
    "table_name = 'class_data'  # Adjust this to match your actual table name\n",
    "\n",
    "\n",
    "# Insert DataFrame into the SQLite table\n",
    "df_final.to_sql(table_name, conn, index=False)"
   ]
  },
  {
   "cell_type": "code",
   "execution_count": 16,
   "metadata": {},
   "outputs": [
    {
     "name": "stdout",
     "output_type": "stream",
     "text": [
      "['SWA' 'ARCTIC' 'TAGLG' 'AAS' 'CHSTU' 'BENG' 'CFRM' 'AFRAM' 'AES' 'ASIAN'\n",
      " 'AMATH' 'ART' 'DESIGN' 'AIS' 'INDO' 'INDN' 'ARCHY' 'URDU' 'HINDI' 'SNKRT'\n",
      " 'CHIN' 'ASTBIO' 'KOREAN' 'HUM' 'VIET' 'JAPAN' 'ASTR' 'CMS' 'GREEK' 'CLAS'\n",
      " 'LATIN' 'DXARTS' 'ANTH' 'INDIV' 'CHID' 'CHEM' 'TXTDS' 'BIOL' 'DANCE'\n",
      " 'COM' 'FRENCH' 'ITAL' 'HSTAFM' 'DRAMA' 'CSE' 'ECON' 'HSTLAC' 'HSTAM'\n",
      " 'HPS' 'HSTRY' 'GWSS' 'HSTAS' 'HSTCMP' 'LABOR' 'GEOG' 'ASL' 'HSTEU'\n",
      " 'GERMAN' 'RELIG' 'ARAMIC' 'COPTIC' 'GEEZ' 'EGYPT' 'LADINO' 'MICROM' 'LSJ'\n",
      " 'JSIS' 'ARAB' 'TURKIC' 'CHGTAI' 'LING' 'BIBHEB' 'MODHEB' 'PRSAN' 'MATH'\n",
      " 'ENGL' 'KYRGYZ' 'KAZAKH' 'UGARIT' 'UZBEK' 'UYGUR' 'TKISH' 'MUSAP' 'MUSED'\n",
      " 'NEUSCI' 'ETHICS' 'MUSEN' 'MUHST' 'MELC' 'FINN' 'DANISH' 'ESTO' 'LITH'\n",
      " 'LATV' 'NORW' 'BCMS' 'SWED' 'CZECH' 'BULGR' 'MUSICP' 'ROMN' 'PHIL'\n",
      " 'POLSH' 'GLITS' 'UKR' 'SLVN' 'PORT' 'SCAND' 'PHYS' 'SPLING' 'MUSIC'\n",
      " 'SLAVIC' 'RUSS' 'PSYCH' 'CEP' 'CM' 'SPHSC' 'STAT' 'ACCTG' 'ARCH' 'ENTRE'\n",
      " 'SOC' 'FIN' 'SPAN' 'QMETH' 'OPMGT' 'MGMT' 'DPHS' 'MKTG' 'ORALM' 'OHS'\n",
      " 'ORTHO' 'ECE' 'PERIO' 'ECFS' 'EDUC' 'NME' 'EDSPE' 'CEE' 'EDPSY' 'EDLPS'\n",
      " 'ENGR' 'HCDE' 'BSE' 'FISH' 'FHL' 'MARBIO' 'ENVIR' 'SMEA' 'GRDSCH' 'ESRM'\n",
      " 'INFO' 'OCEAN' 'ESS' 'LAW' 'NUTR' 'UCONJ' 'BIOC' 'ANEST' 'BIME' 'BIOEN'\n",
      " 'IMMUN' 'GENOME' 'CONJ' 'PATH' 'MED' 'FAMED' 'OPHTH' 'OTOHN' 'ORTHP'\n",
      " 'PHCOL' 'IECMH' 'RADGY' 'UROL' 'PBSCI' 'NEURL' 'SURG' 'NMETH' 'NCLIN'\n",
      " 'PEDS' 'REHAB' 'MEDCH' 'PCEUT' 'PHARM' 'NURS' 'PUBPOL' 'HIHIM' 'BIOST'\n",
      " 'EPI' 'PABIO' 'PHG' 'SPH' 'LEAD' 'HONORS' 'HSERV']\n",
      "True\n"
     ]
    }
   ],
   "source": [
    "departments = df_final['department_abbrev'].unique()\n",
    "print(departments)\n",
    "\n",
    "print('CSE' in departments)"
   ]
  },
  {
   "cell_type": "code",
   "execution_count": 18,
   "metadata": {},
   "outputs": [
    {
     "name": "stdout",
     "output_type": "stream",
     "text": [
      "SWA101    SWA 101\n",
      "SWA102    SWA 102\n",
      "SWA103    SWA 103\n",
      "SWA134    SWA 134\n",
      "SWA201    SWA 201\n",
      "Name: course_id, dtype: object\n"
     ]
    }
   ],
   "source": [
    "print(df_final['course_id'].head())"
   ]
  }
 ],
 "metadata": {
  "kernelspec": {
   "display_name": "3.11.0",
   "language": "python",
   "name": "python3"
  },
  "language_info": {
   "codemirror_mode": {
    "name": "ipython",
    "version": 3
   },
   "file_extension": ".py",
   "mimetype": "text/x-python",
   "name": "python",
   "nbconvert_exporter": "python",
   "pygments_lexer": "ipython3",
   "version": "3.11.0"
  }
 },
 "nbformat": 4,
 "nbformat_minor": 2
}
