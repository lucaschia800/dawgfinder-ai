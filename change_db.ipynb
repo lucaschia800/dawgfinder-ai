{
 "cells": [
  {
   "cell_type": "code",
   "execution_count": 1,
   "metadata": {},
   "outputs": [],
   "source": [
    "import sqlite3\n",
    "\n",
    "from sqlalchemy import (\n",
    "    create_engine,\n",
    "    MetaData,\n",
    "    Table,\n",
    "    Column,\n",
    "    String,\n",
    "    Integer,\n",
    "    select,\n",
    "    text\n",
    "\n",
    ")\n",
    "\n",
    "from sqlalchemy.orm import sessionmaker\n",
    "\n",
    "import pandas as pd     "
   ]
  },
  {
   "cell_type": "code",
   "execution_count": 8,
   "metadata": {},
   "outputs": [],
   "source": [
    "df = pd.read_json('data.json').T"
   ]
  },
  {
   "cell_type": "code",
   "execution_count": 10,
   "metadata": {},
   "outputs": [
    {
     "name": "stdout",
     "output_type": "stream",
     "text": [
      "                                              coi_data  \\\n",
      "100  {'course_coi': None, 'course_level_coi': 0.0, ...   \n",
      "101  {'course_coi': 0.9, 'course_level_coi': 0.0, '...   \n",
      "150  {'course_coi': None, 'course_level_coi': 0.0, ...   \n",
      "202  {'course_coi': None, 'course_level_coi': -0.1,...   \n",
      "203  {'course_coi': -1.4, 'course_level_coi': -0.1,...   \n",
      "\n",
      "                                    concurrent_courses course_campus  \\\n",
      "100                                               None       seattle   \n",
      "101                                               None       seattle   \n",
      "150                                               None       seattle   \n",
      "202                                                 {}       seattle   \n",
      "203  {'ANTH 305': {'coi_score': -0.4, 'is_bottlenec...       seattle   \n",
      "\n",
      "    course_credits                                 course_description  \\\n",
      "100            5.0                                               None   \n",
      "101            5.0  Introduces perspectives from sociocultural ant...   \n",
      "150            5.0  Examines social justice issues with the aim of...   \n",
      "202            5.0                                               None   \n",
      "203            5.0  Linguistic methods and theories used within an...   \n",
      "\n",
      "    course_id          course_offered  \\\n",
      "100  ANTH 100                    None   \n",
      "101  ANTH 101                    None   \n",
      "150  ANTH 150                    None   \n",
      "202  ANTH 202                    None   \n",
      "203  ANTH 203  jointly with LING 203.   \n",
      "\n",
      "                                          course_title department_abbrev  \\\n",
      "100                       Introduction to Anthropology              ANTH   \n",
      "101               Exploring Sociocultural Anthropology              ANTH   \n",
      "150  Culture and Rights: Exploring the Meaning and ...              ANTH   \n",
      "202           Principles of Sociocultural Anthropology              ANTH   \n",
      "203        Introduction to Anthropological Linguistics              ANTH   \n",
      "\n",
      "                                            gpa_distro is_bottleneck  \\\n",
      "100                                                 []         False   \n",
      "101  [{'count': 10, 'gpa': '0'}, {'count': 0, 'gpa'...         False   \n",
      "150                                                 []         False   \n",
      "202  [{'count': 6, 'gpa': '0'}, {'count': 0, 'gpa':...         False   \n",
      "203  [{'count': 18, 'gpa': '0'}, {'count': 0, 'gpa'...         False   \n",
      "\n",
      "    is_gateway                                       prereq_graph  \\\n",
      "100      False                                               None   \n",
      "101      False                                               None   \n",
      "150      False                                               None   \n",
      "202      False  {'x': {'edges': {'from': {}, 'pr_and_or': {}, ...   \n",
      "203      False  {'x': {'edges': {'from': {'295': 'ANTH 203', '...   \n",
      "\n",
      "    prereq_string  \n",
      "100          None  \n",
      "101          None  \n",
      "150          None  \n",
      "202          None  \n",
      "203          None  \n"
     ]
    }
   ],
   "source": [
    "print(df.head())"
   ]
  }
 ],
 "metadata": {
  "kernelspec": {
   "display_name": "3.11.0",
   "language": "python",
   "name": "python3"
  },
  "language_info": {
   "codemirror_mode": {
    "name": "ipython",
    "version": 3
   },
   "file_extension": ".py",
   "mimetype": "text/x-python",
   "name": "python",
   "nbconvert_exporter": "python",
   "pygments_lexer": "ipython3",
   "version": "3.11.0"
  }
 },
 "nbformat": 4,
 "nbformat_minor": 2
}
