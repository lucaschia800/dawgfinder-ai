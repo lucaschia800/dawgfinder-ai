{
 "cells": [
  {
   "cell_type": "code",
   "execution_count": 2,
   "metadata": {},
   "outputs": [
    {
     "name": "stderr",
     "output_type": "stream",
     "text": [
      "c:\\Users\\lucas\\.pyenv\\pyenv-win\\versions\\3.11.0\\Lib\\site-packages\\pinecone\\data\\index.py:1: TqdmWarning: IProgress not found. Please update jupyter and ipywidgets. See https://ipywidgets.readthedocs.io/en/stable/user_install.html\n",
      "  from tqdm.autonotebook import tqdm\n"
     ]
    }
   ],
   "source": [
    "from llama_index.core import SQLDatabase\n",
    "from llama_index.llms.openai import OpenAI\n",
    "import os\n",
    "from pinecone import Pinecone\n",
    "from langchain_pinecone import PineconeVectorStore\n",
    "from langchain_openai import OpenAIEmbeddings \n",
    "import openai \n",
    "import numpy as np"
   ]
  },
  {
   "cell_type": "code",
   "execution_count": null,
   "metadata": {},
   "outputs": [],
   "source": [
    "api_key = os.getenv(\"OPENAI_API_KEY\")\n",
    "openai.api_key = api_key\n",
    "\n",
    "\n",
    "pinecone_api_key = os.environ.get(\"pinecone_API\")\n",
    "\n",
    "\n",
    "pc = Pinecone(api_key=pinecone_api_key)\n",
    "embedder = OpenAIEmbeddings(model=\"text-embedding-3-small\")\n",
    "teacher_vector_store = PineconeVectorStore(pc.Index(\"\"), embedding = embedder)"
   ]
  },
  {
   "cell_type": "code",
   "execution_count": 5,
   "metadata": {},
   "outputs": [],
   "source": [
    "returns = teacher_vector_store._similarity_search_with_relevance_scores(\"show classes with stuartt regiss\", k = 5)"
   ]
  },
  {
   "cell_type": "code",
   "execution_count": 6,
   "metadata": {},
   "outputs": [
    {
     "name": "stdout",
     "output_type": "stream",
     "text": [
      "[(Document(id='492a61ac-9abd-479b-b47d-a693f77ea560', metadata={}, page_content='Stuart Reges'), 0.7863365), (Document(id='68fc5d10-ab03-489d-9731-63b163e6f89c', metadata={}, page_content='Stuart Taylor'), 0.742508352), (Document(id='f76eb709-b352-43aa-85a3-8d2e8967e854', metadata={}, page_content='STUART GORDON'), 0.738135621), (Document(id='57a6dde1-2cdc-4fea-8a4c-bd3adb4de97a', metadata={}, page_content='Stuart Moore'), 0.7353447825), (Document(id='eb2aad0a-53c6-43a5-8d0f-28d90eb79d9a', metadata={}, page_content='Stuart B. Adler'), 0.7207189055000001)]\n"
     ]
    }
   ],
   "source": [
    "print(returns)"
   ]
  }
 ],
 "metadata": {
  "kernelspec": {
   "display_name": "3.11.0",
   "language": "python",
   "name": "python3"
  },
  "language_info": {
   "codemirror_mode": {
    "name": "ipython",
    "version": 3
   },
   "file_extension": ".py",
   "mimetype": "text/x-python",
   "name": "python",
   "nbconvert_exporter": "python",
   "pygments_lexer": "ipython3",
   "version": "3.11.0"
  }
 },
 "nbformat": 4,
 "nbformat_minor": 2
}
