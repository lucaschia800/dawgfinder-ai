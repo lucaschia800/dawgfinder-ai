{
 "cells": [
  {
   "cell_type": "code",
   "execution_count": 1,
   "metadata": {},
   "outputs": [],
   "source": [
    "import sqlite3\n",
    "\n",
    "from sqlalchemy import (\n",
    "    create_engine,\n",
    "    MetaData,\n",
    "    Table,\n",
    "    Column,\n",
    "    String,\n",
    "    Integer,\n",
    "    select,\n",
    "    text\n",
    "\n",
    ")\n",
    "\n",
    "from sqlalchemy.orm import sessionmaker\n",
    "\n",
    "import pandas as pd     "
   ]
  },
  {
   "cell_type": "code",
   "execution_count": 25,
   "metadata": {},
   "outputs": [],
   "source": [
    "df = pd.read_json('catalog.json').T"
   ]
  },
  {
   "cell_type": "code",
   "execution_count": 18,
   "metadata": {},
   "outputs": [
    {
     "name": "stdout",
     "output_type": "stream",
     "text": [
      "SWA101    {'course_coi': 1.7000000000000002, 'course_lev...\n",
      "SWA102    {'course_coi': 1.5, 'course_level_coi': 0.0, '...\n",
      "Name: coi_data, dtype: object\n",
      "{'SWA101': {'course_coi': 1.7000000000000002, 'course_level_coi': 0.0, 'curric_coi': 1.6, 'percent_in_range': 62.2}, 'SWA102': {'course_coi': 1.5, 'course_level_coi': 0.0, 'curric_coi': 1.6, 'percent_in_range': 62.2}}\n",
      "Index(['coi_data', 'concurrent_courses', 'course_campus', 'course_credits',\n",
      "       'course_description', 'course_id', 'course_offered', 'course_title',\n",
      "       'department_abbrev', 'gpa_distro', 'is_bottleneck', 'is_gateway',\n",
      "       'prereq_graph', 'prereq_string'],\n",
      "      dtype='object')\n"
     ]
    }
   ],
   "source": [
    "print(df['coi_data'][0:2])\n",
    "dict = df['coi_data'][0:2].to_dict()\n",
    "print(dict)\n",
    "print(df.columns)"
   ]
  },
  {
   "cell_type": "code",
   "execution_count": null,
   "metadata": {},
   "outputs": [
    {
     "name": "stdout",
     "output_type": "stream",
     "text": [
      "SWA101      {'x': {'edges': {'from': {'8590': 'SWA 101'}, ...\n",
      "SWA102      {'x': {'edges': {'from': {'8590': 'SWA 101', '...\n",
      "SWA103      {'x': {'edges': {'from': {'8591': 'SWA 102', '...\n",
      "SWA134      {'x': {'edges': {'from': {'8593': 'SWA 134'}, ...\n",
      "SWA201      {'x': {'edges': {'from': {'8592': 'SWA 103', '...\n",
      "                                  ...                        \n",
      "HSERV482                                                 None\n",
      "HSERV488                                                 None\n",
      "HSERV490                                                 None\n",
      "HSERV493                                                 None\n",
      "HSERV499                                                 None\n",
      "Name: prereq_graph, Length: 5777, dtype: object\n"
     ]
    }
   ],
   "source": [
    "dropped_df = df.drop(columns=['is_gateway', 'prereq_graph', 'coi_data', ''])"
   ]
  },
  {
   "cell_type": "code",
   "execution_count": null,
   "metadata": {},
   "outputs": [
    {
     "name": "stdout",
     "output_type": "stream",
     "text": [
      "589\n"
     ]
    }
   ],
   "source": [
    "#course offered contains values outside of seasons\n",
    "\n",
    "print(df['course_offered'].nunique())"
   ]
  },
  {
   "cell_type": "code",
   "execution_count": null,
   "metadata": {},
   "outputs": [
    {
     "name": "stdout",
     "output_type": "stream",
     "text": [
      "4\n"
     ]
    }
   ],
   "source": [
    "#filter out values that are not seasons\n",
    "seasons = ['S.', 'A.', 'W.', 'Sp.']\n",
    "\n",
    "df = df[df['course_offered'].isin(seasons)]\n"
   ]
  },
  {
   "cell_type": "code",
   "execution_count": 27,
   "metadata": {},
   "outputs": [
    {
     "name": "stdout",
     "output_type": "stream",
     "text": [
      "5777\n",
      "5777\n"
     ]
    }
   ],
   "source": [
    "#confirm class id is unique\n",
    "print(len(df))\n",
    "print(df['course_id'].nunique())"
   ]
  },
  {
   "cell_type": "code",
   "execution_count": 30,
   "metadata": {},
   "outputs": [
    {
     "name": "stdout",
     "output_type": "stream",
     "text": [
      "Index(['course_id',           0,           1,           2,           3,\n",
      "                 4,           5,           6,           7,           8,\n",
      "                 9,          10,          11,          12,          13,\n",
      "                14,          15,          16,          17,          18,\n",
      "                19,          20,          21,          22,          23,\n",
      "                24,          25,          26,          27,          28,\n",
      "                29,          30,          31,          32,          33,\n",
      "                34,          35,          36,          37,          38,\n",
      "                39,          40],\n",
      "      dtype='object')\n"
     ]
    }
   ],
   "source": [
    "#create mean gpa\n",
    "\n",
    "gpa_data = pd.concat([df['course_id'], df['gpa_distro'].apply(pd.Series)], axis=1)\n",
    "print(gpa_data.columns)\n"
   ]
  }
 ],
 "metadata": {
  "kernelspec": {
   "display_name": "3.11.0",
   "language": "python",
   "name": "python3"
  },
  "language_info": {
   "codemirror_mode": {
    "name": "ipython",
    "version": 3
   },
   "file_extension": ".py",
   "mimetype": "text/x-python",
   "name": "python",
   "nbconvert_exporter": "python",
   "pygments_lexer": "ipython3",
   "version": "3.11.0"
  }
 },
 "nbformat": 4,
 "nbformat_minor": 2
}
